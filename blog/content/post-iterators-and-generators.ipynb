{
 "cells": [
  {
   "cell_type": "markdown",
   "metadata": {},
   "source": [
    "# In which I reiterate how important it is to generate a proper appreciation for Iterators and Generators. \n",
    "\n",
    "If you have done any Python at all you've probably come across the concepts *iterator* and *generator*, they sound a little intimidating but are actually very cuddly. This post tries to clearly define these (and related) terms, and also show you how and when to use these guys. We'll start with iterator stuff, and end with generator stuff.\n",
    "\n",
    "As always:"
   ]
  },
  {
   "cell_type": "code",
   "execution_count": 249,
   "metadata": {
    "collapsed": true
   },
   "outputs": [],
   "source": [
    "import numpy as np\n",
    "import matplotlib.pyplot as plt\n",
    "import itertools as it"
   ]
  },
  {
   "cell_type": "markdown",
   "metadata": {},
   "source": [
    "# Container vs. Iterator vs. Iterable\n",
    "Unfortunately these terms are thrown around very sloppily, so first let's clear up the syntax. To summarize an [excellent blog post by Vincent Driessen](nsnvie.com/posts/iterators-vs-generators/):\n",
    "\n",
    "- a **container** is any object that holds stuff and can be asked if it *contains* a certain element (think `dict`, `list`, `set`).\n",
    "- an **`iterator`** is any object that remembers its state so it can produce the next value in a sequence when `next()` is called on it.\n",
    "- an **iterable** is any object that can produce an `iterator` when `iter()` is called on it (most containers are iterable).\n",
    "\n",
    "Some examples are in order at this point."
   ]
  },
  {
   "cell_type": "markdown",
   "metadata": {},
   "source": [
    "**We can ask the `list` if it \"contains\" a certain element thus a `list` is a container!**"
   ]
  },
  {
   "cell_type": "code",
   "execution_count": 143,
   "metadata": {
    "collapsed": false
   },
   "outputs": [
    {
     "data": {
      "text/plain": [
       "True"
      ]
     },
     "execution_count": 143,
     "metadata": {},
     "output_type": "execute_result"
    }
   ],
   "source": [
    "li = [1, 2, 3]\n",
    "2 in li"
   ]
  },
  {
   "cell_type": "markdown",
   "metadata": {},
   "source": [
    "**We can make an `iterator` object by calling `iter()` on the list, thus the list is an iterable!** "
   ]
  },
  {
   "cell_type": "code",
   "execution_count": 144,
   "metadata": {
    "collapsed": false
   },
   "outputs": [
    {
     "data": {
      "text/plain": [
       "list_iterator"
      ]
     },
     "execution_count": 144,
     "metadata": {},
     "output_type": "execute_result"
    }
   ],
   "source": [
    "li_itr = iter(li) \n",
    "type(li_itr)"
   ]
  },
  {
   "cell_type": "markdown",
   "metadata": {},
   "source": [
    "**We can call `next()` on `li_it`, thus we confirm that `li_it` really is an iterator.**"
   ]
  },
  {
   "cell_type": "code",
   "execution_count": 145,
   "metadata": {
    "collapsed": false
   },
   "outputs": [
    {
     "data": {
      "text/plain": [
       "(1, 2)"
      ]
     },
     "execution_count": 145,
     "metadata": {},
     "output_type": "execute_result"
    }
   ],
   "source": [
    "next(li_itr), next(li_itr)"
   ]
  },
  {
   "cell_type": "markdown",
   "metadata": {},
   "source": [
    "# Fun with Iterators\n",
    "What makes an object an `iterator` is having a defined behavior under the built-in `next()`. Each call of `next()` will return the next element of the iterator, starting with the first element and ending with raising an exception after all the elements have been pulled.\n",
    "\n",
    "## `for` Loops \n",
    "Think you've never used an iterator? Wrong, you've been using them like crazy. The `for` syntax that lets us loop with ease through container objects is secretly using the iterator protocol. This:"
   ]
  },
  {
   "cell_type": "code",
   "execution_count": 146,
   "metadata": {
    "collapsed": false
   },
   "outputs": [
    {
     "name": "stdout",
     "output_type": "stream",
     "text": [
      "1\n",
      "2\n",
      "3\n"
     ]
    }
   ],
   "source": [
    "li = [1, 2, 3]\n",
    "for elem in li:\n",
    "    print(elem)"
   ]
  },
  {
   "cell_type": "markdown",
   "metadata": {},
   "source": [
    "is actually implemented kinda like this:"
   ]
  },
  {
   "cell_type": "code",
   "execution_count": 147,
   "metadata": {
    "collapsed": false
   },
   "outputs": [
    {
     "name": "stdout",
     "output_type": "stream",
     "text": [
      "1\n",
      "2\n",
      "3\n"
     ]
    }
   ],
   "source": [
    "itr = iter(li)\n",
    "while True:\n",
    "    try:\n",
    "        print(next(itr))\n",
    "    except StopIteration:\n",
    "        break"
   ]
  },
  {
   "cell_type": "markdown",
   "metadata": {},
   "source": [
    "In python, you can call `iter()` on most container objects to get their equivalent `iterator`. Some maybe less obvious examples are:"
   ]
  },
  {
   "cell_type": "code",
   "execution_count": 148,
   "metadata": {
    "collapsed": false
   },
   "outputs": [
    {
     "data": {
      "text/plain": [
       "'two'"
      ]
     },
     "execution_count": 148,
     "metadata": {},
     "output_type": "execute_result"
    }
   ],
   "source": [
    "dict_itr = iter({'one':1, 'two':2}) \n",
    "next(dict_itr)"
   ]
  },
  {
   "cell_type": "code",
   "execution_count": 149,
   "metadata": {
    "collapsed": false
   },
   "outputs": [
    {
     "data": {
      "text/plain": [
       "'a'"
      ]
     },
     "execution_count": 149,
     "metadata": {},
     "output_type": "execute_result"
    }
   ],
   "source": [
    "str_itr = iter(\"alohamora\")\n",
    "next(str_itr)"
   ]
  },
  {
   "cell_type": "markdown",
   "metadata": {},
   "source": [
    "## Itertools Module\n",
    "The `itertools` module of the standard library implements many different kinds of useful `iterators` and iterator-centric functionality - I want to highlight some of the most useful stuff. I like to use the import name `it`, but I don't know if that's a very common convention."
   ]
  },
  {
   "cell_type": "markdown",
   "metadata": {},
   "source": [
    "### Count indefinitely from some number by some increment with `count()`"
   ]
  },
  {
   "cell_type": "code",
   "execution_count": 47,
   "metadata": {
    "collapsed": false
   },
   "outputs": [
    {
     "data": {
      "text/plain": [
       "(3.26, 3.46)"
      ]
     },
     "execution_count": 47,
     "metadata": {},
     "output_type": "execute_result"
    }
   ],
   "source": [
    "cnt = it.count(start=3.26, step=0.2)\n",
    "next(cnt), next(cnt)"
   ]
  },
  {
   "cell_type": "markdown",
   "metadata": {},
   "source": [
    "### Cycle indefinitely through a finite list with `cycle()`."
   ]
  },
  {
   "cell_type": "code",
   "execution_count": 48,
   "metadata": {
    "collapsed": false
   },
   "outputs": [
    {
     "data": {
      "text/plain": [
       "('a', 'b', 'a')"
      ]
     },
     "execution_count": 48,
     "metadata": {},
     "output_type": "execute_result"
    }
   ],
   "source": [
    "cyc = it.cycle([\"a\", \"b\"])\n",
    "next(cyc), next(cyc), next(cyc)"
   ]
  },
  {
   "cell_type": "markdown",
   "metadata": {},
   "source": [
    "### Chain iterators together with `chain()`."
   ]
  },
  {
   "cell_type": "code",
   "execution_count": 138,
   "metadata": {
    "collapsed": true
   },
   "outputs": [],
   "source": [
    "itr1 = iter(\"ab\")\n",
    "itr2 = iter([1, 2])\n",
    "itr_chain = it.chain(itr1, itr2)"
   ]
  },
  {
   "cell_type": "code",
   "execution_count": 139,
   "metadata": {
    "collapsed": false
   },
   "outputs": [
    {
     "data": {
      "text/plain": [
       "('a', 'b', 1)"
      ]
     },
     "execution_count": 139,
     "metadata": {},
     "output_type": "execute_result"
    }
   ],
   "source": [
    "next(itr_chain), next(itr_chain), next(itr_chain)"
   ]
  },
  {
   "cell_type": "markdown",
   "metadata": {},
   "source": [
    "### Slice an iterator with `islice()`!\n",
    "Normally iterators don't support the slice sytnax, but itertools `islice` implements this!"
   ]
  },
  {
   "cell_type": "code",
   "execution_count": 119,
   "metadata": {
    "collapsed": true
   },
   "outputs": [],
   "source": [
    "cnt = it.count(start=0.5, step=1)\n",
    "cnt_slc = it.islice(cnt, 3, 6)"
   ]
  },
  {
   "cell_type": "code",
   "execution_count": 120,
   "metadata": {
    "collapsed": false,
    "scrolled": true
   },
   "outputs": [
    {
     "name": "stdout",
     "output_type": "stream",
     "text": [
      "3.5\n",
      "4.5\n",
      "5.5\n"
     ]
    }
   ],
   "source": [
    "for elem in cnt_slc:\n",
    "    print(elem)"
   ]
  },
  {
   "cell_type": "markdown",
   "metadata": {},
   "source": [
    "You can also check out:\n",
    "- the [full itertools docs](https://docs.python.org/2/library/itertools.html).\n",
    "- a great [intro to itertools by Justin Duke](http://jmduke.com/posts/a-gentle-introduction-to-itertools/)"
   ]
  },
  {
   "cell_type": "markdown",
   "metadata": {},
   "source": [
    "## Making Your Own Iterators (skip this if you never use classes)\n",
    "We can make our own classes which are iterators simply by exposing methods `__next__` and `__iter__`. Calling `next()` on these guys will cause Python to search the class for a `__next__` method. Lets make a class that defines objects who iterate through the integers:"
   ]
  },
  {
   "cell_type": "code",
   "execution_count": 45,
   "metadata": {
    "collapsed": true
   },
   "outputs": [],
   "source": [
    "class int_iter:\n",
    "    def __init__(self, start_int):\n",
    "        self.curr_value = start_int\n",
    "    \n",
    "    def __iter__(self):\n",
    "        return self\n",
    "    \n",
    "    def __next__(self):\n",
    "        temp = self.curr_value\n",
    "        self.curr_value += 1  # Update this attribute to the next integer value\n",
    "        return temp  # Return the previous \"current value\""
   ]
  },
  {
   "cell_type": "code",
   "execution_count": 46,
   "metadata": {
    "collapsed": false,
    "scrolled": true
   },
   "outputs": [
    {
     "data": {
      "text/plain": [
       "(10, 11)"
      ]
     },
     "execution_count": 46,
     "metadata": {},
     "output_type": "execute_result"
    }
   ],
   "source": [
    "my_it = int_iter(10)\n",
    "next(my_it), next(my_it)"
   ]
  },
  {
   "cell_type": "markdown",
   "metadata": {},
   "source": [
    "# Generators\n",
    "Now that you know about iterators, you're in a position to understand generators. Sadly here there is an even more ambiguous usage of terms, so let me straighten out the syntax first:\n",
    "\n",
    "- a **generator iterator** is an object that can temporarily freeze it's execution, but later pick up exactly where it left-off. It is a true python `iterator`!\n",
    "- a **generator function** is a function that returns a generator iterator object. It is a true python `function`!\n",
    "- a **generator** is apparently whatever the hell you want it to be. (it gets used to mean both of the above).\n",
    "\n",
    "Generator functions are *functions* that return generator iterators, which are *iterators*. Use the term *generator* with reckless abandon to sew confusion and angst.\n",
    "\n",
    "## Write Generator Functions with `yield`\n",
    "In python you write a generator function just like a normal function, but you use the keyword `yield` instead of `return`. **Each appearance of `yield` is a place where the returned generator iterator will freeze and then can later pick back up from that point.** You don't explicitly `return` anything from a generator function, instead calling it will implicitly return a generator iterator. Was that sufficiently confusing? Here's an example:"
   ]
  },
  {
   "cell_type": "code",
   "execution_count": 86,
   "metadata": {
    "collapsed": true
   },
   "outputs": [],
   "source": [
    "# Define a Generator Function\n",
    "def gen_fun(val):\n",
    "    yield val\n",
    "    yield val*2\n",
    "    yield \"wheee!\"\n",
    "    # Nothing explicitly \"returned\", a Generator Iterator will be implicitly returned though."
   ]
  },
  {
   "cell_type": "code",
   "execution_count": 87,
   "metadata": {
    "collapsed": false
   },
   "outputs": [],
   "source": [
    "# Call the Generator Function to get a Generator Iterator\n",
    "gen_it = gen_fun(5)"
   ]
  },
  {
   "cell_type": "markdown",
   "metadata": {},
   "source": [
    "I called my generator function and captured the generator iterator it returned. Here (I think) is why this topic is so confusing to people: **For a normal function you look at the definition to see what it will do. But for a generator function you look at the definition to see what the returned generator iterator will do. The generator function itself doesn't do anything, except return generator iterators.**\n",
    "\n",
    "The behavior of my iterator `gen_it` is defined by the yields inside the `gen_fun` definition. At each `yield` it will render up the `yield`ed value and pause until `next()` is called again. If we hit the end of the function block then the game is up and the call to `next()` will raise `StopIteration`. I like the way [Jeff Knupp puts it](http://jeffknupp.com/blog/2013/04/07/improve-your-python-yield-and-generators-explained/): `yield` rather than `return` implies a temporary passing back of control with the expectation that the iterator will get to continue it's work at some point."
   ]
  },
  {
   "cell_type": "code",
   "execution_count": 88,
   "metadata": {
    "collapsed": false
   },
   "outputs": [
    {
     "data": {
      "text/plain": [
       "5"
      ]
     },
     "execution_count": 88,
     "metadata": {},
     "output_type": "execute_result"
    }
   ],
   "source": [
    "next(gen_it)"
   ]
  },
  {
   "cell_type": "code",
   "execution_count": 89,
   "metadata": {
    "collapsed": false,
    "scrolled": true
   },
   "outputs": [
    {
     "name": "stdout",
     "output_type": "stream",
     "text": [
      "10\n",
      "wheee!\n"
     ]
    }
   ],
   "source": [
    "for elem in gen_it: \n",
    "    print(elem)"
   ]
  },
  {
   "cell_type": "markdown",
   "metadata": {},
   "source": [
    "See, a generator iterator is just an `iterator`, so all of the stuff you learned above applies. "
   ]
  },
  {
   "cell_type": "markdown",
   "metadata": {},
   "source": [
    "## Generator Functions Can Produce Very Flexible Iterators\n",
    "Generator functions can create more powerful and flexible iterators than just calling `iter()` on a container can. Here's something you couldn't ever get from `iter(container)`."
   ]
  },
  {
   "cell_type": "code",
   "execution_count": 74,
   "metadata": {
    "collapsed": true
   },
   "outputs": [],
   "source": [
    "def reverse(data):\n",
    "    '''Yield elements of a container in reverse.'''\n",
    "    idx= -1\n",
    "    while True:\n",
    "        yield data[idx]  # Here it will pause until next() is called again\n",
    "        idx -= 1"
   ]
  },
  {
   "cell_type": "code",
   "execution_count": 76,
   "metadata": {
    "collapsed": false
   },
   "outputs": [
    {
     "data": {
      "text/plain": [
       "('d', 'o', 'g')"
      ]
     },
     "execution_count": 76,
     "metadata": {},
     "output_type": "execute_result"
    }
   ],
   "source": [
    "gen_it = reverse(\"god\")\n",
    "next(gen_it), next(gen_it), next(gen_it)"
   ]
  },
  {
   "cell_type": "markdown",
   "metadata": {},
   "source": [
    "A generator iterator acts just like a function whose complete state is preserved even while it's execution is suspended. You may know that when a typical function executes, all it's work happens on the stack (a special space in memory), and when that function returns or excepts all that space on the stack is reclaimed like the whole thing never happened. **A generator iterator acts like a function that gets to stay on the stack until it's done `yield`ing.**"
   ]
  },
  {
   "cell_type": "markdown",
   "metadata": {},
   "source": [
    "## Generator Functions can Construct An Ensemble of Iterators\n",
    "Generator functions act like constructors for generator iterator objects. We can pass different values to the constructor in order to get back slightly different generator iterators. For example, if we want an iterator that yields the first $n$ non-negative integers, and we want $n$ to be able to take any value."
   ]
  },
  {
   "cell_type": "code",
   "execution_count": 101,
   "metadata": {
    "collapsed": true
   },
   "outputs": [],
   "source": [
    "def firstn(n):\n",
    "    '''Yield first n non-negative integers.'''\n",
    "    num = 0\n",
    "    while num < n:\n",
    "        yield num\n",
    "        num += 1"
   ]
  },
  {
   "cell_type": "code",
   "execution_count": 102,
   "metadata": {
    "collapsed": false
   },
   "outputs": [
    {
     "data": {
      "text/plain": [
       "[0, 1, 2]"
      ]
     },
     "execution_count": 102,
     "metadata": {},
     "output_type": "execute_result"
    }
   ],
   "source": [
    "gen_it = firstn(3)\n",
    "list(gen_it)"
   ]
  },
  {
   "cell_type": "code",
   "execution_count": 103,
   "metadata": {
    "collapsed": false
   },
   "outputs": [
    {
     "data": {
      "text/plain": [
       "[0, 1, 2, 3, 4, 5]"
      ]
     },
     "execution_count": 103,
     "metadata": {},
     "output_type": "execute_result"
    }
   ],
   "source": [
    "gen_it = firstn(6)\n",
    "list(gen_it)"
   ]
  },
  {
   "cell_type": "markdown",
   "metadata": {},
   "source": [
    "## Generator Expressions Instead of List Comps\n",
    "Ever made a list, iterated through it's elements once, and then never looked at it again? So now you know that a more memory efficient thing would be to make a generator iterator that creates and yields those elements one by one. Python knows you love the simplicity of list comprehension syntax, so **Generator Expression syntax lets you build a generator iterator as easily as you would build a list with list comp.** The syntax looks just like list comprehension except it has parentheses instead of brackets! "
   ]
  },
  {
   "cell_type": "code",
   "execution_count": 106,
   "metadata": {
    "collapsed": false
   },
   "outputs": [
    {
     "data": {
      "text/plain": [
       "4950"
      ]
     },
     "execution_count": 106,
     "metadata": {},
     "output_type": "execute_result"
    }
   ],
   "source": [
    "# As a list comp\n",
    "li = [n for n in range(100)]\n",
    "sum(li)"
   ]
  },
  {
   "cell_type": "code",
   "execution_count": 107,
   "metadata": {
    "collapsed": false
   },
   "outputs": [
    {
     "data": {
      "text/plain": [
       "4950"
      ]
     },
     "execution_count": 107,
     "metadata": {},
     "output_type": "execute_result"
    }
   ],
   "source": [
    "# More efficiently as a generator expression\n",
    "gen_it = (n for n in range(100))\n",
    "sum(gen_it)"
   ]
  },
  {
   "cell_type": "markdown",
   "metadata": {},
   "source": [
    "**Generator expressions are prefereable when you need the list only once as an intermediary (see [here](http://stackoverflow.com/questions/47789/generator-expressions-vs-list-comprehension)).** The generator expression approach requires less continugous memory and is faster. As a neat aside: list comprehension is actually just a generator expression wrapped inside a list constructor!"
   ]
  },
  {
   "cell_type": "code",
   "execution_count": 97,
   "metadata": {
    "collapsed": false
   },
   "outputs": [
    {
     "name": "stdout",
     "output_type": "stream",
     "text": [
      "10 loops, best of 3: 99.2 ms per loop\n"
     ]
    }
   ],
   "source": [
    "%timeit sum(n for n in range(1000000))  # Here we can omit the parentheses for the gen. expr."
   ]
  },
  {
   "cell_type": "code",
   "execution_count": 99,
   "metadata": {
    "collapsed": false
   },
   "outputs": [
    {
     "name": "stdout",
     "output_type": "stream",
     "text": [
      "10 loops, best of 3: 112 ms per loop\n"
     ]
    }
   ],
   "source": [
    "%timeit sum([n for n in range(1000000)])"
   ]
  },
  {
   "cell_type": "markdown",
   "metadata": {},
   "source": [
    "One possible reason to prefer list comprehension is when you need any of the list methods like slicing, `sorted`, `reversed` etc. For instance you can do:"
   ]
  },
  {
   "cell_type": "code",
   "execution_count": 109,
   "metadata": {
    "collapsed": false
   },
   "outputs": [
    {
     "data": {
      "text/plain": [
       "[4, 9]"
      ]
     },
     "execution_count": 109,
     "metadata": {},
     "output_type": "execute_result"
    }
   ],
   "source": [
    "[x**2 for x in range(0, 10, 1)][2:4]"
   ]
  },
  {
   "cell_type": "markdown",
   "metadata": {},
   "source": [
    "Of course if we make use of `itertools` `islice` function then we can get a generator that is a slice of another generator:"
   ]
  },
  {
   "cell_type": "code",
   "execution_count": 112,
   "metadata": {
    "collapsed": false
   },
   "outputs": [
    {
     "data": {
      "text/plain": [
       "(4, 9)"
      ]
     },
     "execution_count": 112,
     "metadata": {},
     "output_type": "execute_result"
    }
   ],
   "source": [
    "slice_it = it.islice((x**2 for x in range(0, 10, 1)), 2, 4)\n",
    "next(slice_it), next(slice_it)"
   ]
  },
  {
   "cell_type": "markdown",
   "metadata": {},
   "source": [
    "# Practice Problems"
   ]
  },
  {
   "cell_type": "markdown",
   "metadata": {},
   "source": [
    "### Make an iterator from a list, and get the first value from that iterator."
   ]
  },
  {
   "cell_type": "code",
   "execution_count": 140,
   "metadata": {
    "collapsed": true
   },
   "outputs": [],
   "source": [
    "li = [1, 2, 3]\n",
    "li_it = iter(li)\n",
    "firstval = next(li_it)"
   ]
  },
  {
   "cell_type": "markdown",
   "metadata": {},
   "source": [
    "### Calculate the sum of the first 100 integers that are divisible by 7. Don't build a list in memory. You can use `range()`."
   ]
  },
  {
   "cell_type": "code",
   "execution_count": 204,
   "metadata": {
    "collapsed": false
   },
   "outputs": [
    {
     "data": {
      "text/plain": [
       "2842"
      ]
     },
     "execution_count": 204,
     "metadata": {},
     "output_type": "execute_result"
    }
   ],
   "source": [
    "sum(x for x in range(200) if x%7 == 0)"
   ]
  },
  {
   "cell_type": "markdown",
   "metadata": {},
   "source": [
    "### Write a generator function that outputs \"random walk\" generator iterators with any given starting point. Specifically, each iterator should produce values that are a random walk on the integers starting from the specified start point and drawing a \"step\" from the uniform distribution on [-5, 5]. Use `numpy.randint()`."
   ]
  },
  {
   "cell_type": "code",
   "execution_count": 205,
   "metadata": {
    "collapsed": true
   },
   "outputs": [],
   "source": [
    "import numpy as np\n",
    "\n",
    "def gen_fun_randwalk(start):\n",
    "    x = start\n",
    "    while True:\n",
    "        step = np.random.randint(low=-5, high=6, size=1)[0]\n",
    "        x += step\n",
    "        yield x"
   ]
  },
  {
   "cell_type": "markdown",
   "metadata": {},
   "source": [
    "### Construct a random walker generator that starts at 0. Then make a second generator that yields the first million values of that random walker. Then construct a list from said generator and plot it."
   ]
  },
  {
   "cell_type": "code",
   "execution_count": 206,
   "metadata": {
    "collapsed": true
   },
   "outputs": [],
   "source": [
    "mywalk = gen_fun_randwalk(0)  # Random walk generator that starts at 0\n",
    "walk_slc = it.islice(mywalk, 0, 1000000)  # Slice of the random walk generator that yields first 1 mill values"
   ]
  },
  {
   "cell_type": "code",
   "execution_count": 208,
   "metadata": {
    "collapsed": false
   },
   "outputs": [
    {
     "data": {
      "text/plain": [
       "[<matplotlib.lines.Line2D at 0x25df77eeb70>]"
      ]
     },
     "execution_count": 208,
     "metadata": {},
     "output_type": "execute_result"
    },
    {
     "data": {
      "image/png": "[encoded data removed]",
      "text/plain": [
       "<matplotlib.figure.Figure at 0x25df62af630>"
      ]
     },
     "metadata": {},
     "output_type": "display_data"
    }
   ],
   "source": [
    "%matplotlib inline\n",
    "import matplotlib.pyplot as plt\n",
    "plt.plot(list(walk_slc))"
   ]
  },
  {
   "cell_type": "markdown",
   "metadata": {},
   "source": [
    "### Make a fresh generator slice as in the above, and from it make a second generator that yields only the positive numbers in those first million."
   ]
  },
  {
   "cell_type": "code",
   "execution_count": 219,
   "metadata": {
    "collapsed": true
   },
   "outputs": [],
   "source": [
    "mywalk = gen_fun_randwalk(0)  # Random walk generator that starts at 0\n",
    "walk_slc = it.islice(mywalk, 0, 1000000)  # Slice of the random walk generator that yields first 1 mill values\n",
    "\n",
    "pos_walk = (x for x in walk_slc if x > 0) "
   ]
  },
  {
   "cell_type": "markdown",
   "metadata": {},
   "source": [
    "Alternately use itertools:"
   ]
  },
  {
   "cell_type": "code",
   "execution_count": 220,
   "metadata": {
    "collapsed": false
   },
   "outputs": [],
   "source": [
    "mywalk = gen_fun_randwalk(0)  # Random walk generator that starts at 0\n",
    "walk_slc = it.islice(mywalk, 0, 1000000)  # Slice of the random walk generator that yields first 1 mill values\n",
    "\n",
    "pos_walk = it.filterfalse(lambda x: x<0, walk_slc)"
   ]
  },
  {
   "cell_type": "code",
   "execution_count": 221,
   "metadata": {
    "collapsed": false
   },
   "outputs": [
    {
     "data": {
      "text/plain": [
       "[<matplotlib.lines.Line2D at 0x25df4dd6a90>]"
      ]
     },
     "execution_count": 221,
     "metadata": {},
     "output_type": "execute_result"
    },
    {
     "data": {
      "image/png": "[encoded data removed]",
      "text/plain": [
       "<matplotlib.figure.Figure at 0x25df4cab7b8>"
      ]
     },
     "metadata": {},
     "output_type": "display_data"
    }
   ],
   "source": [
    "%matplotlib inline\n",
    "import matplotlib.pyplot as plt\n",
    "plt.plot(list(pos_walk))"
   ]
  },
  {
   "cell_type": "markdown",
   "metadata": {},
   "source": [
    "### Make a generator that yields filenames that match a certain pattern.\n",
    "See [this awesome collection of sys admin python snippets](http://www.dabeaz.com/generators/genfind.py). You should use the methods in the `os` (`walk` and `join`) and `fnmatch` (`filter`) modules for this. "
   ]
  },
  {
   "cell_type": "code",
   "execution_count": null,
   "metadata": {
    "collapsed": true
   },
   "outputs": [],
   "source": [
    "import os\n",
    "import fnmatch\n",
    "\n",
    "def gen_file_find(filepat,top):\n",
    "    for path, dirlist, filelist in os.walk(top):\n",
    "        for name in fnmatch.filter(filelist,filepat):\n",
    "            yield os.path.join(path,name)"
   ]
  },
  {
   "cell_type": "markdown",
   "metadata": {},
   "source": [
    "### Simulating a fair coin  (see [Sahand Saba's post](http://sahandsaba.com/interview-question-groupon-probability.html))\n",
    "Given an unfair coin which flips as heads with probability $0<p<1$ we can come up with an algorithm that flips a fair coin ($p=0.5$). Consider a pair of unfair coin flips, with the set of possible results being $\\{HH,HT,TH,TT\\}$. Both $HT$ and $TH$ have probability of exactly $p(1−p)$ which means we can map one to HEADS and one to TAILS to get a fair coin. Write a generator that generates fair flips, only using `numpy.random.binomial(n=1, p=p)` with an unfair coin."
   ]
  },
  {
   "cell_type": "code",
   "execution_count": 230,
   "metadata": {
    "collapsed": true
   },
   "outputs": [],
   "source": [
    "from numpy.random import binomial\n",
    "\n",
    "def flip_fair(p):\n",
    "    outcomes = [\"H\", \"T\"]\n",
    "    while True:\n",
    "        x, y = binomial(n=1, p=p), binomial(n=1, p=p)  # Flip two unfair coins\n",
    "        if x != y:  # proceed only if we are in the HT or TH case\n",
    "            yield outcomes[x]  # half the time x will be 0, half it will be 1"
   ]
  },
  {
   "cell_type": "code",
   "execution_count": 231,
   "metadata": {
    "collapsed": false
   },
   "outputs": [
    {
     "data": {
      "text/plain": [
       "['H', 'T', 'H', 'T', 'T', 'T', 'H', 'H', 'T', 'H']"
      ]
     },
     "execution_count": 231,
     "metadata": {},
     "output_type": "execute_result"
    }
   ],
   "source": [
    "flips = it.islice(flip_fair(0.1), 0, 10)\n",
    "list(flips)"
   ]
  },
  {
   "cell_type": "markdown",
   "metadata": {},
   "source": [
    "### Generator of Cartesian Coordiantes in $R^3$\n",
    "I want a generator that yields the coordinates of points on a 3D grid (these will be 3-tuples). My $x$, $y$ and $z$ coordinates are each in the set $[0, 1, 2]$ (this is a small grid!). Take a look at the [itertools official docs](https://docs.python.org/3.7/library/itertools.html) to see if `it.product` can help with this. Bonus points if you can use `it.tee`."
   ]
  },
  {
   "cell_type": "code",
   "execution_count": 247,
   "metadata": {
    "collapsed": false
   },
   "outputs": [
    {
     "data": {
      "text/plain": [
       "(<itertools._tee at 0x25df7042208>,\n",
       " <itertools._tee at 0x25df778a708>,\n",
       " <itertools._tee at 0x25df778ac08>)"
      ]
     },
     "execution_count": 247,
     "metadata": {},
     "output_type": "execute_result"
    }
   ],
   "source": [
    "x = iter([0, 1, 2])\n",
    "xyz = it.tee(x, 3)\n",
    "xyz"
   ]
  },
  {
   "cell_type": "code",
   "execution_count": 248,
   "metadata": {
    "collapsed": false
   },
   "outputs": [
    {
     "data": {
      "text/plain": [
       "((0, 0, 0), (0, 0, 1), (0, 0, 2))"
      ]
     },
     "execution_count": 248,
     "metadata": {},
     "output_type": "execute_result"
    }
   ],
   "source": [
    "pt_gen = it.product(*xyz)\n",
    "next(pt_gen), next(pt_gen), next(pt_gen)"
   ]
  }
 ],
 "metadata": {
  "anaconda-cloud": {},
  "kernelspec": {
   "display_name": "Python 3",
   "language": "python",
   "name": "python3"
  },
  "language_info": {
   "codemirror_mode": {
    "name": "ipython",
    "version": 3
   },
   "file_extension": ".py",
   "mimetype": "text/x-python",
   "name": "python",
   "nbconvert_exporter": "python",
   "pygments_lexer": "ipython3",
   "version": "3.5.1"
  }
 },
 "nbformat": 4,
 "nbformat_minor": 0
}

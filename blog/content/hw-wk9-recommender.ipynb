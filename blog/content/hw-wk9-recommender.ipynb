{
 "cells": [
  {
   "cell_type": "markdown",
   "metadata": {},
   "source": [
    "# In which I brazenly defy Professor Ng and do his recommender system  homework in Python instead of Matlab.\n",
    "\n",
    "Week 9 of Andrew Ng's ML course on Coursera discusses two very common applied ML algorithms: anomaly detection (think fraud detection or manufacturing quality control) and recommender systems (think Amazon or Netflix). Here I focus on the recommender system portion and use the homework data set to learn about the relevant python tools (the anomaly detection portion was covered [here](http://sdsawtelle.github.io/blog/output/week9-anomaly-andrew-ng-machine-learning-with-python.html)).\n",
    "\n",
    ">## Tools Covered:\n",
    "- `BaseEstimator` for rolling your own estimator in sklearn\n",
    "- Implementing stochastic versus batch gradient descent"
   ]
  },
  {
   "cell_type": "markdown",
   "metadata": {},
   "source": [
    "# Recommender Systems\n",
    "According to Dr. Ng, Recommender systems are rated as some of the most important problems faced by Silicon Valley companies, but they get comparatively little attention in ML academic research.\n",
    "\n",
    "## Model Underlying Recommender Systems\n",
    "A prototypical scenario is a data set which indicates the 0-to-5 star rating given to a set of movies, by a set of users (some of these will be missing if a user hasn't rated a specific movie). **The fundamental assumption of recommendation systems is that a users rating of a movie is determined by a *paired* set of factors that reflect the characteristics intrinsic to that user and the characteristics intrinsic to that movie.** For example, a user-intrinsic feature capturing how much a user likes romance, and the corresponding movie-intrinsic feature capturing the degree of romance in a movie. Specifically, we assume a simple linear regression so that \n",
    "\n",
    "\\begin{align*}\n",
    "y(i, j) = (\\theta^{(j)})^Tx^{(i)},\n",
    "\\end{align*}\n",
    "\n",
    "where $y(i, j)$ is the rating given by the $j^{th}$ user to the $i^{th}$ movie, and $\\theta^{(j)}$ represents factors intrinsic to user $j$ while $x^{(i)}$ represents factors intrinsic to movie $i$. You can envision that user-factors and movie-factors live in the same space, where ratings are given by the inner product between them. This model can be vectorized as\n",
    "\n",
    "\\begin{align*}\n",
    "\\mathbf{Y} \\sim \\mathbf{Y}' = \\mathbf{X}\\mathbf{\\Theta}^T,\n",
    "\\end{align*}\n",
    "\n",
    "where $\\mathbf{Y}$ are the ground truth ratings, $\\mathbf{Y}'$ are the predicted ratings, $\\mathbf{X}$ is a matrix where each row contains factors of a specific movie, and $\\mathbf{\\Theta}$ is a matrix where each row contains factors of a specific user. The problem then amounts to finding $\\mathbf{X}$ and $\\mathbf{\\Theta}$ that makes $\\mathbf{Y}$ as close as possible to $\\mathbf{Y'}$, typically in the sense of element-wise squared error. \n",
    "\n",
    "**This is why you hear the term *Low Rank Matrix Factorization* thrown around - you are literally trying to factor a matrix into a product of lower-rank matrices, just like you would factor $21 = 3\\;x\\;7$.** If $\\mathbf{Y}$ had no missing values and all the values were consistent with our model then we could use SVD to analytically find $\\mathbf{X}$ and $\\mathbf{\\Theta}$. But imputing missing values tends to be tricky and, at any rate it would create a GINORMOUS non-sparse matrix that would be computationally infeasible to work with. So we're stuck using gradient descent to minimize the sum of squared errors between observed and predicted ratings, together with any regularization we want to include. In this way we are finding the best approximate factorization of $\\mathbf{Y}$ by looking only at the existing ratings. "
   ]
  },
  {
   "cell_type": "markdown",
   "metadata": {},
   "source": [
    "## Implicit vs. Explicit Interaction Data\n",
    "I'm going to keep talking in terms of the movie ratings example, but we can generalize recommender systems to refer to any set of users and products, together with some measure of \"interaction\" between them. The most useful measures of interaction are when the user *explicitly* tells us how much the like or use the product, such as with a thumbs up or down. But you can also gather *implicit* interaction metrics, like number of page views, mouse movements, or length of viewing time. This data is generally not as sparse, so the actual implementation of factorization may need to be different."
   ]
  },
  {
   "cell_type": "markdown",
   "metadata": {},
   "source": [
    "## Content-Based Approach vs. Collaborative Filtering\n",
    "In a **content-based** approach to recommendation we take explicit, rather than latent factors, for the movie characteristics, and then we learn the latent factors for user characteristics. Specifically, we populate the columns of $\\mathbf{X}$ with features which reflect some known characteristics of movies lead actor, run-time, or genre. Then we learn the corresponding user factors in $\\Theta$, by using squared error with regularization on all the $\\theta$'s. Note that you could instead use explicit user factors, or a mixture!\n",
    "\n",
    "In contrast to a content-based approach, in **collaborative filtering** (CF) we treat both the user characteristics and the movie characteristics as latent features that can be mined just by looking at the existing ratings. The users are collaborating, by giving their ratings, to help the system uncover information about users and or movies that will let it to make better predictions. For an extraordinarily clear intro to CF check out [this article by Netflix Prize winners](https://datajobs.com/data-science-repo/Recommender-Systems-%5BNetflix%5D.pdf) on the subject. I am following much of their content in this post.\n",
    "\n",
    "CF generally performs better and is more powerful than content-based approaches, but is not always possible or appropriate. Chris Clark's great [post on recommender systems](http://blog.untrod.com/2016/06/simple-similar-products-recommendation-engine-in-python.html) explains the benefits of each approach. Content-based approaches are useful for a \"cold-start\" when you don't have existing information about a user or product, or when you know the user is interested in a particular product as with a click-through from a google search for that product. On the other hand, the strength of CF is casting a broader and more flexible net in identifying \"similar\" products:\n",
    "\n",
    "> What we really want is a recommendation system that drives incremental sales (e.g. sales that would not have happened otherwise). If a customer is looking at the product details page for Harry Potter and the Chamber of Secrets, and your recommender shows Prisoner of Azkaban, and the customer buys it, the data scientists back at Random House HQ should not be high-fiving. It's a safe bet that that customer already knew there were more than two books in the series and would have bought Prisoner of Azkaban anyway. It was not an incremental sale."
   ]
  },
  {
   "cell_type": "markdown",
   "metadata": {},
   "source": [
    "## Flavors of Collaborative Filtering\n",
    "Collaborative filtering (CF) treats both the user characteristics and the movie characteristics as latent features that can be mined just by looking at the existing ratings. **Neighborhood methods of CF** mine this information by letting the ratings reveal neighborhoods of similar movies or similar users. For instance, the neighbors of a particular movie $m_j$ will be other movies to which users tended to give a similar rating as they gave to $m_j$. If most users who rated both *Need for Speed* and *Tokyo Drift* tended to rate them similarly, then those movies are close neighbors and someone who liked one will probably like the other. Likewise, two users are neighbors if, for movies that they have both rated, their ratings tend to agree. If your close neighbor liked a movie, you probably would too. Specifically, with neighborhood methods the two common approaches to predicting a user $u_j$'s response to an unrated movie $m_i$ is:\n",
    "- finding the group of $k$ users most simimilar to $u_j$ and averaging their ratings of movie $m_j$\n",
    "- finding the group of $k$ movies most similar to $m_j$ and averaging user $u_i$'s ratings of those\n",
    "\n",
    "**Latent Factor methods of CF** use the existing ratings to actually learn values for both the latent user characteristics and the latent movie characteristics. This is generally a more powerful approach than neighborhood methods. The $x$'s and $\\theta$'s are learned simultaneously by minimizing a total regularized cost function:\n",
    "\n",
    "\\begin{align*}\n",
    "J(x^{(1)},..., x^{(n_M)}, \\theta^{(1)}, ..., \\theta^{(n_u)}) = \\textrm{all squared errors} \\; + \\; \\textrm{penalty on all $x_k$} \\; + \\; \\textrm{penalty on all $\\theta_k$},\n",
    "\\end{align*}\n",
    "\n",
    "Once all the latent factors are learned, predictions for user $u_j$'s response to an unrated movie $m_i$ is just the inner product of the learned $\\theta^{(j)}$ with $x^{(i)}$. The hyperparameters of the full decision procedure are the number of pairs of latent factors and the regularization strength in the objective function. "
   ]
  },
  {
   "cell_type": "markdown",
   "metadata": {},
   "source": [
    "## Full Specification of Latent Factor Collaborative Filtering\n",
    "Here is the complete mathematical specification of the model and algorithm for latent-factors collaborative filtering. We define:\n",
    "- $q_i, p_i \\in R^f$ are the latent movie and user factors, respectively\n",
    "- $r_{ui}$ is the rating given to the $i^{th}$ movie by the $u^{th}$ user\n",
    "- $\\kappa$ is the set of all pairs $(u, i)$ for which we have an existing rating\n",
    "\n",
    "Our estimator for user ratings is\n",
    "\\begin{align*}\n",
    "\\hat{r_{ui}} = q_i^Tp_u,\\\\\n",
    "\\textrm{or in other words} \\; \\mathbf{R} \\sim \\mathbf{R}' = \\mathbf{Q}\\mathbf{P}^T.\n",
    "\\end{align*}\n",
    "\n",
    "while our objective is:\n",
    "\\begin{align*}\n",
    "\\qquad \\min_{\\textrm{all} \\, q, p} J, \\qquad J = \\bigg[ \\sum_{(u,i)\\in\\kappa} (r_{ui} - q_i^Tp_u)^2 + \\lambda\\big(||q_i||^2 + ||p_u||^2\\big)\\bigg].\n",
    "\\end{align*}\n",
    "\n",
    "### Numerical Optimization\n",
    "The objective function is minimized over the product space $q\\times p$ typically by either Stochastic Gradient Descent (SGD) or Alternating Least Squares (ALS). "
   ]
  },
  {
   "cell_type": "markdown",
   "metadata": {},
   "source": [
    "For implementing SGD the following framework is helfpul. First define the error between a prediction and the actual rating as:\n",
    "\\begin{align*}\n",
    "e_{ui} \\equiv r_{ui} - q_i^Tp_u,\\\\\n",
    "\\mathbf{E} = \\mathbf{R} - \\mathbf{P}\\mathbf{Q}^T\n",
    "\\end{align*}\n"
   ]
  },
  {
   "cell_type": "markdown",
   "metadata": {},
   "source": [
    "Consider the example below of the partial derivative of the loss with respect to a single latent factor: the $k^{th}$ component of the $i^{th}$ movie feature vector.\n",
    "\\begin{align*}\n",
    "\\frac{\\partial J}{(q_i)_k} = \\sum_{(u,i)\\in\\kappa} 2(r_{ui} - q_i^Tp_u)^2(-(p_u)_k) + 2\\lambda(q_i)_k\n",
    "\\end{align*}\n",
    "\n",
    "Inspecting the above, we can see that the coordinate descent update rule for SGD for a single observation should be\n",
    "\\begin{align*}\n",
    "q_i \\leftarrow q_i + \\gamma(e_{ui}\\cdot p_u - \\lambda\\cdot q_i)\\\\\n",
    "p_u \\leftarrow p_u + \\gamma(e_{ui}\\cdot q_i - \\lambda\\cdot p_u),\n",
    "\\end{align*}\n",
    "where $\\gamma$ is the learning rate. \n",
    "\n",
    "Alternatively, the update rule for batch gradient descent can be heavily vectorized to yield \n",
    "\\begin{align*}\n",
    "\\mathbf{P} \\leftarrow \\mathbf{P} + \\gamma\\big(\\mathbf{E}\\mathbf{Q} - \\lambda\\mathbf{P}\\big)\\\\\n",
    "\\mathbf{Q} \\leftarrow \\mathbf{Q} + \\gamma\\big(\\mathbf{E}^T\\mathbf{Q} - \\lambda\\mathbf{Q}\\big).\n",
    "\\end{align*}"
   ]
  },
  {
   "cell_type": "markdown",
   "metadata": {},
   "source": [
    "### Including Biases\n",
    "If I presented you with the raw matrix of ratings data and asked to you fill in a specific missing rating, you might make your guess by lookimg at several pieces of prior information such as:\n",
    "- what is the overall average rating from the data set, $\\mu$.\n",
    "- How much higher or lower than $\\mu$ does this user tend to rate movies, $b_u$. Is he a harsh critic or particularly easy to please compared to the average?\n",
    "- How much higher or lower than $\\mu$ does this movie tend to get rated, $b_i$. Is it generally considered a good or bad film compared to the average?\n",
    "\n",
    "These pieces of prior information can be combined together into the *bias*, $b_{ui} = \\mu + b_i + b_u$ of rating $r_{ui}$. So far our model says that a rating is entirely due to the *interaction* between a particular movie and a particular user, $q_u^Tp_i$, but in light of this discussion we want to also include the effect of this bias (which is independent of the interaction):\n",
    "\n",
    "\\begin{align*}\n",
    "\\hat{r_{ui}} = q_i^Tp_u + b_{ui}\n",
    "\\end{align*}\n",
    "\n",
    "I won't be doing anything with bias for this homework, but I thought I'd mention it because it is understood to explain a huge amount of the signal in recommender systems."
   ]
  },
  {
   "cell_type": "markdown",
   "metadata": {},
   "source": [
    "### Further Reading\n",
    "The following links are also helpful and high quality:\n",
    "- [Ethan Rosenthal's excellent Intro to CF with a simple Python Implementation of Neighborhood Methods](http://blog.ethanrosenthal.com/2015/11/02/intro-to-collaborative-filtering/)\n",
    "- [Quuxlabs Tutorial on Matrix Factorization in Python](http://www.quuxlabs.com/blog/2010/09/matrix-factorization-a-simple-tutorial-and-implementation-in-python/)\n",
    "- [LazyProgrammer Tutorial on Matrix Factorization and CF in Python](https://lazyprogrammer.me/tutorial-on-collaborative-filtering-and-matrix-factorization-in-python/)\n",
    "- [PyData PPT on Low Rank Matrix Approximation Methods Python](http://www.slideshare.net/PyData/thurau-pydata-2014)\n",
    "- [Simple math of Matrix Factorization using gradient descent]( http://pythonhosted.org/trustedanalytics/CollaborativeFilteringNewPlugin_Summary.html)\n",
    "- [Simple PPT of Matrix Factorization for CF](http://acsweb.ucsd.edu/~dklim/mf_presentation.pdf)\n",
    "- [Netflix Prize Paper on Recommender Systems](https://datajobs.com/data-science-repo/Recommender-Systems-%5BNetflix%5D.pdf)\n",
    "- [Cambridge Coding Academy Tutorial on Implenting SGD and ALS for latent factors CF](http://online.cambridgecoding.com/notebooks/mhaller/implementing-your-own-recommender-systems-in-python-using-stochastic-gradient-descent-4)\n",
    "- [Blog post by Simon Funk where he first discusses the Matrix Factorization Implementation for latent factors CF](http://sifter.org/~simon/journal/20061211.html)"
   ]
  },
  {
   "cell_type": "markdown",
   "metadata": {},
   "source": [
    "# Recommender Systems in Sklearn... Not Actually a Thing\n",
    "There is a neat, [short discussion on github](https://github.com/scikit-learn/scikit-learn/issues/6142) about why scikit-learn doesn't implement any recommender system classes: the upshot is that these problems don't generally follow the neat-and-tidy `fit` + `predict` paradigm. I somewhat disagree with this, especially when it comes to latent factors collaborative filtering methods, and so after building the meat of the CF algorithm I'm going to try rolling my own Recommender System estimator and using it with `GridSearchCV`."
   ]
  },
  {
   "cell_type": "markdown",
   "metadata": {},
   "source": [
    "# Quick Look at the Data"
   ]
  },
  {
   "cell_type": "code",
   "execution_count": 1,
   "metadata": {
    "collapsed": true
   },
   "outputs": [],
   "source": [
    "import scipy.io\n",
    "import scipy.stats as stats\n",
    "import matplotlib.pyplot as plt\n",
    "import matplotlib \n",
    "import pandas as pd\n",
    "import numpy as np\n",
    "from numpy import random\n",
    "import pickle\n",
    "import timeit\n",
    "from sklearn.model_selection import GridSearchCV\n",
    "\n",
    "\n",
    "import snips as snp  # my snippets\n",
    "snp.prettyplot(matplotlib)  # my aesthetic preferences for plotting\n",
    "%matplotlib inline"
   ]
  },
  {
   "cell_type": "code",
   "execution_count": 2,
   "metadata": {
    "collapsed": false
   },
   "outputs": [
    {
     "name": "stdout",
     "output_type": "stream",
     "text": [
      "C:\\Users\\Sonya\\Box Sync\\Projects\\course-machine-learning\\hw-wk9\n"
     ]
    }
   ],
   "source": [
    "cd hw-wk9"
   ]
  },
  {
   "cell_type": "markdown",
   "metadata": {},
   "source": [
    "*Disclaimer: This little exercise with this movie ratings toy data set is very common. You can see two examples [here](http://blog.ethanrosenthal.com/2015/11/02/intro-to-collaborative-filtering/) and [here](http://online.cambridgecoding.com/notebooks/mhaller/implementing-your-own-recommender-systems-in-python-using-stochastic-gradient-descent-4) of people doing _exactly_ what I'm about to do.*"
   ]
  },
  {
   "cell_type": "code",
   "execution_count": 26,
   "metadata": {
    "collapsed": false
   },
   "outputs": [
    {
     "data": {
      "text/html": [
       "<div>\n",
       "<table border=\"1\" class=\"dataframe\">\n",
       "  <thead>\n",
       "    <tr style=\"text-align: right;\">\n",
       "      <th></th>\n",
       "      <th>user_id</th>\n",
       "      <th>item_id</th>\n",
       "      <th>rating</th>\n",
       "      <th>timestamp</th>\n",
       "    </tr>\n",
       "  </thead>\n",
       "  <tbody>\n",
       "    <tr>\n",
       "      <th>0</th>\n",
       "      <td>196</td>\n",
       "      <td>242</td>\n",
       "      <td>3</td>\n",
       "      <td>881250949</td>\n",
       "    </tr>\n",
       "    <tr>\n",
       "      <th>1</th>\n",
       "      <td>186</td>\n",
       "      <td>302</td>\n",
       "      <td>3</td>\n",
       "      <td>891717742</td>\n",
       "    </tr>\n",
       "    <tr>\n",
       "      <th>2</th>\n",
       "      <td>22</td>\n",
       "      <td>377</td>\n",
       "      <td>1</td>\n",
       "      <td>878887116</td>\n",
       "    </tr>\n",
       "    <tr>\n",
       "      <th>3</th>\n",
       "      <td>244</td>\n",
       "      <td>51</td>\n",
       "      <td>2</td>\n",
       "      <td>880606923</td>\n",
       "    </tr>\n",
       "    <tr>\n",
       "      <th>4</th>\n",
       "      <td>166</td>\n",
       "      <td>346</td>\n",
       "      <td>1</td>\n",
       "      <td>886397596</td>\n",
       "    </tr>\n",
       "  </tbody>\n",
       "</table>\n",
       "</div>"
      ],
      "text/plain": [
       "   user_id  item_id  rating  timestamp\n",
       "0      196      242       3  881250949\n",
       "1      186      302       3  891717742\n",
       "2       22      377       1  878887116\n",
       "3      244       51       2  880606923\n",
       "4      166      346       1  886397596"
      ]
     },
     "execution_count": 26,
     "metadata": {},
     "output_type": "execute_result"
    }
   ],
   "source": [
    "header = ['user_id', 'item_id', 'rating', 'timestamp']\n",
    "df = pd.read_csv('u.data', sep='\\t', names=header)\n",
    "df.head()"
   ]
  },
  {
   "cell_type": "markdown",
   "metadata": {},
   "source": [
    "We expect most users haven't rated most movies, so let's get a sense of exactly how sparse the data is. The number of missing ratings should be the difference between the number of rows here, and the total number of possible ratings $n_{users} \\times n_{movies}$."
   ]
  },
  {
   "cell_type": "code",
   "execution_count": 27,
   "metadata": {
    "collapsed": false
   },
   "outputs": [
    {
     "name": "stdout",
     "output_type": "stream",
     "text": [
      "sparsity of ratings is 6.30%\n"
     ]
    }
   ],
   "source": [
    "n_u = len(df[\"user_id\"].unique())\n",
    "n_m = len(df[\"item_id\"].unique())\n",
    "sparsity = len(df)/(n_u*n_m)\n",
    "print(\"sparsity of ratings is %.2f%%\" %(sparsity*100))"
   ]
  },
  {
   "cell_type": "code",
   "execution_count": 28,
   "metadata": {
    "collapsed": false
   },
   "outputs": [],
   "source": [
    "# Split the dataframe into a train and test set\n",
    "from sklearn.model_selection import train_test_split\n",
    "train_data, test_data = train_test_split(df,test_size=0.25)\n",
    "\n",
    "train_data = pd.DataFrame(train_data)\n",
    "test_data = pd.DataFrame(test_data)"
   ]
  },
  {
   "cell_type": "code",
   "execution_count": 29,
   "metadata": {
    "collapsed": false
   },
   "outputs": [],
   "source": [
    "# Create training and test matrix\n",
    "R = np.zeros((n_u, n_m))\n",
    "for line in train_data.itertuples():\n",
    "    R[line[1]-1, line[2]-1] = line[3]  \n",
    "    \n",
    "T = np.zeros((n_u, n_m))\n",
    "for line in test_data.itertuples():\n",
    "    T[line[1]-1, line[2]-1] = line[3]"
   ]
  },
  {
   "cell_type": "markdown",
   "metadata": {},
   "source": [
    "# Implementation with Stochastic Gradient Descent\n",
    "Cambridge Coding Academy Online has a neat tutorial where they implement this exact algorithm with this exact Toy Data Set. They chose to use Stochastic Gradient Descent for their optimzation, which loops through individual ratings (making several full passes through the training set) and updates the relevant latent factors each time. This approch can't be matricized as effectively as normal gradient descent, but it tends to converge more quickly so in terms of full computational cost it's not clear which is better (might depend on the size of the data set). For more on the difference between these two approaches, [here is a neat and brief Quora answer](https://www.quora.com/Whats-the-difference-between-gradient-descent-and-stochastic-gradient-descent/answer/Sebastian-Raschka-1?srid=vrN4). I'm going to try implementing it both ways."
   ]
  },
  {
   "cell_type": "code",
   "execution_count": 33,
   "metadata": {
    "collapsed": false,
    "scrolled": false
   },
   "outputs": [
    {
     "name": "stdout",
     "output_type": "stream",
     "text": [
      "Run took 77.66 seconds\n"
     ]
    },
    {
     "data": {
      "text/plain": [
       "<matplotlib.legend.Legend at 0x2c4160d8898>"
      ]
     },
     "execution_count": 33,
     "metadata": {},
     "output_type": "execute_result"
    },
    {
     "data": {
      "image/png": "[encoded data removed]",
      "text/plain": [
       "<matplotlib.figure.Figure at 0x2c4160086a0>"
      ]
     },
     "metadata": {},
     "output_type": "display_data"
    }
   ],
   "source": [
    "start_time = timeit.default_timer()\n",
    "\n",
    "# Scoring Function: Root Mean Squared Error\n",
    "def rmse_score(R, Q, P):\n",
    "    I = R != 0  # Indicator function which is zero for missing data\n",
    "    ME = I * (R - np.dot(P, Q.T))  # Errors between real and predicted ratings\n",
    "    MSE = ME**2  \n",
    "    return np.sqrt(np.sum(MSE)/np.sum(I))  # sum of squared errors\n",
    "\n",
    "# Set parameters and initialize latent factors\n",
    "f = 20  # Number of latent factor pairs\n",
    "lmbda = 0.5 # Regularisation strength\n",
    "gamma=0.01  # Learning rate\n",
    "n_epochs = 50  # Number of loops through training data\n",
    "P = 3 * np.random.rand(n_u, f) # Latent factors for users\n",
    "Q = 3 * np.random.rand(n_m, f) # Latent factors for movies\n",
    "\n",
    "# Stochastic GD\n",
    "train_errors = []\n",
    "test_errors = []\n",
    "users,items = R.nonzero()      \n",
    "for epoch in range(n_epochs):\n",
    "    for u, i in zip(users,items):\n",
    "        e = R[u, i] - np.dot(P[u, :], Q[i, :].T)  # Error for this observation\n",
    "        P[u, :] += gamma * ( e * Q[i, :] - lmbda * P[u, :]) # Update this user's features\n",
    "        Q[i, :] += gamma * ( e * P[u, :] - lmbda * Q[i, :])  # Update this movie's features\n",
    "    train_errors.append(rmse_score(R,Q,P)) # Training RMSE for this pass\n",
    "    test_errors.append(rmse_score(T,Q,P)) # Test RMSE for this pass\n",
    "\n",
    "# Print how long it took\n",
    "print(\"Run took %.2f seconds\" % (timeit.default_timer() - start_time))\n",
    "    \n",
    "# Check performance by plotting train and test errors\n",
    "fig, ax = plt.subplots()\n",
    "ax.plot(train_errors, color=\"g\", label='Training RMSE')\n",
    "ax.plot(test_errors, color=\"r\", label='Test RMSE')\n",
    "snp.labs(\"Number of Epochs\", \"RMSE\", \"Error During Stochastic GD\")\n",
    "ax.legend()"
   ]
  },
  {
   "cell_type": "code",
   "execution_count": 34,
   "metadata": {
    "collapsed": false
   },
   "outputs": [
    {
     "data": {
      "image/png": "[encoded data removed]",
      "text/plain": [
       "<matplotlib.figure.Figure at 0x2c416042080>"
      ]
     },
     "metadata": {},
     "output_type": "display_data"
    }
   ],
   "source": [
    "# See how well we did on Test Set Predictions\n",
    "Rhat = np.dot(P, Q.T)\n",
    "fig, axs = plt.subplots(figsize=[5, 10], nrows=5, ncols=1, sharex=True)\n",
    "fig.suptitle(\"Stochastic GD Test Performance\")\n",
    "for idx, ax in enumerate(axs.ravel()):\n",
    "    vals = Rhat[T == idx+1]\n",
    "    ax.hist(vals, bins=20, normed=True, label=\"Ground Truth Rating = %i\" %(idx+1))\n",
    "    ax.legend()\n",
    "    ax.set_xlim([0, 6])"
   ]
  },
  {
   "cell_type": "markdown",
   "metadata": {},
   "source": [
    "# Implementation with Batch Gradient Descent"
   ]
  },
  {
   "cell_type": "code",
   "execution_count": 472,
   "metadata": {
    "collapsed": false
   },
   "outputs": [
    {
     "name": "stdout",
     "output_type": "stream",
     "text": [
      "Run took 29.58 seconds\n"
     ]
    },
    {
     "data": {
      "text/plain": [
       "<matplotlib.legend.Legend at 0x1cc82b45860>"
      ]
     },
     "execution_count": 472,
     "metadata": {},
     "output_type": "execute_result"
    },
    {
     "data": {
      "image/png": "[encoded data removed]",
      "text/plain": [
       "<matplotlib.figure.Figure at 0x1cc9175ee10>"
      ]
     },
     "metadata": {},
     "output_type": "display_data"
    }
   ],
   "source": [
    "start_time = timeit.default_timer()\n",
    "\n",
    "# Scoring Function: Root Mean Squared Error\n",
    "def rmse_score(R, Q, P):\n",
    "    I = R != 0  # Indicator function which is zero for missing data\n",
    "    ME = I * (R - np.dot(P, Q.T))  # Errors between real and predicted ratings\n",
    "    MSE = ME**2  \n",
    "    return np.sqrt(np.sum(MSE)/np.sum(I))  # sum of squared errors\n",
    "\n",
    "# Set parameters and initialize latent factors\n",
    "f = 20  # Number of latent factor pairs\n",
    "lmbda = 50 # Regularisation strength\n",
    "gamma = 9e-5 # Learning rate\n",
    "n_epochs = 220  # Number of loops through training data\n",
    "P = 3 * np.random.rand(n_u, f) # Latent factors for users\n",
    "Q = 3 * np.random.rand(n_m, f) # Latent factors for movies\n",
    "\n",
    "# Batch GD\n",
    "train_errors = []\n",
    "test_errors = []\n",
    "for epoch in range(n_epochs): \n",
    "    ERR = np.multiply(R != 0, R - np.dot(P, Q.T))  # compute error with present values of Q, P, ZERO if no rating   \n",
    "#     P += gamma*(np.dot(Q.T, ERR.T).T - lmbda*P)  # update rule\n",
    "#     Q += gamma*(np.dot(P.T, ERR).T - lmbda*Q)  # update rule\n",
    "    \n",
    "    P += gamma*(np.dot(ERR, Q) - lmbda*P)  # update rule\n",
    "    Q += gamma*(np.dot(ERR.T, P) - lmbda*Q)  # update rule\n",
    "    \n",
    "    train_errors.append(rmse_score(R,Q,P)) # Training RMSE for this pass\n",
    "    test_errors.append(rmse_score(T,Q,P)) # Test RMSE for this pass\n",
    "\n",
    "# Print how long it took\n",
    "print(\"Run took %.2f seconds\" % (timeit.default_timer() - start_time))\n",
    "    \n",
    "# Check performance by plotting train and test errors\n",
    "fig, ax = plt.subplots()\n",
    "ax.plot(train_errors, color=\"g\", label='Training RMSE')\n",
    "ax.plot(test_errors, color=\"r\", label='Test RMSE')\n",
    "snp.labs(\"Number of Epochs\", \"RMSE\", \"Error During Batch GD\")\n",
    "ax.legend()"
   ]
  },
  {
   "cell_type": "code",
   "execution_count": 473,
   "metadata": {
    "collapsed": false
   },
   "outputs": [
    {
     "data": {
      "image/png": "[encoded data removed]",
      "text/plain": [
       "<matplotlib.figure.Figure at 0x1cc82a933c8>"
      ]
     },
     "metadata": {},
     "output_type": "display_data"
    }
   ],
   "source": [
    "# See how well we did on Test Set Predictions\n",
    "Rhat = np.dot(P, Q.T)\n",
    "fig, axs = plt.subplots(figsize=[5, 10], nrows=5, ncols=1, sharex=True)\n",
    "fig.suptitle(\"Batch GD Test Performance\")\n",
    "for idx, ax in enumerate(axs.ravel()):\n",
    "    vals = Rhat[T == idx+1]\n",
    "    ax.hist(vals, bins=20, normed=True, label=\"Ground Truth Rating = %i\" %(idx+1))\n",
    "    ax.legend()\n",
    "    ax.set_xlim([0, 6])"
   ]
  },
  {
   "cell_type": "markdown",
   "metadata": {},
   "source": [
    "# Rolling a Custom Estimator for Sklearn\n",
    "I love `GridSearchCV` and `Pipeline` so I'd really like to wrap the above algorithm in sklearn-API-compatible way. I'm referring to [the official dev docs](http://scikit-learn.org/stable/developers/contributing.html#rolling-your-own-estimator) on this topic. A great paper from 2013 on the general structure and philosophy of sklearn can he had [on ArXiv](https://arxiv.org/pdf/1309.0238v1.pdf). I'm going to leave both batch and stochastic GD as options by giving my class a parameter `solver` where we can specify which. \n",
    "\n",
    "So without further ado, let me grab the relevant dev helper objects, like the base class `BaseEstimator` that I will inherit from."
   ]
  },
  {
   "cell_type": "code",
   "execution_count": 50,
   "metadata": {
    "collapsed": false
   },
   "outputs": [],
   "source": [
    "import numpy as np\n",
    "from sklearn.base import BaseEstimator\n",
    "from sklearn.utils.validation import check_X_y, check_array, check_is_fitted\n",
    "from sklearn.utils.multiclass import unique_labels\n",
    "from sklearn.metrics import euclidean_distances\n",
    "\n",
    "class MC(BaseEstimator):\n",
    "    \"\"\" An estimator for latent factor collaborative filtering models in Recommender Systems.\n",
    "    \"\"\"\n",
    "    def __init__(self,  n_u, n_m, n_factors=10, n_epochs=250, lmbda=10, gamma=9e-5, solver=\"sgd\"):\n",
    "        self.n_u = n_u\n",
    "        self.n_m = n_m\n",
    "        self.n_factors = n_factors\n",
    "        self.n_epochs = n_epochs\n",
    "        self.lmbda = lmbda\n",
    "        self.gamma = gamma\n",
    "        self.solver = solver\n",
    "\n",
    "    def fit(self, X, y):\n",
    "        \"\"\"Fits all the latent factors for users and items and saves the resulting matrix representations.\n",
    "        \"\"\"\n",
    "        X, y = check_X_y(X, y)\n",
    "        \n",
    "        \n",
    "        # Create training matrix\n",
    "        R = np.zeros((self.n_u, self.n_m))\n",
    "        for idx, row in enumerate(X):\n",
    "            R[row[0]-1, row[1]-1] = y[idx]  \n",
    "\n",
    "        # Initialize latent factors\n",
    "        P = 3 * np.random.rand(self.n_u, self.n_factors) # Latent factors for users\n",
    "        Q = 3 * np.random.rand(self.n_m, self.n_factors) # Latent factors for movies\n",
    "                    \n",
    "\n",
    "        def rmse_score(R, Q, P):\n",
    "            I = R != 0  # Indicator function which is zero for missing data\n",
    "            ME = I * (R - np.dot(P, Q.T))  # Errors between real and predicted ratings\n",
    "            MSE = ME**2  \n",
    "            return np.sqrt(np.sum(MSE)/np.sum(I))  # sum of squared errors\n",
    "\n",
    "        # Fit with stochastic or batch gradient descent\n",
    "        train_errors = []\n",
    "        if self.solver == \"sgd\":\n",
    "            # Stochastic GD\n",
    "            users,items = R.nonzero()      \n",
    "            for epoch in range(self.n_epochs):\n",
    "                for u, i in zip(users,items):\n",
    "                    e = R[u, i] - np.dot(P[u, :], Q[i, :].T)  # Error for this observation\n",
    "                    P[u, :] += self.gamma * ( e * Q[i, :] - self.lmbda * P[u, :]) # Update this user's features\n",
    "                    Q[i, :] += self.gamma * ( e * P[u, :] - self.lmbda * Q[i, :])  # Update this movie's features\n",
    "                train_errors.append(rmse_score(R,Q,P)) # Training RMSE for this pass\n",
    "        elif self.solver == \"batch_gd\":\n",
    "            # Batch GD\n",
    "            for epoch in range(self.n_epochs): \n",
    "                ERR = np.multiply(R != 0, R - np.dot(P, Q.T))  # compute error with present values of Q, P, ZERO if no rating   \n",
    "                P += self.gamma*(np.dot(Q.T, ERR.T).T - self.lmbda*P)  # update rule\n",
    "                Q += self.gamma*(np.dot(P.T, ERR).T - self.lmbda*Q)  # update rule\n",
    "                train_errors.append(rmse_score(R,Q,P)) # Training RMSE for this pass\n",
    "        else:\n",
    "            print(\"I'm sorry, we don't recognize that solver.\")\n",
    "\n",
    "#         print(\"Completed %i epochs, final RMSE = %.2f\" %(self.n_epochs, train_errors[-1]))\n",
    "        self.Q = Q\n",
    "        self.P = P\n",
    "        self.train_errors = train_errors\n",
    "        \n",
    "        # Return the estimator\n",
    "        return self\n",
    "\n",
    "    def predict(self, X):\n",
    "        \"\"\" Predicts a vector of ratings from a matrix of user and item ids.\n",
    "        \"\"\"\n",
    "        X = check_array(X)\n",
    "        \n",
    "        y = np.zeros(len(X))\n",
    "        PRED = np.dot(self.P, self.Q.T)\n",
    "        for idx, row in enumerate(X):\n",
    "            y[idx] = PRED[row[0]-1, row[1]-1]\n",
    "        \n",
    "        \n",
    "        return y\n",
    "\n",
    "    def score(self, X, y):\n",
    "        \"\"\" Element-wise root mean squared error.\n",
    "        \"\"\"\n",
    "        yp = self.predict(X)\n",
    "        err = y - yp\n",
    "        mse = np.sum(np.multiply(err, err))/len(err)\n",
    "        return np.sqrt(mse)"
   ]
  },
  {
   "cell_type": "markdown",
   "metadata": {},
   "source": [
    "OK now that the class is defined let's use the full data set to get $X$ and $y$ in the proper format. `GridSearchCV` will do it's own train/test splitting with K-Folds. I also designed the class to require the total number of users and movies as parameters in the constructor, that was just the simplest thing to do, so we need to count those and then pass them in."
   ]
  },
  {
   "cell_type": "code",
   "execution_count": 49,
   "metadata": {
    "collapsed": true
   },
   "outputs": [],
   "source": [
    "X = df[[\"user_id\", \"item_id\"]].as_matrix()\n",
    "y = df[\"rating\"].values\n",
    "n_u = len(df[\"user_id\"].unique())\n",
    "n_m = len(df[\"item_id\"].unique())"
   ]
  },
  {
   "cell_type": "markdown",
   "metadata": {},
   "source": [
    "### Grid Search with Batch GD"
   ]
  },
  {
   "cell_type": "code",
   "execution_count": 54,
   "metadata": {
    "collapsed": false
   },
   "outputs": [
    {
     "data": {
      "text/plain": [
       "GridSearchCV(cv=4, error_score='raise',\n",
       "       estimator=MC(gamma=6e-05, lmbda=10, n_epochs=400, n_factors=10, n_m=1682, n_u=943,\n",
       "  solver='batch_gd'),\n",
       "       fit_params={}, iid=True, n_jobs=1,\n",
       "       param_grid={'n_factors': (15, 18, 21), 'lmbda': (45, 50, 55)},\n",
       "       pre_dispatch='2*n_jobs', refit=True, return_train_score=True,\n",
       "       scoring=None, verbose=0)"
      ]
     },
     "execution_count": 54,
     "metadata": {},
     "output_type": "execute_result"
    }
   ],
   "source": [
    "rcmdr = MC(n_u=n_u, n_m=n_m, gamma=6e-5, n_epochs=400, solver=\"batch_gd\")\n",
    "params = {\"lmbda\": (45, 50, 55),\n",
    "         \"n_factors\": (15, 18, 21)}\n",
    "search = GridSearchCV(rcmdr, param_grid=params, cv=4)\n",
    "search.fit(X, y)"
   ]
  },
  {
   "cell_type": "code",
   "execution_count": 55,
   "metadata": {
    "collapsed": false,
    "scrolled": true
   },
   "outputs": [
    {
     "data": {
      "text/html": [
       "<div>\n",
       "<table border=\"1\" class=\"dataframe\">\n",
       "  <thead>\n",
       "    <tr style=\"text-align: right;\">\n",
       "      <th></th>\n",
       "      <th>mean_test_score</th>\n",
       "      <th>std_test_score</th>\n",
       "      <th>params</th>\n",
       "    </tr>\n",
       "  </thead>\n",
       "  <tbody>\n",
       "    <tr>\n",
       "      <th>2</th>\n",
       "      <td>1.133234</td>\n",
       "      <td>0.020078</td>\n",
       "      <td>{'n_factors': 21, 'lmbda': 45}</td>\n",
       "    </tr>\n",
       "    <tr>\n",
       "      <th>1</th>\n",
       "      <td>1.137760</td>\n",
       "      <td>0.019921</td>\n",
       "      <td>{'n_factors': 18, 'lmbda': 45}</td>\n",
       "    </tr>\n",
       "    <tr>\n",
       "      <th>0</th>\n",
       "      <td>1.145937</td>\n",
       "      <td>0.020081</td>\n",
       "      <td>{'n_factors': 15, 'lmbda': 45}</td>\n",
       "    </tr>\n",
       "    <tr>\n",
       "      <th>5</th>\n",
       "      <td>1.167905</td>\n",
       "      <td>0.021226</td>\n",
       "      <td>{'n_factors': 21, 'lmbda': 50}</td>\n",
       "    </tr>\n",
       "    <tr>\n",
       "      <th>4</th>\n",
       "      <td>1.178751</td>\n",
       "      <td>0.021582</td>\n",
       "      <td>{'n_factors': 18, 'lmbda': 50}</td>\n",
       "    </tr>\n",
       "  </tbody>\n",
       "</table>\n",
       "</div>"
      ],
      "text/plain": [
       "   mean_test_score  std_test_score                          params\n",
       "2         1.133234        0.020078  {'n_factors': 21, 'lmbda': 45}\n",
       "1         1.137760        0.019921  {'n_factors': 18, 'lmbda': 45}\n",
       "0         1.145937        0.020081  {'n_factors': 15, 'lmbda': 45}\n",
       "5         1.167905        0.021226  {'n_factors': 21, 'lmbda': 50}\n",
       "4         1.178751        0.021582  {'n_factors': 18, 'lmbda': 50}"
      ]
     },
     "execution_count": 55,
     "metadata": {},
     "output_type": "execute_result"
    }
   ],
   "source": [
    "best_est = search.best_estimator_\n",
    "results = pd.DataFrame(search.cv_results_)\n",
    "results[[\"mean_test_score\", \"std_test_score\", \"params\"]].sort_values(by=[\"mean_test_score\"], ascending=True).head()"
   ]
  },
  {
   "cell_type": "markdown",
   "metadata": {},
   "source": [
    "### Grid Search with Stochastic GD"
   ]
  },
  {
   "cell_type": "code",
   "execution_count": 56,
   "metadata": {
    "collapsed": false
   },
   "outputs": [
    {
     "data": {
      "text/plain": [
       "GridSearchCV(cv=4, error_score='raise',\n",
       "       estimator=MC(gamma=0.01, lmbda=10, n_epochs=50, n_factors=10, n_m=1682, n_u=943,\n",
       "  solver='sgd'),\n",
       "       fit_params={}, iid=True, n_jobs=1,\n",
       "       param_grid={'n_factors': (18, 20, 22), 'lmbda': (0.25, 0.5, 0.75)},\n",
       "       pre_dispatch='2*n_jobs', refit=True, return_train_score=True,\n",
       "       scoring=None, verbose=0)"
      ]
     },
     "execution_count": 56,
     "metadata": {},
     "output_type": "execute_result"
    }
   ],
   "source": [
    "rcmdr = MC(n_u=n_u, n_m=n_m, gamma=0.01, n_epochs=50, solver=\"sgd\")\n",
    "params = {\"lmbda\": (0.25, 0.5, 0.75),\n",
    "         \"n_factors\": (18, 20, 22)}\n",
    "search = GridSearchCV(rcmdr, param_grid=params, cv=4)\n",
    "search.fit(X, y)"
   ]
  },
  {
   "cell_type": "code",
   "execution_count": 57,
   "metadata": {
    "collapsed": false,
    "scrolled": true
   },
   "outputs": [
    {
     "data": {
      "text/html": [
       "<div>\n",
       "<table border=\"1\" class=\"dataframe\">\n",
       "  <thead>\n",
       "    <tr style=\"text-align: right;\">\n",
       "      <th></th>\n",
       "      <th>mean_test_score</th>\n",
       "      <th>std_test_score</th>\n",
       "      <th>params</th>\n",
       "    </tr>\n",
       "  </thead>\n",
       "  <tbody>\n",
       "    <tr>\n",
       "      <th>1</th>\n",
       "      <td>1.033814</td>\n",
       "      <td>0.004699</td>\n",
       "      <td>{'n_factors': 20, 'lmbda': 0.25}</td>\n",
       "    </tr>\n",
       "    <tr>\n",
       "      <th>0</th>\n",
       "      <td>1.034799</td>\n",
       "      <td>0.006061</td>\n",
       "      <td>{'n_factors': 18, 'lmbda': 0.25}</td>\n",
       "    </tr>\n",
       "    <tr>\n",
       "      <th>5</th>\n",
       "      <td>1.154195</td>\n",
       "      <td>0.009601</td>\n",
       "      <td>{'n_factors': 22, 'lmbda': 0.5}</td>\n",
       "    </tr>\n",
       "    <tr>\n",
       "      <th>3</th>\n",
       "      <td>1.157405</td>\n",
       "      <td>0.010514</td>\n",
       "      <td>{'n_factors': 18, 'lmbda': 0.5}</td>\n",
       "    </tr>\n",
       "    <tr>\n",
       "      <th>4</th>\n",
       "      <td>1.159038</td>\n",
       "      <td>0.012480</td>\n",
       "      <td>{'n_factors': 20, 'lmbda': 0.5}</td>\n",
       "    </tr>\n",
       "  </tbody>\n",
       "</table>\n",
       "</div>"
      ],
      "text/plain": [
       "   mean_test_score  std_test_score                            params\n",
       "1         1.033814        0.004699  {'n_factors': 20, 'lmbda': 0.25}\n",
       "0         1.034799        0.006061  {'n_factors': 18, 'lmbda': 0.25}\n",
       "5         1.154195        0.009601   {'n_factors': 22, 'lmbda': 0.5}\n",
       "3         1.157405        0.010514   {'n_factors': 18, 'lmbda': 0.5}\n",
       "4         1.159038        0.012480   {'n_factors': 20, 'lmbda': 0.5}"
      ]
     },
     "execution_count": 57,
     "metadata": {},
     "output_type": "execute_result"
    }
   ],
   "source": [
    "best_est = search.best_estimator_\n",
    "results = pd.DataFrame(search.cv_results_)\n",
    "results[[\"mean_test_score\", \"std_test_score\", \"params\"]].sort_values(by=[\"mean_test_score\"], ascending=True).head()"
   ]
  }
 ],
 "metadata": {
  "kernelspec": {
   "display_name": "Python 3",
   "language": "python",
   "name": "python3"
  },
  "language_info": {
   "codemirror_mode": {
    "name": "ipython",
    "version": 3
   },
   "file_extension": ".py",
   "mimetype": "text/x-python",
   "name": "python",
   "nbconvert_exporter": "python",
   "pygments_lexer": "ipython3",
   "version": "3.5.1"
  }
 },
 "nbformat": 4,
 "nbformat_minor": 0
}

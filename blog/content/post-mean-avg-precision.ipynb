{
 "cells": [
  {
   "cell_type": "markdown",
   "metadata": {
    "deletable": true,
    "editable": true,
    "toc": "true"
   },
   "source": [
    "# Table of Contents\n",
    " <p><div class=\"lev1 toc-item\"><a href=\"#In-which-I-spare-you-an-abundance-of-&quot;map&quot;-related-puns-while-explaining-what-Mean-Average-Precision-is.\" data-toc-modified-id=\"In-which-I-spare-you-an-abundance-of-&quot;map&quot;-related-puns-while-explaining-what-Mean-Average-Precision-is.-1\"><span class=\"toc-item-num\">1&nbsp;&nbsp;</span>In which I spare you an abundance of \"map\"-related puns while explaining what Mean Average Precision is.</a></div><div class=\"lev1 toc-item\"><a href=\"#MAP-for-Recommender-Algorithms\" data-toc-modified-id=\"MAP-for-Recommender-Algorithms-2\"><span class=\"toc-item-num\">2&nbsp;&nbsp;</span>MAP for Recommender Algorithms</a></div><div class=\"lev1 toc-item\"><a href=\"#Precision-and-Recall-of-a-Binary-Classifier\" data-toc-modified-id=\"Precision-and-Recall-of-a-Binary-Classifier-3\"><span class=\"toc-item-num\">3&nbsp;&nbsp;</span>Precision and Recall of a Binary Classifier</a></div><div class=\"lev1 toc-item\"><a href=\"#Precision-and-Recall-of-Recommender-Systems\" data-toc-modified-id=\"Precision-and-Recall-of-Recommender-Systems-4\"><span class=\"toc-item-num\">4&nbsp;&nbsp;</span>Precision and Recall of Recommender Systems</a></div><div class=\"lev2 toc-item\"><a href=\"#Precision-and-Recall-at-Cutoff-k\" data-toc-modified-id=\"Precision-and-Recall-at-Cutoff-k-41\"><span class=\"toc-item-num\">4.1&nbsp;&nbsp;</span>Precision and Recall at Cutoff k</a></div><div class=\"lev1 toc-item\"><a href=\"#Average-Precision\" data-toc-modified-id=\"Average-Precision-5\"><span class=\"toc-item-num\">5&nbsp;&nbsp;</span>Average Precision</a></div><div class=\"lev1 toc-item\"><a href=\"#Examples-and-Intuition-for-AP\" data-toc-modified-id=\"Examples-and-Intuition-for-AP-6\"><span class=\"toc-item-num\">6&nbsp;&nbsp;</span>Examples and Intuition for AP</a></div><div class=\"lev1 toc-item\"><a href=\"#The-&quot;Mean&quot;-in-MAP\" data-toc-modified-id=\"The-&quot;Mean&quot;-in-MAP-7\"><span class=\"toc-item-num\">7&nbsp;&nbsp;</span>The \"Mean\" in MAP</a></div><div class=\"lev2 toc-item\"><a href=\"#Common-Variations-on-AP-Formula\" data-toc-modified-id=\"Common-Variations-on-AP-Formula-71\"><span class=\"toc-item-num\">7.1&nbsp;&nbsp;</span>Common Variations on AP Formula</a></div><div class=\"lev1 toc-item\"><a href=\"#So-Why-Did-I-Bother-Defining-Recall?\" data-toc-modified-id=\"So-Why-Did-I-Bother-Defining-Recall?-8\"><span class=\"toc-item-num\">8&nbsp;&nbsp;</span>So Why Did I Bother Defining Recall?</a></div><div class=\"lev2 toc-item\"><a href=\"#Graphical-Representation-of-$P(i)$-and-$r(i)$\" data-toc-modified-id=\"Graphical-Representation-of-$P(i)$-and-$r(i)$-81\"><span class=\"toc-item-num\">8.1&nbsp;&nbsp;</span>Graphical Representation of <span class=\"MathJax_Preview\" style=\"color: inherit;\"></span><span class=\"MathJax MathJax_Processing\" id=\"MathJax-Element-52-Frame\" tabindex=\"0\"></span><script type=\"math/tex\" id=\"MathJax-Element-52\">P(i)</script> and <span class=\"MathJax_Preview\" style=\"color: inherit;\"></span><span class=\"MathJax MathJax_Processing\" id=\"MathJax-Element-53-Frame\" tabindex=\"0\"></span><script type=\"math/tex\" id=\"MathJax-Element-53\">r(i)</script></a></div><div class=\"lev1 toc-item\"><a href=\"#To-Summarize...\" data-toc-modified-id=\"To-Summarize...-9\"><span class=\"toc-item-num\">9&nbsp;&nbsp;</span>To Summarize...</a></div><div class=\"lev1 toc-item\"><a href=\"#Further-Reading-on-MAP\" data-toc-modified-id=\"Further-Reading-on-MAP-10\"><span class=\"toc-item-num\">10&nbsp;&nbsp;</span>Further Reading on MAP</a></div>"
   ]
  },
  {
   "cell_type": "markdown",
   "metadata": {
    "deletable": true,
    "editable": true
   },
   "source": [
    "# In which I spare you an abundance of \"map\"-related puns while explaining what Mean Average Precision is. \n",
    "\n",
    "(Ok there's one pun.) Since you're reading this you've probably just encountered the term \"Mean Average Precision\", or MAP. This is a very popular evaluation metric for algorithms that do information retrieval, like google search. **If you have an algorithm that is returning a ranked ordering of items, each item is either hit or miss (like relevant vs. irrelevant search results) and items further down in the list are less likely to be used (like search results at the bottom of the page), then maybe MAP is the metric for you!** "
   ]
  },
  {
   "cell_type": "markdown",
   "metadata": {
    "deletable": true,
    "editable": true
   },
   "source": [
    "# MAP for Recommender Algorithms\n",
    "It happens that MAP is also useful for user recommendation systems, like when Amazon shows you a short list of products it thinks you might *also* want to purchase after you've added something to your cart. **Using MAP to evaluate a recommender algorithm implies that you are treating the recommendation like a ranking task.** This often makes perfect sense! A user has a finite amount of time and attention, so we want to know not just five products they might like, but also which are most liked or which we are most confident of. This lets you show the top recommendations first and maybe market them more aggressively.\n",
    "\n",
    "For this kind of task we want a metric that rewards us for getting lots of \"correct\" or relevant recommendations, and rewards us for having them earlier on in the list (higher ranked). Before we can construct this metric though, we need **Precision** and **Recall**. (That's what I call my left and right fist.) "
   ]
  },
  {
   "cell_type": "markdown",
   "metadata": {
    "deletable": true,
    "editable": true
   },
   "source": [
    "# Precision and Recall of a Binary Classifier\n",
    "I conveniently just learned about these terms in Andrew Ng's ML course on Coursera, so let's start there. If we have binary classifier for predicting having a condition ($y=1$) vs not, then we define:\n",
    "\n",
    "\n",
    "\\begin{align*}\n",
    "\\textrm{precision:} \\qquad P = \\frac{\\textrm{# correct positive}}{\\textrm{# predicted positive}}\\\\\n",
    "\\\\\n",
    "\\textrm{recall:} \\qquad r  = \\frac{\\textrm{# correct positive}}{\\textrm{# with condition}}\n",
    "\\end{align*}\n",
    "\n",
    "\n",
    "In maybe more familiar terminology, precision is (1 -  *false positive rate*), and the recall is (1 - *false negative rate*). Actually I'm baffled as to why two new terms were needed for this. "
   ]
  },
  {
   "cell_type": "markdown",
   "metadata": {
    "deletable": true,
    "editable": true
   },
   "source": [
    "# Precision and Recall of Recommender Systems\n",
    "OK so how does this map (ding!) to recommender systems? In modeling pretty much all recommendation systems we're going to have the following quantities with their corresponding ones in the binary classifier:\n",
    "\n",
    "|  Terminology in Binary Classifier  |  Terminology in Recommender System  |\n",
    "|------|------|\n",
    "| # with condition |  # of all the possible relevant (\"correct\") items for a user| \n",
    "| # predicted positive | # of items we recommended (we predict these items as \"relevant\")   |\n",
    "| # correct positives | # of our recommendations that are relevant |\n",
    "\n",
    "OK so now with almost no effort we have:\n",
    "\n",
    "\n",
    "\\begin{align*}\n",
    "\\textrm{recommender system precision:} \\qquad P = \\frac{\\textrm{# of our recommendations that are relevant}}{\\textrm{# of items we recommended}}\\\\\n",
    "\\\\\n",
    "\\textrm{recommender system recall:} \\qquad r  = \\frac{\\textrm{# of our recommendations that are relevant}}{\\textrm{# of all the possible relevant items}}\n",
    "\\end{align*}\n",
    "\n",
    "\n",
    "Let's say I am asked to recommend $N=5$ products (this means I predict \"positive\" for five products), from all the possible products there are only $m=3$ that are actually relevant to the user, and my successes and failures in my ranked list are $[0, 1, 1, 0, 0]$. Then:\n",
    "- \\# of items we recommended = 5\n",
    "- \\# of our recommendations that are relevant = 2\n",
    "- \\# of all the possible relevant items = 3\n",
    "- precision = 2/5\n",
    "- recall = 2/3\n",
    "\n",
    "\n",
    "Here's a visual example: we're being asked to recommend financial \"products\" to Bank users and we compare our recommendations to the products that a user actually added the following month (those are all the possible \"relevant\" ones).\n",
    "\n",
    "<img src=\"images/post-mean-avg-precision/area_pic.png\" width=400></img>"
   ]
  },
  {
   "cell_type": "markdown",
   "metadata": {
    "deletable": true,
    "editable": true
   },
   "source": [
    "## Precision and Recall at Cutoff k\n",
    "So that's nice, but Precision and Recall don't seem to care about ordering. So instead let's talk about **precision and recall at cutoff k**. Imagine taking your list of $N$ recommendations and considering only the first element, then only the first two, then only the first three, etc... these subsets can be indexed by $k$. **Precision and Recall at cutoff k, $P(k)$ and $r(k)$, are simply the precision and recall calculated by considering only the subset of your recommendations from rank 1 through $k$**. Really it would be more intuitive to say \"up to cutoff k\" rather than \"at\".\n",
    "\n",
    "Sticking with the bank example, here is what I mean:\n",
    "<img src=\"images/post-mean-avg-precision/subset_pic.png\" width=800></img>"
   ]
  },
  {
   "cell_type": "markdown",
   "metadata": {
    "deletable": true,
    "editable": true
   },
   "source": [
    "# Average Precision\n",
    "OK are you ready for Average Precision now? If we are asked to recommend $N$ items, the number of relevant items in the full space of items is $m$, then:\n",
    "\n",
    "\\begin{align*}\n",
    "\\textrm{AP@N} = \\frac{1}{m}\\sum_{k=1}^N \\textrm{($P(k)$ if $k^{th}$ item was relevant)} = \\frac{1}{m}\\sum_{k=1}^N P(k)\\cdot rel(k),\n",
    "\\end{align*}\n",
    "\n",
    "where $rel(k)$ is just an indicator that says whether that $k^{th}$ item was relevant ($rel(k)=1$) or not ($rel(k)=0$). I'd like to point out that instead of recommending $N$ items would could have recommended, say, $2N$, but the AP@N metric says we only care about the average precision up to the $N^{th}$ item. \n",
    "\n",
    "# Examples and Intuition for AP\n",
    "Let's imagine recommending $N=3$ products (AP@3) to a user who actually added a total of $m=3$ products. Here are some examples of outcomes for our algorithm:\n",
    "\n",
    "\n",
    "|  ________Recommendations________|  ________Precision @k's________  | ________AP@3________  |\n",
    "|------|------||------|------||------|\n",
    "|  [0, 0, 1]  |  [0, 0, 1/3]  |  (1/3)**(1/3)** = 0.11  |\n",
    "|  [0, 1, 1]  |  [0, 1/2, 2/3]  |  (1/3)[(1/2) + **(2/3)**] = 0.38  |\n",
    "|  [1, 1, 1]  |  [1/1, 2/2, 3/3]   |  (1/3)[(1) + (2/2) + **(3/3)**] = 1 |\n",
    "\n",
    "First notice that the more correct recommendations I have, the larger my AP. This is because the $k^{th}$ subset precision is included in AP sum only if you got the $k^{th}$ recommendation correct, thus **AP rewards you for giving correct recommendations** (surprising absolutely no one). \n",
    "\n",
    "There is more subtletly here though! In each row I've bolded the $P(k)$ term which came from the correct recommendation in the *third* slot. Notice it is larger when there have been more successes in front of it - that's because the precision of the $k^{th}$ subset is higher the more correct guesses you've had up to point $k$. Thus, **AP rewards you for front-loading the recommendations that are most likely to be correct**. \n",
    "\n",
    "These two features are what makes AP a useful metric when your algorithm is returning a ranked ordering of items where each item is either correct or incorrect, and items further down in the list are less likely to be used. One more set of examples might make this second point a little clearer. \n",
    "\n",
    "|  ________Recommendations________ |  ________Precision @k's________  | ________AP@3________ |\n",
    "|----------------------|----------------------|----------------------|\n",
    "|  [1, 0, 0]  |  [1/1, 1/2, 1/3]  |   (1/3)(1) = 0.33  |\n",
    "|  [0, 1, 0]  |  [0, 1/2, 1/3]  |  (1/3)(1/2) = 0.15|\n",
    "|  [0, 0, 1]  |  [0, 0, 1/3]  |  (1/3)(1/3) = 0.11 |\n",
    "\n",
    "In all these cases you got just one recommendations correct, but AP was higher the further up the ranking that correct guess fell. \n",
    "\n",
    "A final point of note is that adding another recommendation can never *decrease* your AP score, so if you are asked for $N$ recommendations give all of them, even if you don't feel very confident about the ones lower down the list! **AP will never penalize you for tacking on additional recommendations to your list - just make sure you front-load the best ones.**"
   ]
  },
  {
   "cell_type": "markdown",
   "metadata": {
    "deletable": true,
    "editable": true
   },
   "source": [
    "# The \"Mean\" in MAP\n",
    "OK that was Average Precision, which applies to a single data point (like a single user). What about MAP@N? All that remains is to average the AP@N metric over all your $|U|$ users. Yes, an average of an average.\n",
    "\n",
    "\\begin{align*}\n",
    "\\textrm{MAP@N} = \\frac{1}{|U|}\\sum_{u=1}^|U|(\\textrm{AP@N})_u = \\frac{1}{|U|} \\sum_{u=1}^|U| \\frac{1}{m}\\sum_{k=1}^N P_u(k)\\cdot rel_u(k).\n",
    "\\end{align*}\n",
    "\n",
    "## Common Variations on AP Formula\n",
    "\n",
    "Often you see the AP metric modified slightly when there might be more possible correct recommendations then the number of recommendations you are asked to give. Say, a super active user at the bank who adds $m=10$ accounts the next month, while your algorithm is only supposed to report $N=5$. In this case the normalization factor used is $1/\\textrm{min}(m, N)$, which prevents your AP score from being unfairly suppressed when your number of recommendations couldn't possibly capture all the correct ones. \n",
    "\n",
    "\\begin{align*}\n",
    "\\textrm{AP@N} = \\frac{1}{\\textrm{min}(m,N)}\\sum_{k=1}^N P(k)\\cdot rel(k).\n",
    "\\end{align*}\n",
    "\n",
    "You also might encounter a somewhat sloppier usage where there is no indicator function $rel(k)$ in the AP@N sum. In this case the precision at cutoff $k$ is being implictly defined to be zero when the $k^{th}$ recommendation was incorrect, that way it still doesn't contribute to the sum:\n",
    "\n",
    "\\begin{align*}\n",
    "\\textrm{AP@N} = \\frac{1}{m}\\sum_{k=1}^N P(k),\\\\\n",
    "P(k) = 0 \\textrm{ if $k^{th}$ element is irrelevant / incorrect.}\n",
    "\\end{align*}\n",
    "\n",
    "Finally, if it's possible for there to be no relevant or correct recommendations possible ($m=0$) then often the AP is defined to be zero for those points. Note that it will have the effect of dragging the MAP number of an algorithm down the more users there are who didn't actually add any products. This doesn't matter for comparing the performance of two algorithms on the same data set, but it does mean that you shouldn't place any kind of absolute meaning on the final number.\n",
    "\n",
    "\\begin{align*}\n",
    "\\textrm{AP@N} = \\frac{1}{\\textrm{min}(m,N)}\\sum_{k=1}^N P(k)\\cdot rel(k) \\qquad \\textrm{ if $m\\neq 0$,}\\\\\n",
    "AP = 0 \\qquad \\textrm{if $m=0$}.\n",
    "\\end{align*}\n"
   ]
  },
  {
   "cell_type": "markdown",
   "metadata": {
    "deletable": true,
    "editable": true
   },
   "source": [
    "# So Why Did I Bother Defining Recall?\n",
    "There is an alternative formulation for the AP in terms of Precision *and* Recall, and I didn't want you to feel left out when people start talking about it at parties:\n",
    "\n",
    "\\begin{align*}\n",
    "\\textrm{AP@N} = \\sum_{k=1}^N \\textrm{(precision at $k$)}\\cdot\\textrm{(change in recall at $k$)} = \\sum_{k=1}^N P(k)\\Delta r(k),\n",
    "\\end{align*}\n",
    "\n",
    "where $\\Delta r(k)$ is the change in recall from the $k-1^{th}$ to the $k^{th}$ subset. This formulation is actually kind of nice because we don't need to \"leave out\" terms in the sum with an indicator function, instead the change in recall term is zero when the $k^{th}$ recommendation is incorrect so those guys get wiped out anyway. Hopefully you noticed that the prefactor $1/m$ is missing too, it turns out that when the $k^{th}$ recommendation *is* correct the change in recall is exactly $1/m$.  OK let me stop talking and make with the examples. Same as before, recommending $N=3$ products (AP@3) to a user who actually added a total of $m=3$ products:"
   ]
  },
  {
   "cell_type": "markdown",
   "metadata": {
    "deletable": true,
    "editable": true
   },
   "source": [
    "|  ________Recs________  |  ________Prec @k's________ |  ________Recall @k's________  |  ________Change r @k's________  |  ________AP@3________  |\n",
    "|------|------|\n",
    "|  [0, 0, 1]  |  [0, 0, 1/3]  | [0, 0, 1/3]  |  [0, 0, 1/3]  |  (1/3)(1/3) = 0.11  |\n",
    "|  [0, 1, 1]  |  [0, 1/2, 2/3]  | [0, 1/3, 2/3]  |  [0, 1/3, 1/3]  |  (1/3)(1/2) + (1/3)(2/3) = 0.38  |\n",
    "|  [1, 1, 1]  |  [1, 2/2, 3/3]  | [1/3, 2/3, 3/3]  |  [1/3, 1/3, 1/3]  |  (1/3)(1) + (1/3)(1) + (1/3)(1) = 1|\n",
    "\n",
    "|  ________Recs________  |  ________Prec @k's________ |  ________Recall @k's________  |  ________Change r @k's________  |  ________AP@3________  |\n",
    "|------|------|\n",
    "|  [1, 0, 0]  |  [1, 1/2, 1/3]  | [1/3, 1/3, 1/3]  |  [1/3, 0, 0]  |  (1)(1/3) = 0.33 |\n",
    "|  [0, 1, 0]  |  [0, 1/2, 1/3]  | [0, 1/3, 1/3]  |  [0, 1/3, 0]  |  (1/2)(1/3) = 0.15|\n",
    "|  [0, 0, 1]  |  [0, 0, 1/3]  | [0, 0, 1/3]  |  [0, 0, 1/3]  |  (1/3)(1/3) = 0.11 |\n",
    "\n",
    "\n",
    "Hopefully you can convince yourself that you are getting exactly the same result for this formulation of AP as we got before."
   ]
  },
  {
   "cell_type": "markdown",
   "metadata": {
    "deletable": true,
    "editable": true
   },
   "source": [
    "## Graphical Representation of $P(i)$ and $r(i)$\n",
    "We can think of $P(i)$ and $r(i)$ as functions of the index $i$, and we can plot them accordingly, e.g. $P(i)$ vs. $i$. The resulting plot would of course depend heavily on the particular sequence of correct/incorrect recommendations that we are indexing through. More often what you see is a plot in the $P(i)$ x $r(i)$ plane that traces out the trajectory of both these quantities as you index through the list of recommendations. Analytically we can already imagine what such a trajectory will do: if at the next $i$ we got a correct recommendation then both precision and recall should increase, whereas if we got that recommendation wrong then precision will decrease while recall will be unchanged. \n",
    "\n",
    "Let me show you :)"
   ]
  },
  {
   "cell_type": "code",
   "execution_count": 9,
   "metadata": {
    "collapsed": false,
    "deletable": true,
    "editable": true
   },
   "outputs": [
    {
     "name": "stdout",
     "output_type": "stream",
     "text": [
      "[0.0, 0.5, 0.3333333333333333, 0.5, 0.4, 0.5, 0.5714285714285714]\n",
      "[0.0, 0.2, 0.2, 0.4, 0.4, 0.6, 0.8]\n"
     ]
    }
   ],
   "source": [
    "recoms = [0, 1, 0, 1, 0, 1, 1]  # N = 7\n",
    "NUM_ACTUAL_ADDED_ACCT = 5 \n",
    "precs = []\n",
    "recalls = []\n",
    "\n",
    "for indx, rec in enumerate(recoms):\n",
    "    precs.append(sum(recoms[:indx+1])/(indx+1))\n",
    "    recalls.append(sum(recoms[:indx+1])/NUM_ACTUAL_ADDED_ACCT)\n",
    "\n",
    "print(precs)\n",
    "print(recalls)"
   ]
  },
  {
   "cell_type": "code",
   "execution_count": 10,
   "metadata": {
    "collapsed": false,
    "deletable": true,
    "editable": true
   },
   "outputs": [
    {
     "data": {
      "text/plain": [
       "<matplotlib.text.Text at 0x245c3b25fd0>"
      ]
     },
     "execution_count": 10,
     "metadata": {},
     "output_type": "execute_result"
    },
    {
     "data": {
      "image/png": "[encoded data removed]",
      "text/plain": [
       "<matplotlib.figure.Figure at 0x245c36274e0>"
      ]
     },
     "metadata": {},
     "output_type": "display_data"
    }
   ],
   "source": [
    "import matplotlib.pyplot as plt\n",
    "% matplotlib inline\n",
    "fig, ax = plt.subplots()\n",
    "ax.plot(recalls, precs, markersize=10, marker=\"o\")\n",
    "ax.set_xlabel(\"Recall\")\n",
    "ax.set_ylabel(\"Precision\")\n",
    "ax.set_title(\"P(i) vs. r(i) for Increasing $i$ for AP@7\")"
   ]
  },
  {
   "cell_type": "markdown",
   "metadata": {
    "deletable": true,
    "editable": true
   },
   "source": [
    "The jaggedness of this type of plot has lead to the creation of some \"smoothed\" or \"interpolated\" average precision metrics as alternatives, but I'll not talk about them here. \n",
    "\n",
    "# To Summarize...\n",
    "MAP is very popular evaluation metric for algorithms that do information retrieval like google search results, but it also can apply to user-targeted product recommendations. If you have an algorithm that is returning a ranked ordering of items, each item is either hit or miss (like relevant vs. irrelevant search results) and items further down in the list are less likely to be used/seen (like search results at the bottom of the page), then MAP might be a useful metric. \n",
    "\n",
    "Using MAP to evaluate a recommender algorithm implies that you are treating the recommendation like a ranking task. This often makes perfect sense since a user has a finite amount of time and attention and we want to show the top recommendations first and maybe market them more aggressively. \n",
    "\n",
    "In recommendation systems MAP computes the mean of the Average Precision (AP) over all your users. The AP is a measure that takes in a ranked list of your $N$ recommendations and compares it to a list of the true set of \"correct\" or \"relevant\" recommendations for that user. AP rewards you for having a lot of \"correct\" (relevant) recommendations in your list, and rewards you for putting the most likely correct recommendations at the top (you are penalized more when incorrect guesses are higher up in the ranking). So order of \"hits\" and \"misses\" matters a lot in computing an AP score, but once you have front-loaded your best guesses you can never *decrease* your AP by tacking on more. "
   ]
  },
  {
   "cell_type": "markdown",
   "metadata": {
    "deletable": true,
    "editable": true
   },
   "source": [
    "# Further Reading on MAP\n",
    "- from the source itself... [wikipedia](https://en.wikipedia.org/wiki/Information_retrieval#Average_precision)\n",
    "- from an all-things-ML blog [fast ML](http://fastml.com/what-you-wanted-to-know-about-mean-average-precision/)\n",
    "- from [Stanford class slides](http://web.stanford.edu/class/cs276/handouts/EvaluationNew-handout-6-per.pdf) \n",
    "- from a [DS blog](https://sanchom.wordpress.com/tag/average-precision/)\n",
    "- from a [Stanford online book](http://nlp.stanford.edu/IR-book/html/htmledition/evaluation-of-ranked-retrieval-results-1.html)\n",
    "- from June Andrews on why [MAP is \"mean\"](https://juneandrews.com/2014/12/15/mean-average-precision-isnt-so-nice/)\n",
    "- from [Cornell class slides](http://www.cs.cornell.edu/courses/cs4300/2013fa/lectures/metrics-2-4pp.pdf)"
   ]
  }
 ],
 "metadata": {
  "anaconda-cloud": {},
  "hide_input": false,
  "kernelspec": {
   "display_name": "Python [default]",
   "language": "python",
   "name": "python3"
  },
  "language_info": {
   "codemirror_mode": {
    "name": "ipython",
    "version": 3
   },
   "file_extension": ".py",
   "mimetype": "text/x-python",
   "name": "python",
   "nbconvert_exporter": "python",
   "pygments_lexer": "ipython3",
   "version": "3.5.6"
  },
  "toc": {
   "colors": {
    "hover_highlight": "#DAA520",
    "running_highlight": "#FF0000",
    "selected_highlight": "#FFD700"
   },
   "moveMenuLeft": true,
   "nav_menu": {
    "height": "263px",
    "width": "252px"
   },
   "navigate_menu": true,
   "number_sections": true,
   "sideBar": true,
   "threshold": 4,
   "toc_cell": true,
   "toc_section_display": "block",
   "toc_window_display": false
  }
 },
 "nbformat": 4,
 "nbformat_minor": 0
}

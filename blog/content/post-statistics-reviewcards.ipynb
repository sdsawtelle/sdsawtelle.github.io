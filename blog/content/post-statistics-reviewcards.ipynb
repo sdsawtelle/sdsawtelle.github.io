{
 "cells": [
  {
   "cell_type": "markdown",
   "metadata": {
    "toc": "true"
   },
   "source": [
    "# Table of Contents\n",
    " <p><div class=\"lev1 toc-item\"><a href=\"#Statistics-Review-Cards\" data-toc-modified-id=\"Statistics-Review-Cards-1\"><span class=\"toc-item-num\">1&nbsp;&nbsp;</span>Statistics Review Cards</a></div>"
   ]
  },
  {
   "cell_type": "markdown",
   "metadata": {},
   "source": [
    "# Statistics Review Cards\n",
    "This is a set of PDF review cards (with the generating LaTex) for reviewing important basic concepts in probability and statistics, with an emphasis on the Bayesian framework. The content is based off of a series of lecture notes by Dr. Joe Chang (Yale) for an introductory course that I took. The content is also heavily augmented by discussions with Dr. David Brinda (Yale), especially the \"decision theoretic framework for data analysis\" perspective. \n",
    "\n",
    "Each card begins by listing a series of questions (either related to explaining or proving a concept, or a toy problem utilizing a concept), then the body of the card contains the \"solutions\" to these questions. **For maximum effectiveness when you are reviewing, you should give your best effort to fully answering a question before you look at the \"solution\".** This is because practicing *recall* is a much more effective way to consolidate learning than simple review.\n",
    "\n",
    "The review cards are written in LaTex and hosted in a GitHub repo [here](https://github.com/sdsawtelle/statistics-review-cards). \n",
    "\n",
    "Below is a preview of what each review card contains, listed in the order that it makes sense to review them."
   ]
  },
  {
   "cell_type": "markdown",
   "metadata": {},
   "source": [
    "1. [counting-problems](https://github.com/sdsawtelle/statistics-review-cards/blob/master/Cards/counting-problems/counting-problems.pdf)\n",
    "This card reviews the fundamental principle of counting, and permutations and combinations. It provides a general framework for counting problems where a set of n objects can be\n",
    "assigned to k roles, and either the roles or objects, or both or neither, are indistinguishable. It introduces the \"stars and bars\" approach to visualizing problems concerning combinatorics with subsets.\n",
    "\n",
    "2. [conditional-probability](https://github.com/sdsawtelle/statistics-review-cards/blob/master/Cards/conditional-probability/conditional-probability.pdf)\n",
    "This card defines conditional probability and disjointness and independence. It discusses how to calculate the probability of a union or intersection of outcomes. It describes how to transform calculations of probability by partitioning the sample space in a useful way.\n",
    "\n",
    "3. [decision-theoretic-framework-of-analysis](https://github.com/sdsawtelle/statistics-review-cards/blob/master/Cards/decision-theoretic-framework-of-analysis/decision-theoretic-framework-of-analysis.pdf)\n",
    "This card lays out a general logical framework for statistical data analysis. This framework is an abstract schema that fits many, many specific techniques and terms in statistical inference. The card discusses the definition of loss function, risk, risk curve, and decision rules. It introduces the following common topics in terms of the framework: estimators (density estimation and function estimation), bias/variance decomposition of estimators, bayesian analyses.\n",
    "\n",
    "4. [estimation](https://github.com/sdsawtelle/statistics-review-cards/blob/master/Cards/estimation/estimation.pdf)\n",
    "Reviews definition of estimators from the DTFoA context. Defines the likelihood function and maximum likelihood estimators with some examples. Introduces linear regression and logistic regression.\n",
    "\n",
    "5. [bayesian-data-analysis](https://github.com/sdsawtelle/statistics-review-cards/blob/master/Cards/bayesian-data-analysis/bayesian-data-analysis.pdf)\n",
    "This card builds from the conditional-probability card and the decision-theoretic-framework-of-analysis card by applying conditional probability to data analysis. It cover the general framework of Bayesian analysis and how it is commonly employed in practice.\n",
    "\n",
    "6. [random-variables-and-LLN](https://github.com/sdsawtelle/statistics-review-cards/blob/master/Cards/random-variables-and-LLN/random-variables-and-LLN.pdf)\n",
    "This card dives deeper into statistics by discussing random vectors and joint, conditional and marginal distributions. It defines mean, variance and conditional expectation which are important metrics on a distribution. It discusses the very important example of mean and variance of the sample mean of data. It gives the Law of Large Numbers regarding sample means and discusses the Markov Inequality by way of proof of the LLN. \n",
    "\n",
    "7. [common-distributions-and-CLT](https://github.com/sdsawtelle/statistics-review-cards/blob/master/Cards/common-distributions-and-CLT/common-distributions-and-CLT.pdf)\n",
    "This card follows up an understanding of distributions, mean and variance by outlining a few of the most common or important distributions - binomial, geometric, cauchy, normal. The Central Limit Theorem is discussed here.\n",
    "\n",
    "8. [markov-chain-and-MCMC](https://github.com/sdsawtelle/statistics-review-cards/blob/master/Cards/markov-chain-and-MCMC/markov-chain-and-MCMC.pdf)\n",
    "This card defines markov chains and gives a discussion of the associated ideas of limiting distribution, stationary distribution and irreducibility. It gives the ergodic theorem for markov chains. It then describes the Metropolis Hastings algorithm for simulating a draw from a distribution with an unknown normalization."
   ]
  }
 ],
 "metadata": {
  "hide_input": false,
  "kernelspec": {
   "display_name": "Python [conda env:scipybase_Apr2019]",
   "language": "python",
   "name": "conda-env-scipybase_Apr2019-py"
  },
  "language_info": {
   "codemirror_mode": {
    "name": "ipython",
    "version": 3
   },
   "file_extension": ".py",
   "mimetype": "text/x-python",
   "name": "python",
   "nbconvert_exporter": "python",
   "pygments_lexer": "ipython3",
   "version": "3.6.7"
  },
  "toc": {
   "colors": {
    "hover_highlight": "#DAA520",
    "running_highlight": "#FF0000",
    "selected_highlight": "#FFD700"
   },
   "moveMenuLeft": true,
   "nav_menu": {
    "height": "30px",
    "width": "252px"
   },
   "navigate_menu": true,
   "number_sections": true,
   "sideBar": true,
   "threshold": 4,
   "toc_cell": true,
   "toc_section_display": "block",
   "toc_window_display": false
  }
 },
 "nbformat": 4,
 "nbformat_minor": 2
}

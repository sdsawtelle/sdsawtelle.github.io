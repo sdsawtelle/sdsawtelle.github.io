{
 "cells": [
  {
   "cell_type": "markdown",
   "metadata": {},
   "source": [
    "# In which I use python to make a cheat sheet and then school my husband at scrabble.<sup>[1]</sup> \n",
    "\n",
    "The husband and I play a lot of scrabble. We are serious enough about it to use *all* the two and three letter words (these include \"aa\", \"xu\", \"cwm\" among other nonsense) and the fancy \"J\", \"X\", \"Z\" and \"Q\" words. But we're not serious enough about it to memorize these words, so we cheat and refer to word lists while we play. There are lots of word lists already out there, but we're obsessively minimalist and didn't want a sheaf of print-outs floating around - we wanted a comprehensive, compact cheat sheet that would fit on just two laminated pages.\n",
    "\n",
    "The deal with playable words in scrabble is that tournament players use the *Official Word List* (OWL) while often family or club games use the *Official Scrabble Players Dictionary* (OSPD). The OSPD is endorsed by Hasbro Inc. and is basically the OWL minus any word that could be considered even mildly offensive. An interesting history of this craziness can be found [here]( http://scrabble.wonderhowto.com/news/controversy-changed-scrabble-0114722/) and a titillating list of the expurgated words is [here](http://www.seattlescrabble.org/expurg.php).\n",
    "\n",
    "Every so often new versions of the OWL and OSPD are released, and we wanted our cheat sheet to be current with the most recent OWL3. For some reason I had a really hard time finding an electronic copy of this list anywhere, but it looks like [this](https://freeowl3.wordpress.com/) is a valid one.\n",
    "\n",
    "We wanted a cheat sheet that was just two pages, each front and back, that we could laminate. We wanted it to have the following things:\n",
    "- two-to-make-threes (two letter words with their valid front and back hook letters)\n",
    "- three-to-make-fours\n",
    "- \"J\" words up to five letters\n",
    "- \"X\" words up to five letters\n",
    "- \"Z\" words up to five letters\n",
    "- \"Q\" words up to five letters\n",
    "- \"Q\" words without a \"U\"\n",
    "- vowel dumps (words with at least 66% vowels)\n",
    "- \"U\" vowel dumps (words with at least 66% \"U\"s)\n",
    "- \"I\" vowel dumps\n",
    "- list of the top six and seven-letter-stems for bingos\n",
    "\n",
    "So this Python project consists of pulling in a complete word list, using it to selectively create the above subsets, writing the individual subsets to file, and then using the cheat sheet to destroy my husband at Scrabble. To skip ahead a bit, here are the outputs that you might be interested in:\n",
    "- A text file of the [full OWL3 word list](images/post-scrabble-wordlists/OWL3_Dictionary.txt)\n",
    "- A set of [text files for the above word lists](images/post-scrabble-wordlists/OWL3_wordlists.7z)\n",
    "- PDF of the final [OWL3 Cheat Sheet #1](images/post-scrabble-wordlists/OWL3_Cheat_Sheet1_lists.pdf) (J, Q, X, Z, 2-to-make-3s, vowel dumps)\n",
    "- PDF of the final [OWL3 Cheat Sheet #2](images/post-scrabble-wordlists/OWL3_Cheat_Sheet2_3sto4s.pdf) (3-to-make4s)\n",
    "\n",
    "<a name=\"myfootnote1\">1</a>: *But not really because he's better than I am. My strength is spending an inordinate amount of time looking for bingos on my rack and asking if we can \"start over\" when I don't find one.*\n",
    "\n",
    "# Creating the Word Lists in Python\n",
    "Disclaimer: This is newbie python. As in, it is actually the first thing I did while learning Python! You can tell because I included comments for myself like *`# The \"in\" operator is implemented for strings`.*  Lol.\n",
    "\n",
    "### Create a complete list of words from an OWL3 text file"
   ]
  },
  {
   "cell_type": "code",
   "execution_count": 30,
   "metadata": {
    "collapsed": false
   },
   "outputs": [],
   "source": [
    "# Readlines returns a list of lines of file until EOF.\n",
    "with open(\"OWL3_Dictionary.txt\") as text:\n",
    "    dictionary = text.readlines()\n",
    "\n",
    "# Strip the newline characters and lowercase each word.\n",
    "dictionary = [word.strip('\\n\\r') for word in dictionary]\n",
    "dictionary = [word.lower() for word in dictionary]"
   ]
  },
  {
   "cell_type": "markdown",
   "metadata": {},
   "source": [
    "Here is what a slice of the dictionary list looks like:"
   ]
  },
  {
   "cell_type": "code",
   "execution_count": 31,
   "metadata": {
    "collapsed": false
   },
   "outputs": [
    {
     "data": {
      "text/plain": [
       "['aa', 'aah', 'aahed', 'aahing', 'aahs', 'aal']"
      ]
     },
     "execution_count": 31,
     "metadata": {},
     "output_type": "execute_result"
    }
   ],
   "source": [
    "dictionary[0:6]"
   ]
  },
  {
   "cell_type": "markdown",
   "metadata": {},
   "source": [
    "### Create more useful subsets of words from the full list\n",
    "I figured we could make the rest of the project cleaner by looping through the dictionary once and pulling out the few subsets that we actually need to work with."
   ]
  },
  {
   "cell_type": "code",
   "execution_count": 32,
   "metadata": {
    "collapsed": false
   },
   "outputs": [],
   "source": [
    "# Loop through the dictionary and create a set of more specific lists\n",
    "two_words = []  # all the words of length 2\n",
    "three_words = []  # all the words of length 3\n",
    "four_words = []  # all the words of length 4\n",
    "j_words = []  # all the words containing at least one 'j'\n",
    "x_words = []  # all the words containing at least one 'x'\n",
    "q_words = []  # all the words containing at least one 'q'\n",
    "z_words = []  # all the words containing at least one 'z'\n",
    "\n",
    "for word in dictionary:\n",
    "    if len(word) == 4:\n",
    "        four_words.append(word)\n",
    "    elif len(word) == 3:\n",
    "        three_words.append(word)\n",
    "    elif len(word) == 2:\n",
    "        two_words.append(word)\n",
    "\n",
    "    # The \"in\" operator is implemented for strings (True if a is a substring of b)\n",
    "    if \"j\" in word:\n",
    "        j_words.append(word)\n",
    "    if \"x\" in word:\n",
    "        x_words.append(word)\n",
    "    if \"q\" in word:\n",
    "        q_words.append(word)\n",
    "    if \"z\" in word:\n",
    "        z_words.append(word)"
   ]
  },
  {
   "cell_type": "markdown",
   "metadata": {},
   "source": [
    "### Create the 2-to-3 and 3-to-4 Hooks Lists\n",
    "Hooking is a really useful technique in scrabble where you modify a word that's already on the board by adding one or more tiles either to the front or end of the word. The two and three letter words often have a lot of allowable single-letter hooks so it is helpful to have a list of the same. We can use the two, three and four-length lists to make an array which holds the information about what are valid hooks for each two-letter word, and another array to do likewise for three-letter words. For instance, the two-letter-hooks array will consist of a single row for each two-letter word, where the row has three elements: the first element is valid prefixes, the second element is the two-letter word and the third element is valid suffixes."
   ]
  },
  {
   "cell_type": "code",
   "execution_count": 33,
   "metadata": {
    "collapsed": true
   },
   "outputs": [],
   "source": [
    "def find_hooks(short_words, long_words):\n",
    "    '''Take as an input two lists of words, the first being the list of smaller-sized words, \n",
    "    the second being the list of larger sized words to get hook letters from. Outputs a list \n",
    "    of lists with this hook information.'''\n",
    "    hooks_array = []\n",
    "    for short_word in short_words:\n",
    "        prefixes = [long_word.replace(short_word, \"\") for long_word in long_words if short_word == long_word[1:]]\n",
    "        suffixes = [long_word.replace(short_word, \"\") for long_word in long_words if short_word == long_word[0:-1]]\n",
    "        hooks_array.append([prefixes, short_word.upper(), suffixes])\n",
    "    return hooks_array\n",
    "\n",
    "two_to_make_threes = find_hooks(two_words, three_words)\n",
    "three_to_make_fours = find_hooks(three_words, four_words)"
   ]
  },
  {
   "cell_type": "markdown",
   "metadata": {},
   "source": [
    "Here is what an entry (row) in the output arrays look like (in this case, the two-letter word is \"Aa\" which can be hooked with \"b\" to make \"Baa\" or back-hooked with \"h\", \"l\" or \"s\" to make \"aah\", \"aal\" and \"aas\". "
   ]
  },
  {
   "cell_type": "code",
   "execution_count": 34,
   "metadata": {
    "collapsed": false
   },
   "outputs": [
    {
     "data": {
      "text/plain": [
       "[['b'], 'AA', ['h', 'l', 's']]"
      ]
     },
     "execution_count": 34,
     "metadata": {},
     "output_type": "execute_result"
    }
   ],
   "source": [
    "two_to_make_threes[0]"
   ]
  },
  {
   "cell_type": "markdown",
   "metadata": {},
   "source": [
    "### Write the hook lists to file\n",
    "The above arrays are nice to have in case we ever want to manipulate this information to make e.g. a game for learning the hooks. For now though we want to output them in a text file in a useful format."
   ]
  },
  {
   "cell_type": "code",
   "execution_count": 35,
   "metadata": {
    "collapsed": false
   },
   "outputs": [],
   "source": [
    "# For writing to file the prefixes will be collapsed into a string, and likewise for the suffixes.\n",
    "def print_hooks(filename, hook_array):\n",
    "    with open(filename, 'w') as text:\n",
    "        # The join method for strings concatenates all the string elements in the input sequence by\n",
    "        # gluing them together with the string on which the method is called.\n",
    "        compressed_array = [\"\".join(row[0]) + \" \" + row[1] + \" \" + \"\".join(row[2]) for row in hook_array]\n",
    "        text.writelines([\"%s\\n\" % row for row in compressed_array])\n",
    "\n",
    "print_hooks(\"Two_to_Make_Threes.txt\", two_to_make_threes)\n",
    "print_hooks(\"Threes_to_Make_Fours.txt\", three_to_make_fours)"
   ]
  },
  {
   "cell_type": "markdown",
   "metadata": {},
   "source": [
    "### Create the \"J\", \"X\", \"Z\" and \"Q\" lists\n",
    "These guys are the \"money tiles\" - they are all high point and somewhat difficult to play. For this reason it's helpful to have a list of the shorter words which use them. Here we cull the full X, J and Z lists to restrict to words of length five or less, and then we sort them by length first and alphabetization second (meaning all the length two words will be first in alphabetical order, etc). I will write a function to do these steps, as well as writing the list to file."
   ]
  },
  {
   "cell_type": "code",
   "execution_count": 36,
   "metadata": {
    "collapsed": false
   },
   "outputs": [],
   "source": [
    "def pointer_lists(wordlist, filename):\n",
    "    '''Create and write to file sorted (length, then alphabet) word lists.'''\n",
    "    shortlist = [word for word in wordlist if len(word) <= 5]\n",
    "    # The default sort behavior for a list of lists is sort on first element, then second etc.\n",
    "    # Our sorting key returns a list with first element being word length and second element being the word.\n",
    "    shortlist.sort(key=lambda item: (len(item), item))\n",
    "    with open(filename, 'w') as text:\n",
    "        text.writelines([\"%s\\n\" % word for word in shortlist])\n",
    "\n",
    "pointer_lists(j_words, \"Short_J_Words.txt\")\n",
    "pointer_lists(x_words, \"Short_X_Words.txt\")\n",
    "pointer_lists(z_words, \"Short_Z_Words.txt\")\n",
    "pointer_lists(q_words, \"Short_Q_Words.txt\")"
   ]
  },
  {
   "cell_type": "markdown",
   "metadata": {},
   "source": [
    "### Create the Q-without-U list\n",
    "Now we want to make a list that is Q words that have no \"u\" in them! There are not many of these so we will not restrict to length five."
   ]
  },
  {
   "cell_type": "code",
   "execution_count": 37,
   "metadata": {
    "collapsed": false
   },
   "outputs": [],
   "source": [
    "q_without_u = [word for word in q_words if \"u\" not in word]\n",
    "q_without_u.sort(key=lambda item: (len(item), item))\n",
    "with open(\"Q_without_U_Words.txt\", 'w') as text:\n",
    "    text.writelines([\"%s\\n\" % word for word in q_without_u])"
   ]
  },
  {
   "cell_type": "markdown",
   "metadata": {},
   "source": [
    "This is kind of a fun list, here are some members:"
   ]
  },
  {
   "cell_type": "code",
   "execution_count": 38,
   "metadata": {
    "collapsed": false
   },
   "outputs": [
    {
     "data": {
      "text/plain": [
       "['qaid', 'qats', 'qoph', 'cinqs', 'faqir', 'niqab', 'qadis']"
      ]
     },
     "execution_count": 38,
     "metadata": {},
     "output_type": "execute_result"
    }
   ],
   "source": [
    "q_without_u[5:12]"
   ]
  },
  {
   "cell_type": "markdown",
   "metadata": {},
   "source": [
    "### Create the Vowel Dumps\n",
    "A common but rather unfortunate situation is to be staring at a rack with mostly vowels. All the vowels are only one-point tiles, so it is hard to score with such a rack and often you just try to play off a large number of them. The vowel dump list is a list of words which have length six or less and which each contain at least 66% vowels (the exception is three-letter words which instead must contain 100% vowels... there is only one of these). That means for a two or three-letter word it must be all vowels, for a four-letter word it must be three vowels, and for a five-letter word it must be four vowels. We will also want to make specific \"I\" dumps and \"U\" dumps which are defined as words containing at least 66% \"U\"s or \"I\"s respectively.\n",
    "\n",
    "A nice modular way to proceed is to make a general function that tells you whether the fractional content of set of specific\n",
    "characters is above a certain threshold for any word. For instance in making the vowel dump list the key characters\n",
    "will be \"a\" \"e\" \"i\" \"o\" and \"u\" and the threshold will be 66%."
   ]
  },
  {
   "cell_type": "code",
   "execution_count": 39,
   "metadata": {
    "collapsed": true
   },
   "outputs": [],
   "source": [
    "def wordcontent(word, matchlist, minfraction):\n",
    "    '''Determines if the percentage of characters which are in a \"match list\" in a \n",
    "    given word is greater than or equal to a certain percentage.'''\n",
    "    matches = [(char in matchlist) for char in word]\n",
    "    percentage = sum(matches)/float(len(word))\n",
    "    return True if percentage >= minfraction else False\n",
    "\n",
    "\n",
    "# Pull out only words have 66% or more vowels and are length six or less, and sort by length/alphabetical.\n",
    "vowels = [\"a\", \"e\", \"i\", \"o\", \"u\"]\n",
    "voweldump = [word for word in dictionary if wordcontent(word, vowels, 0.66) and (3 < len(word) <= 6)]\n",
    "voweldump.append(\"eau\")  # handle the one three-letter word exception!\n",
    "voweldump.sort(key=lambda item: (len(item), item))\n",
    "\n",
    "with open(\"Vowel_Dumps.txt\", 'w') as text:\n",
    "    text.writelines([\"%s\\n\" % word for word in voweldump])"
   ]
  },
  {
   "cell_type": "markdown",
   "metadata": {},
   "source": [
    "Here is what a slice of the vowel dump list looks like... lots of words you probably don't recognize."
   ]
  },
  {
   "cell_type": "code",
   "execution_count": 40,
   "metadata": {
    "collapsed": false
   },
   "outputs": [
    {
     "data": {
      "text/plain": [
       "['uvea', 'zoea', 'aalii', 'adieu', 'aecia', 'aerie', 'aioli', 'aiyee']"
      ]
     },
     "execution_count": 40,
     "metadata": {},
     "output_type": "execute_result"
    }
   ],
   "source": [
    "voweldump[65:73]"
   ]
  },
  {
   "cell_type": "markdown",
   "metadata": {},
   "source": [
    "Now we can use the same `wordcontent` function to make the more specific \"U\" and \"I\" vowel dump lists:"
   ]
  },
  {
   "cell_type": "code",
   "execution_count": 41,
   "metadata": {
    "collapsed": false
   },
   "outputs": [],
   "source": [
    "idump = [word for word in dictionary if wordcontent(word, \"i\", 0.50) and len(word) > 2]\n",
    "idump.sort(key=lambda item: (len(item), item))\n",
    "with open(\"I_Dumps.txt\", 'w') as text:\n",
    "    text.writelines([\"%s\\n\" % word for word in idump])\n",
    "\n",
    "udump = [word for word in dictionary if wordcontent(word, \"u\", 0.50) and len(word) > 2]\n",
    "udump.sort(key=lambda item: (len(item), item))\n",
    "with open(\"U_Dumps.txt\", 'w') as text:\n",
    "    text.writelines([\"%s\\n\" % word for word in udump])"
   ]
  },
  {
   "cell_type": "code",
   "execution_count": 42,
   "metadata": {
    "collapsed": false
   },
   "outputs": [
    {
     "data": {
      "text/plain": [
       "['ulu', 'bubu', 'fugu', 'guru', 'juju', 'juku', 'kudu', 'kuru', 'luau', 'lulu']"
      ]
     },
     "execution_count": 42,
     "metadata": {},
     "output_type": "execute_result"
    }
   ],
   "source": [
    "udump[0:10]"
   ]
  },
  {
   "cell_type": "code",
   "execution_count": 43,
   "metadata": {
    "collapsed": false
   },
   "outputs": [
    {
     "data": {
      "text/plain": [
       "['bidi', 'hili', 'ibis', 'ilia', 'imid', 'impi', 'inia', 'inti']"
      ]
     },
     "execution_count": 43,
     "metadata": {},
     "output_type": "execute_result"
    }
   ],
   "source": [
    "idump[0:8]"
   ]
  },
  {
   "cell_type": "markdown",
   "metadata": {},
   "source": [
    "That's it - all the lists I wanted on the cheat sheet now outputted as newline-delimited text files.\n",
    "\n",
    "# Making the Cheat Sheet in Adobe Illustrator - blergh!\n",
    "This part was necessary, but also kind of sucked. The hook lists were especially problematic - I ended up importing the text files into Excel to get columns, then copy/pasting that into Word and doing all sorts of formatting gymnastics to get the columns to look how I wanted, then exporting that to a PDF and opening it in Illustrator. For the other word lists I want to mention the revelatory `Text > Text Area Options` menu in Illustrator that lets you format text into columns. Anyway, you can check out the pics below.\n",
    "\n",
    "<img src=\"images/post-scrabble-wordlists/Scrabble_Cheat_Sheet_Lists_Front.png\"></img>\n",
    "<img src=\"images/post-scrabble-wordlists/Scrabble_Cheat_Sheet_Lists_Back.png\"></img>\n",
    "<img src=\"images/post-scrabble-wordlists/Scrabble_Cheat_Sheet_3toMake4s_Front.png\"></img>\n",
    "<img src=\"images/post-scrabble-wordlists/Scrabble_Cheat_Sheet_3toMake4s_Back.png\"></img>"
   ]
  }
 ],
 "metadata": {
  "anaconda-cloud": {},
  "kernelspec": {
   "display_name": "Python 3",
   "language": "python",
   "name": "python3"
  },
  "language_info": {
   "codemirror_mode": {
    "name": "ipython",
    "version": 3
   },
   "file_extension": ".py",
   "mimetype": "text/x-python",
   "name": "python",
   "nbconvert_exporter": "python",
   "pygments_lexer": "ipython3",
   "version": "3.5.1"
  }
 },
 "nbformat": 4,
 "nbformat_minor": 0
}

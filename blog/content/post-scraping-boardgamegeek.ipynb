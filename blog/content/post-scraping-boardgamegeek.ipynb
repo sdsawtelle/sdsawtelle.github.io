{
 "cells": [
  {
   "cell_type": "markdown",
   "metadata": {},
   "source": [
    "# In which I am continually distracted from scraping board game info by the board games themselves. \n",
    "[Boardgamegeek.com](https://boardgamegeek.com/) (BGG) is an online community for board game enthusiasts that provides social network features as well as a huge database of board games with ratings, comments, statistics, and other features of each game. Now, I quite like board games, especially the more complex Euro-style games (like Settlers of Catan and Ticket to Ride). But what I *really* like is a gigantic steaming pile of data like this site. BGG also has a (recently improved) API so we can mostly avoid the heartache of trying to parse HTML from a page in the wild. \n",
    "\n",
    "Once I have all this data I'm going to fill a pool with it and swim around Scrooge McDuck style. Or maybe I'll analyze it. Ultimately I'm going to try my hand at a recommender system both for games and for finding friends on the site (known as GeekBuddies). I want to do some basic exploratory analysis too though. Don't you want to know if board games are getting easier or harder over the last few years? How the popularity of different game categories has changed over time? What people actually do when presented with 10-star rating system... is the average rating a 5???\n",
    "\n",
    ">## Tools Covered:\n",
    "- `requests` package for retrieving HTML pages and using APIs\n",
    "- `bs4` package for parsing HTML and XML documents\n",
    "- `sqlite3` for interacting with local SQLite databases via python\n",
    "- `df.to_sql()` and `df.from_sql()` for seamlessly moving data between a DB and pandas DF"
   ]
  },
  {
   "cell_type": "code",
   "execution_count": 1,
   "metadata": {
    "collapsed": true
   },
   "outputs": [],
   "source": [
    "import requests\n",
    "from bs4 import BeautifulSoup\n",
    "import scipy.io\n",
    "import matplotlib.pyplot as plt\n",
    "import matplotlib \n",
    "import pandas as pd\n",
    "import numpy as np\n",
    "import pickle\n",
    "from time import sleep\n",
    "import timeit\n",
    "\n",
    "import snips as snp  # my snippets\n",
    "snp.prettyplot(matplotlib)  # my aesthetic preferences for plotting\n",
    "%matplotlib inline"
   ]
  },
  {
   "cell_type": "markdown",
   "metadata": {},
   "source": [
    "### The Anatomy of Scraping and API Calls\n",
    "Using `requests` with `BeatifulSoup` is almost too easy. You send the server a single URL and it sends you back a response - you'll get HTML if your URL was just a normal page on the site, and you'll get XML back if instead your URL reflects the API format. (I'm just talking about the BGG API here - the documentation for which is [here (version 1)](https://boardgamegeek.com/wiki/page/BGG_XML_API#) and [here (version 2)](https://boardgamegeek.com/wiki/page/BGG_XML_API2#toc11)). Then you simply parse the response text with `BeatifulSoup` using the appropriate parser. Here is the basic anatomy of what we'll be doing (this example is an API call, returning XML):"
   ]
  },
  {
   "cell_type": "code",
   "execution_count": 2,
   "metadata": {
    "collapsed": false
   },
   "outputs": [
    {
     "name": "stdout",
     "output_type": "stream",
     "text": [
      "200\n"
     ]
    }
   ],
   "source": [
    "r = requests.get(\"http://www.boardgamegeek.com/xmlapi2/user?name=Zazz&top=1\")\n",
    "soup = BeautifulSoup(r.text, \"xml\")  # Use the xml parser for API responses and the html_parser for scraping\n",
    "print(r.status_code)  # 404 not found and the like. Hopefully 200!"
   ]
  },
  {
   "cell_type": "code",
   "execution_count": null,
   "metadata": {
    "collapsed": true
   },
   "outputs": [],
   "source": [
    "r.text"
   ]
  },
  {
   "cell_type": "markdown",
   "metadata": {},
   "source": [
    "# Scraping to Get Game IDs\n",
    "In an ideal world I'd have access to a list of all game IDs and a list of user names, and I could just start making API requests. This is not an ideal world, so instead I'm going to scrape the \"Browse\" section of BGG to acquire a list of game IDs. \n",
    "\n",
    "The `requests` package can be used in conjuntion with `bs4` to do some pretty powerful web scraping stuff. Here I'm going to request the HTLM for each page in the pages of results for browsing all boardgames. This actually works quite well as I can specify that I want to browse a list sorted by number of ratings, in descending order, and in this way I can cut off the scraping when I reach whatever ratings sparsity I want (maybe somewhere around 100 ratings per game?). I'm starting the scrape from [this page](https://boardgamegeek.com/browse/boardgame/page/1?sort=numvoters&sortdir=desc). Remember to code in a short time delay (one or two seconds) between server requests, otherwise you might get your IP blacklisted, you hacker! For now the only info I'll pull is the game ID (an integer), the game name, the number of ratings, and the URL for a thumbnail pic of the game."
   ]
  },
  {
   "cell_type": "code",
   "execution_count": 3,
   "metadata": {
    "collapsed": false
   },
   "outputs": [
    {
     "name": "stdout",
     "output_type": "stream",
     "text": [
      "Page 1 scraped, minimum number of ratings was 12941\n",
      "Page 2 scraped, minimum number of ratings was 8615\n",
      "Page 3 scraped, minimum number of ratings was 6191\n",
      "Page 4 scraped, minimum number of ratings was 4761\n",
      "Page 5 scraped, minimum number of ratings was 3873\n",
      "Page 6 scraped, minimum number of ratings was 3294\n",
      "Page 7 scraped, minimum number of ratings was 2828\n",
      "Page 8 scraped, minimum number of ratings was 2452\n",
      "Page 9 scraped, minimum number of ratings was 2197\n",
      "Page 10 scraped, minimum number of ratings was 1973\n",
      "Page 11 scraped, minimum number of ratings was 1757\n",
      "Page 12 scraped, minimum number of ratings was 1619\n",
      "Page 13 scraped, minimum number of ratings was 1456\n",
      "Page 14 scraped, minimum number of ratings was 1336\n",
      "Page 15 scraped, minimum number of ratings was 1247\n",
      "Page 16 scraped, minimum number of ratings was 1163\n",
      "Page 17 scraped, minimum number of ratings was 1093\n",
      "Page 18 scraped, minimum number of ratings was 1013\n",
      "Page 19 scraped, minimum number of ratings was 951\n"
     ]
    }
   ],
   "source": [
    "# Initialize a DF to hold all our scraped game info\n",
    "df_all = pd.DataFrame(columns=[\"id\", \"name\", \"nrate\", \"pic_url\"])\n",
    "min_nrate = 1e5\n",
    "npage = 1\n",
    "\n",
    "# Scrap successful pages in the results until we get down to games with < 1000 ratings each\n",
    "while min_nrate > 1000:\n",
    "    # Get full HTML for a specific page in the full listing of boardgames sorted by \n",
    "    resp = requests.get(\"https://boardgamegeek.com/browse/boardgame/page/%i?sort=numvoters&sortdir=desc\" % (npage,))\n",
    "    soup = BeautifulSoup(resp.text, \"html.parser\")    \n",
    "    \n",
    "    # Get rows for the table listing all the games on this page\n",
    "    table = soup.find_all(\"tr\", attrs={\"id\": \"row_\"})  # Get list of all the rows (tags) in the list of games on this page\n",
    "    df = pd.DataFrame(columns=[\"id\", \"name\", \"nrate\", \"pic_url\"], index=range(len(table)))  # DF to hold this pages results\n",
    "    \n",
    "    # Loop through each row and pull out the info for that game\n",
    "    for idx, row in enumerate(table):\n",
    "        # Row may or may not start with a \"boardgame rank\" link, if YES then strip it\n",
    "        links = row.find_all(\"a\")\n",
    "        if \"name\" in links[0].attrs.keys():\n",
    "            del links[0]\n",
    "        gamelink = links[1]  # Get the relative URL for the specific game\n",
    "        gameid = int(gamelink[\"href\"].split(\"/\")[2])  # Get the game ID by parsing the relative URL\n",
    "        gamename = gamelink.contents[0]  # Get the actual name of the game as the link contents\n",
    "        imlink = links[0]  # Get the URL for the game thumbnail\n",
    "        thumbnail = imlink.contents[0][\"src\"]\n",
    "\n",
    "        ratings_str = row.find_all(\"td\", attrs={\"class\": \"collection_bggrating\"})[2].contents[0]\n",
    "        nratings = int(\"\".join(ratings_str.split()))\n",
    "\n",
    "        df.iloc[idx, :] = [gameid, gamename, nratings, thumbnail]\n",
    "\n",
    "    # Concatenate the results of this page to the master dataframe\n",
    "    min_nrate = df[\"nrate\"].min()  # The smallest number of ratings of any game on the page\n",
    "    print(\"Page %i scraped, minimum number of ratings was %i\" % (npage, min_nrate))\n",
    "    df_all = pd.concat([df_all, df], axis=0)\n",
    "    npage += 1\n",
    "    sleep(2) # Keep the BGG server happy."
   ]
  },
  {
   "cell_type": "code",
   "execution_count": 4,
   "metadata": {
    "collapsed": false,
    "scrolled": true
   },
   "outputs": [
    {
     "data": {
      "text/html": [
       "<div>\n",
       "<table border=\"1\" class=\"dataframe\">\n",
       "  <thead>\n",
       "    <tr style=\"text-align: right;\">\n",
       "      <th></th>\n",
       "      <th>id</th>\n",
       "      <th>name</th>\n",
       "      <th>nrate</th>\n",
       "      <th>pic_url</th>\n",
       "    </tr>\n",
       "  </thead>\n",
       "  <tbody>\n",
       "    <tr>\n",
       "      <th>0</th>\n",
       "      <td>13</td>\n",
       "      <td>Catan</td>\n",
       "      <td>64574</td>\n",
       "      <td>//cf.geekdo-images.com/images/pic2419375_mt.jpg</td>\n",
       "    </tr>\n",
       "    <tr>\n",
       "      <th>1</th>\n",
       "      <td>822</td>\n",
       "      <td>Carcassonne</td>\n",
       "      <td>63809</td>\n",
       "      <td>//cf.geekdo-images.com/images/pic2337577_mt.jpg</td>\n",
       "    </tr>\n",
       "    <tr>\n",
       "      <th>2</th>\n",
       "      <td>30549</td>\n",
       "      <td>Pandemic</td>\n",
       "      <td>58328</td>\n",
       "      <td>//cf.geekdo-images.com/images/pic1534148_mt.jpg</td>\n",
       "    </tr>\n",
       "    <tr>\n",
       "      <th>3</th>\n",
       "      <td>36218</td>\n",
       "      <td>Dominion</td>\n",
       "      <td>53488</td>\n",
       "      <td>//cf.geekdo-images.com/images/pic394356_mt.jpg</td>\n",
       "    </tr>\n",
       "    <tr>\n",
       "      <th>4</th>\n",
       "      <td>68448</td>\n",
       "      <td>7 Wonders</td>\n",
       "      <td>48593</td>\n",
       "      <td>//cf.geekdo-images.com/images/pic860217_mt.jpg</td>\n",
       "    </tr>\n",
       "  </tbody>\n",
       "</table>\n",
       "</div>"
      ],
      "text/plain": [
       "      id         name  nrate                                          pic_url\n",
       "0     13        Catan  64574  //cf.geekdo-images.com/images/pic2419375_mt.jpg\n",
       "1    822  Carcassonne  63809  //cf.geekdo-images.com/images/pic2337577_mt.jpg\n",
       "2  30549     Pandemic  58328  //cf.geekdo-images.com/images/pic1534148_mt.jpg\n",
       "3  36218     Dominion  53488   //cf.geekdo-images.com/images/pic394356_mt.jpg\n",
       "4  68448    7 Wonders  48593   //cf.geekdo-images.com/images/pic860217_mt.jpg"
      ]
     },
     "execution_count": 4,
     "metadata": {},
     "output_type": "execute_result"
    }
   ],
   "source": [
    "df = df_all.copy()\n",
    "# Reset the index since we concatenated a bunch of DFs with the same index into one DF\n",
    "df.reset_index(inplace=True, drop=True)\n",
    "# Write the DF to .csv for future use\n",
    "df.to_csv(\"bgg_gamelist.csv\", index=False, encoding=\"utf-8\")\n",
    "df.head()"
   ]
  },
  {
   "cell_type": "code",
   "execution_count": 5,
   "metadata": {
    "collapsed": false
   },
   "outputs": [
    {
     "name": "stdout",
     "output_type": "stream",
     "text": [
      "Number of games with > 1000 ratings is approximately 1900\n",
      "Total number of ratings from all these games is 7544367\n"
     ]
    }
   ],
   "source": [
    "print(\"Number of games with > 1000 ratings is approximately %i\" % (len(df),))\n",
    "print(\"Total number of ratings from all these games is %i\" % (df[\"nrate\"].sum(),))"
   ]
  },
  {
   "cell_type": "markdown",
   "metadata": {},
   "source": [
    "Lets get a sense of how common different amounts of ratings are by histogramming."
   ]
  },
  {
   "cell_type": "code",
   "execution_count": 6,
   "metadata": {
    "collapsed": false,
    "scrolled": false
   },
   "outputs": [
    {
     "data": {
      "image/png": "[encoded data removed]",
      "text/plain": [
       "<matplotlib.figure.Figure at 0x24c181bd8d0>"
      ]
     },
     "metadata": {},
     "output_type": "display_data"
    }
   ],
   "source": [
    "import numpy as np\n",
    "fig, ax = plt.subplots()\n",
    "snp.labs(\"LOG(# Ratings)\", \"Count\", \"Distribution of LOG(# Ratings)\")\n",
    "__ = ax.hist(np.log(df[\"nrate\"].astype(float)), bins=30)"
   ]
  },
  {
   "cell_type": "markdown",
   "metadata": {},
   "source": [
    "# Using API to Get Ratings for Games\n",
    "Now that we have the integer game IDs, the specific ratings information for any game can be had, in XML form, directly from the API. This XML response is a lot cleaner and easier to parse than the HTML we had to scrape to get our list of game IDs. Each rating lives in it's own simple `comment` type div."
   ]
  },
  {
   "cell_type": "code",
   "execution_count": 7,
   "metadata": {
    "collapsed": false
   },
   "outputs": [
    {
     "data": {
      "text/plain": [
       "[<comment rating=\"10\" username=\"naruko\" value=\"\"/>,\n",
       " <comment rating=\"10\" username=\"JavierKensei\" value=\"\"/>,\n",
       " <comment rating=\"10\" username=\"Grizzlylizard\" value=\"\"/>,\n",
       " <comment rating=\"10\" username=\"Globulor\" value=\"This kickstarter rocks!!!!!\"/>,\n",
       " <comment rating=\"10\" username=\"Yue99\" value=\"Very good project, awesome minis!\"/>,\n",
       " <comment rating=\"10\" username=\"Nargash\" value=\"This game is now in kickstarter and will be so amayzing !!!!  Come and plede with all community help us to improve all we can have and reach in SG.\"/>,\n",
       " <comment rating=\"10\" username=\"Wimmoes\" value=\"\"/>,\n",
       " <comment rating=\"9\" username=\"Tefen\" value=\"\"/>,\n",
       " <comment rating=\"8\" username=\"Boost3r\" value=\"\"/>,\n",
       " <comment rating=\"1\" username=\"cadwal\" value=\"Kickstarter exclusive miniatures make it impossible to complete the collection after release.\"/>]"
      ]
     },
     "execution_count": 7,
     "metadata": {},
     "output_type": "execute_result"
    }
   ],
   "source": [
    "# Getting the ratings of specific board game (each is in a \"comment\" div)\n",
    "r = requests.get(\"http://www.boardgamegeek.com/xmlapi2/thing?id=213578&ratingcomments=1\")\n",
    "soup = BeautifulSoup(r.text, \"xml\")\n",
    "comments = soup(\"comment\")\n",
    "comments"
   ]
  },
  {
   "cell_type": "code",
   "execution_count": 8,
   "metadata": {
    "collapsed": false
   },
   "outputs": [
    {
     "data": {
      "text/plain": [
       "'naruko'"
      ]
     },
     "execution_count": 8,
     "metadata": {},
     "output_type": "execute_result"
    }
   ],
   "source": [
    "comments[0][\"username\"]"
   ]
  },
  {
   "cell_type": "markdown",
   "metadata": {},
   "source": [
    "### Paged API Calls\n",
    "With the BGG API ratings retrieval is paged, meaning when you send the URL requesting ratings for a particular item, you get back only a chunk of 100 ratings at a time. The chunk you get is controlled by the `page` parameter of the request so you should make a loop which keeps sending request, incrementing page each time, until the result is empty (you incremented past the last page of stuff). Remember that an empty list will evaluate to boolean `False` so we can use that to control our loop."
   ]
  },
  {
   "cell_type": "markdown",
   "metadata": {},
   "source": [
    "# Start Small: Get A Toy Data Set\n",
    "Ultimately I am going to want to pull ratings from all games with any significant number of ratings (like 50 or more). That is going to end up being  shit ton of games and ratings. More than my laptop can handle. So lets first get a toy data set to play with, so we can do all our troubleshooting and development with dataframe that won't melt my harddrive. "
   ]
  },
  {
   "cell_type": "code",
   "execution_count": 10,
   "metadata": {
    "collapsed": false,
    "scrolled": true
   },
   "outputs": [
    {
     "name": "stdout",
     "output_type": "stream",
     "text": [
      "Dropping the 20 most-rated games would give a total number of ratings of 2575838\n"
     ]
    }
   ],
   "source": [
    "print(\"Dropping the 20 most-rated games would give a total number of ratings of %i\" \n",
    "      % (df.loc[500:, \"nrate\"].sum(),))"
   ]
  },
  {
   "cell_type": "code",
   "execution_count": 11,
   "metadata": {
    "collapsed": false
   },
   "outputs": [
    {
     "name": "stdout",
     "output_type": "stream",
     "text": [
      "Thresholding at 2000 ratings gives 915 games and 1243235 total ratings\n"
     ]
    }
   ],
   "source": [
    "print(\"Thresholding at 2000 ratings gives %i games and %i total ratings\"\n",
    "     % (df.loc[df[\"nrate\"] < 2000, \"nrate\"].count(), \n",
    "        df.loc[df[\"nrate\"] < 2000, \"nrate\"].sum()))"
   ]
  },
  {
   "cell_type": "code",
   "execution_count": 46,
   "metadata": {
    "collapsed": false
   },
   "outputs": [],
   "source": [
    "# Restrict the data set to fewer games that have fewer ratings (our toy data set!)\n",
    "df_toy = df.loc[df[\"nrate\"] < 2000, ].copy()"
   ]
  },
  {
   "cell_type": "markdown",
   "metadata": {},
   "source": [
    "I think I'll stick with the 2000 ratings or fewer threshold. Since we stopped scraping board games at 1000 ratings this is kind of a small range - only games with between 1000 and 2000 ratings! That's OK, it's just a toy set for now. Since we are going to grab about 1.2 million ratings in total, if we do it just in batches of 100, with a delay of 2 seconds per API ping, this would take an unacceptably long time. \n",
    "\n",
    "### Getting Ratings for Multiple Games at Once\n",
    "Instead of going game-by-game, each API call I make will request the $n^{th}$ page of ratings for multiple games at once - I can do this just by providing a list of integer game IDs in the `id=` parameter of the URL. I'll set up a vector that initializes to the number of *full* (meaning has 100 comments) pages for each game ID, and then after each API call I'll decrement every element by one. Each call will include in its `id=` list only game ids who still have $npages > 0$. Even when we provide a list of IDs the response comments don't have any attribute indicating which game they belong to (why???), but they will be ordered according to the `id` list. That's why I will only be pulling *full* pages of ratings - that allows me to know that the first 100 comments map to the first game ID that I provided etc. At the end we can run through game-by-game and grab the last partial page of ratings for each game. And finally, to complicate things even further, we can't provide a list of all the game ids at once because the response will be too big, so we'll have to do the above procedure on just one chunk of the games at a time. "
   ]
  },
  {
   "cell_type": "code",
   "execution_count": 47,
   "metadata": {
    "collapsed": false
   },
   "outputs": [
    {
     "data": {
      "text/html": [
       "<div>\n",
       "<table border=\"1\" class=\"dataframe\">\n",
       "  <thead>\n",
       "    <tr style=\"text-align: right;\">\n",
       "      <th></th>\n",
       "      <th>id</th>\n",
       "      <th>name</th>\n",
       "      <th>nrate</th>\n",
       "      <th>pic_url</th>\n",
       "      <th>nfullpages</th>\n",
       "    </tr>\n",
       "  </thead>\n",
       "  <tbody>\n",
       "    <tr>\n",
       "      <th>1672</th>\n",
       "      <td>31638</td>\n",
       "      <td>Memoir '44: Air Pack</td>\n",
       "      <td>1112</td>\n",
       "      <td>//cf.geekdo-images.com/images/pic244022_mt.jpg</td>\n",
       "      <td>11</td>\n",
       "    </tr>\n",
       "    <tr>\n",
       "      <th>1524</th>\n",
       "      <td>310</td>\n",
       "      <td>Wizard's Quest</td>\n",
       "      <td>1225</td>\n",
       "      <td>//cf.geekdo-images.com/images/pic157002_mt.jpg</td>\n",
       "      <td>12</td>\n",
       "    </tr>\n",
       "    <tr>\n",
       "      <th>1044</th>\n",
       "      <td>156776</td>\n",
       "      <td>Warhammer 40,000: Conquest</td>\n",
       "      <td>1891</td>\n",
       "      <td>//cf.geekdo-images.com/images/pic2079275_mt.jpg</td>\n",
       "      <td>18</td>\n",
       "    </tr>\n",
       "    <tr>\n",
       "      <th>1003</th>\n",
       "      <td>115098</td>\n",
       "      <td>Quarriors! Quarmageddon</td>\n",
       "      <td>1964</td>\n",
       "      <td>//cf.geekdo-images.com/images/pic1178902_mt.jpg</td>\n",
       "      <td>19</td>\n",
       "    </tr>\n",
       "    <tr>\n",
       "      <th>1607</th>\n",
       "      <td>87890</td>\n",
       "      <td>Prêt-à-Porter</td>\n",
       "      <td>1158</td>\n",
       "      <td>//cf.geekdo-images.com/images/pic1055299_mt.jpg</td>\n",
       "      <td>11</td>\n",
       "    </tr>\n",
       "    <tr>\n",
       "      <th>988</th>\n",
       "      <td>128667</td>\n",
       "      <td>Samurai Sword</td>\n",
       "      <td>1994</td>\n",
       "      <td>//cf.geekdo-images.com/images/pic1411222_mt.jpg</td>\n",
       "      <td>19</td>\n",
       "    </tr>\n",
       "  </tbody>\n",
       "</table>\n",
       "</div>"
      ],
      "text/plain": [
       "          id                        name nrate  \\\n",
       "1672   31638        Memoir '44: Air Pack  1112   \n",
       "1524     310              Wizard's Quest  1225   \n",
       "1044  156776  Warhammer 40,000: Conquest  1891   \n",
       "1003  115098     Quarriors! Quarmageddon  1964   \n",
       "1607   87890               Prêt-à-Porter  1158   \n",
       "988   128667               Samurai Sword  1994   \n",
       "\n",
       "                                              pic_url  nfullpages  \n",
       "1672   //cf.geekdo-images.com/images/pic244022_mt.jpg          11  \n",
       "1524   //cf.geekdo-images.com/images/pic157002_mt.jpg          12  \n",
       "1044  //cf.geekdo-images.com/images/pic2079275_mt.jpg          18  \n",
       "1003  //cf.geekdo-images.com/images/pic1178902_mt.jpg          19  \n",
       "1607  //cf.geekdo-images.com/images/pic1055299_mt.jpg          11  \n",
       "988   //cf.geekdo-images.com/images/pic1411222_mt.jpg          19  "
      ]
     },
     "execution_count": 47,
     "metadata": {},
     "output_type": "execute_result"
    }
   ],
   "source": [
    "# Prepare a \"# of FULL pages of ratings\" column to track # API calls needed\n",
    "df_toy[\"nfullpages\"] = (df_toy[\"nrate\"]-50).apply(round, ndigits=-2)/100  # Round DOWN to nearest 100"
   ]
  },
  {
   "cell_type": "markdown",
   "metadata": {},
   "source": [
    "### Writing Results to a SQLite Database\n",
    "Eventually this is going to be a big data set - a lot more than 1000 games a lot more than 1.2 million ratings. So let's set up the infrastructure of a local database right from the start. Every time I finish grabbing full pages of ratings from a chunk of games I'll push the resulting dataframe into this database. "
   ]
  },
  {
   "cell_type": "code",
   "execution_count": 50,
   "metadata": {
    "collapsed": true
   },
   "outputs": [],
   "source": [
    "# Create the database and make a cursor to talk to it.\n",
    "import sqlite3\n",
    "connex = sqlite3.connect(\"bgg_ratings.db\")  # Opens file if exists, else creates file\n",
    "cur = connex.cursor()  # This object lets us actually send messages to our DB and receive results"
   ]
  },
  {
   "cell_type": "code",
   "execution_count": 48,
   "metadata": {
    "collapsed": false
   },
   "outputs": [
    {
     "name": "stderr",
     "output_type": "stream",
     "text": [
      "C:\\Users\\Sonya\\Anaconda3\\lib\\site-packages\\ipykernel\\__main__.py:52: SettingWithCopyWarning: \n",
      "A value is trying to be set on a copy of a slice from a DataFrame.\n",
      "Try using .loc[row_indexer,col_indexer] = value instead\n",
      "\n",
      "See the caveats in the documentation: http://pandas.pydata.org/pandas-docs/stable/indexing.html#indexing-view-versus-copy\n"
     ]
    },
    {
     "name": "stdout",
     "output_type": "stream",
     "text": [
      "Processed ratings for batch #0 of games.\n",
      "Processed ratings for batch #1 of games.\n",
      "Server Error! Response Code 504. Retrying...\n",
      "Processed ratings for batch #2 of games.\n",
      "Processed ratings for batch #3 of games.\n",
      "Server Error! Response Code 504. Retrying...\n",
      "Processed ratings for batch #4 of games.\n",
      "Processed ratings for batch #5 of games.\n",
      "Processed ratings for batch #6 of games.\n"
     ]
    }
   ],
   "source": [
    "#############################################################\n",
    "# Gathering all ratings from all games in toy data set\n",
    "#############################################################\n",
    "# Get ratings page-by-page for all games, but do it in chunks of 250 games\n",
    "for nm, grp in df_toy.groupby(np.arange(len(df_toy))//150):\n",
    "    # Initialize a DF to hold all the responses for this chunk of games\n",
    "    df_ratings = pd.DataFrame(columns=[\"gameid\", \"username\", \"rating\"], index=range(grp[\"nrate\"].sum()+100000))\n",
    "\n",
    "    # Initialize indices for writing to the ratings dataframe\n",
    "    dfidx_start = 0\n",
    "    dfidx = 0\n",
    "    \n",
    "    # For this group of games, make calls until all FULL pages of every game have been pulled\n",
    "    pagenum = 1\n",
    "    while len(grp[grp[\"nfullpages\"] > 0]) > 0: \n",
    "        # Get a restricted DF with only still-active games (have ratings pages left)\n",
    "        active_games = grp[grp[\"nfullpages\"] > 0]\n",
    "\n",
    "        # Set the next chunk of the DF \"gameid\" column using the list of game IDs\n",
    "        id_list = []\n",
    "        for game in active_games[\"id\"]:\n",
    "            id_list += [game]*100\n",
    "        dfidx_end = dfidx_start + len(active_games)*100\n",
    "        df_ratings.iloc[dfidx_start:dfidx_end, df_ratings.columns.get_loc(\"gameid\")] = id_list\n",
    "\n",
    "        # Make the request with the list of all game IDs that have ratings left\n",
    "        id_strs = [str(gid) for gid in active_games[\"id\"]]\n",
    "        gameids = \",\".join(id_strs)\n",
    "        sleep(1.5)  # Keep the server happy\n",
    "        r = requests.get(\"http://www.boardgamegeek.com/xmlapi2/thing?id=%s&ratingcomments=1&page=%i\" % (gameids, pagenum))\n",
    "        while r.status_code != 200:\n",
    "            sleep(2)  # Keep the server happy\n",
    "            print(\"Server Error! Response Code %i. Retrying...\" % (r.status_code))\n",
    "            r = requests.get(\"http://www.boardgamegeek.com/xmlapi2/thing?id=%s&ratingcomments=1&page=%i\" % (gameids, pagenum))        \n",
    "        soup = BeautifulSoup(r.text, \"xml\")\n",
    "        comments = soup(\"comment\")\n",
    "#         print(\"Response status was %i - number of ratings retrieved was %i\" % (r.status_code, len(comments)))\n",
    "\n",
    "        # Parse the response and assign it into the dataframe\n",
    "        l1 = [0]*len(active_games)*100\n",
    "        l2 = [0]*len(active_games)*100\n",
    "        j = 0\n",
    "        for comm in comments:\n",
    "            l1[j] = comm[\"username\"]\n",
    "            l2[j] = float(comm[\"rating\"])\n",
    "            j += 1\n",
    "        df_ratings.iloc[dfidx_start:dfidx_end, df_ratings.columns.get_loc(\"username\")] = l1\n",
    "        df_ratings.iloc[dfidx_start:dfidx_end, df_ratings.columns.get_loc(\"rating\")] = l2\n",
    "\n",
    "        \n",
    "        grp[\"nfullpages\"] -= 1  # Decrement the number of FULL pages of each game id\n",
    "        dfidx_start = dfidx_end     \n",
    "        pagenum += 1  \n",
    "    \n",
    "    # Strip off the empty rows\n",
    "    df_ratings = df_ratings.dropna(how=\"all\")\n",
    "    # Write this batch of all FULL pages of ratings for this chunk of games to the DB\n",
    "    df_ratings.to_sql(name=\"data\", con=connex, if_exists=\"append\", index=False)    \n",
    "    print(\"Processed ratings for batch #%i of games.\" % (nm))"
   ]
  },
  {
   "cell_type": "markdown",
   "metadata": {},
   "source": [
    "So that pulled all the full pages of ratings for all the games in our toy set. The final step is to pull the last partial page of ratings for every game individually. Keep in mind that we no longer know how many comment we'll receive from each response - this is why we need to request each game individually."
   ]
  },
  {
   "cell_type": "code",
   "execution_count": null,
   "metadata": {
    "collapsed": true
   },
   "outputs": [],
   "source": [
    "#############################################################\n",
    "# Request the final partial page of ratings for each game\n",
    "#############################################################\n",
    "# Restore the correct number of FULL pages\n",
    "df_toy[\"nfullpages\"] = (df_toy[\"nrate\"]-50).apply(round, ndigits=-2)/100  # Round DOWN to nearest 100, then divide by 100\n",
    "\n",
    "# Initialize a DF to hold all the responses over all the chunks of games\n",
    "df_ratings = pd.DataFrame(columns=[\"gameid\", \"username\", \"rating\"], index=range(len(df_toy)*100))\n",
    "\n",
    "# Initialize indices for writing to the ratings dataframe\n",
    "dfidx_start = 0\n",
    "dfidx = 0\n",
    "\n",
    "# Loop through game-by-game and request the final page of ratings for each game\n",
    "for idx, row in df_toy.iterrows():\n",
    "    # Get the game ID and the last page number to request\n",
    "    pagenum = row[\"nfullpages\"] + 1\n",
    "    gameid = row[\"id\"]\n",
    "    \n",
    "    # Make the request for just the last page of ratings of this game\n",
    "    sleep(1)  # Keep the server happy\n",
    "    r = requests.get(\"http://www.boardgamegeek.com/xmlapi2/thing?id=%i&ratingcomments=1&page=%i\" % (gameid, pagenum))\n",
    "    while r.status_code != 200:\n",
    "        sleep(2)  # Keep the server happy\n",
    "        print(\"Server Error! Response Code %i. Retrying...\" % (r.status_code))\n",
    "        r = requests.get(\"http://www.boardgamegeek.com/xmlapi2/thing?id=%i&ratingcomments=1&page=%i\" % (gameid, pagenum))\n",
    "    soup = BeautifulSoup(r.text, \"xml\")\n",
    "    comments = soup(\"comment\")\n",
    "#         print(\"Response status was %i - length of comments is %i\" % (r.status_code, len(comments)))\n",
    "\n",
    "    # Set the next chunk of the DF \"gameids\" column with this gameid\n",
    "    id_list = [gameid]*len(comments)\n",
    "    dfidx_end = dfidx_start + len(comments)\n",
    "    df_ratings.iloc[dfidx_start:dfidx_end, df_ratings.columns.get_loc(\"gameid\")] = id_list\n",
    "\n",
    "    # Parse the response and assign it into the dataframe\n",
    "    l1 = [0]*len(comments)\n",
    "    l2 = [0]*len(comments)\n",
    "    j = 0\n",
    "    for comm in comments:\n",
    "        l1[j] = comm[\"username\"]\n",
    "        l2[j] = float(comm[\"rating\"])\n",
    "        j += 1\n",
    "    df_ratings.iloc[dfidx_start:dfidx_end, df_ratings.columns.get_loc(\"username\")] = l1\n",
    "    df_ratings.iloc[dfidx_start:dfidx_end, df_ratings.columns.get_loc(\"rating\")] = l2\n",
    "\n",
    "    dfidx_start = dfidx_end   # Increment the starting index for next round        \n",
    "\n",
    "    if idx%100 == 0:\n",
    "        print(\"Finished with a chunk of 100 games.\")\n",
    "        \n",
    "# Strip off the empty rows\n",
    "df_ratings = df_ratings.dropna(how=\"all\")\n",
    "\n",
    "# Write this final batch of all partial pages of ratings for this chunk of games to the DB\n",
    "df_ratings.to_sql(name=\"data\", con=connex, if_exists=\"append\", index=False)    "
   ]
  },
  {
   "cell_type": "code",
   "execution_count": 62,
   "metadata": {
    "collapsed": false
   },
   "outputs": [],
   "source": [
    "# Save our changes and close the connection\n",
    "connex.commit()\n",
    "connex.close()"
   ]
  },
  {
   "cell_type": "markdown",
   "metadata": {},
   "source": [
    "# Inspecting the Ratings Data"
   ]
  },
  {
   "cell_type": "markdown",
   "metadata": {},
   "source": [
    "That's it! Now all the ratings from our toy data set (board games with between 1k and 2k ratings) are stored in our database. Let's open the connection to the DB back up and read it all out into a pandas DF (since it's just the toy set, we can handle it)."
   ]
  },
  {
   "cell_type": "code",
   "execution_count": 63,
   "metadata": {
    "collapsed": false,
    "scrolled": true
   },
   "outputs": [
    {
     "data": {
      "text/html": [
       "<div>\n",
       "<table border=\"1\" class=\"dataframe\">\n",
       "  <thead>\n",
       "    <tr style=\"text-align: right;\">\n",
       "      <th></th>\n",
       "      <th>gameid</th>\n",
       "      <th>username</th>\n",
       "      <th>rating</th>\n",
       "    </tr>\n",
       "  </thead>\n",
       "  <tbody>\n",
       "    <tr>\n",
       "      <th>133545</th>\n",
       "      <td>183880</td>\n",
       "      <td>cjs65</td>\n",
       "      <td>7.0</td>\n",
       "    </tr>\n",
       "    <tr>\n",
       "      <th>1153233</th>\n",
       "      <td>171905</td>\n",
       "      <td>soccastar001</td>\n",
       "      <td>8.0</td>\n",
       "    </tr>\n",
       "    <tr>\n",
       "      <th>754653</th>\n",
       "      <td>41569</td>\n",
       "      <td>CorinnaS</td>\n",
       "      <td>7.0</td>\n",
       "    </tr>\n",
       "    <tr>\n",
       "      <th>1022434</th>\n",
       "      <td>154182</td>\n",
       "      <td>aeroflynn</td>\n",
       "      <td>6.0</td>\n",
       "    </tr>\n",
       "    <tr>\n",
       "      <th>310315</th>\n",
       "      <td>98315</td>\n",
       "      <td>Clockpunk</td>\n",
       "      <td>8.0</td>\n",
       "    </tr>\n",
       "    <tr>\n",
       "      <th>1152731</th>\n",
       "      <td>6738</td>\n",
       "      <td>edwardchow</td>\n",
       "      <td>5.5</td>\n",
       "    </tr>\n",
       "    <tr>\n",
       "      <th>251262</th>\n",
       "      <td>62220</td>\n",
       "      <td>liuyun0918</td>\n",
       "      <td>4.0</td>\n",
       "    </tr>\n",
       "    <tr>\n",
       "      <th>1060709</th>\n",
       "      <td>20055</td>\n",
       "      <td>Marechallannes</td>\n",
       "      <td>9.0</td>\n",
       "    </tr>\n",
       "    <tr>\n",
       "      <th>449232</th>\n",
       "      <td>31920</td>\n",
       "      <td>rmjordan</td>\n",
       "      <td>5.0</td>\n",
       "    </tr>\n",
       "    <tr>\n",
       "      <th>1046964</th>\n",
       "      <td>2535</td>\n",
       "      <td>Hugh_G_Rection</td>\n",
       "      <td>8.5</td>\n",
       "    </tr>\n",
       "  </tbody>\n",
       "</table>\n",
       "</div>"
      ],
      "text/plain": [
       "         gameid        username  rating\n",
       "133545   183880           cjs65     7.0\n",
       "1153233  171905    soccastar001     8.0\n",
       "754653    41569        CorinnaS     7.0\n",
       "1022434  154182       aeroflynn     6.0\n",
       "310315    98315       Clockpunk     8.0\n",
       "1152731    6738      edwardchow     5.5\n",
       "251262    62220      liuyun0918     4.0\n",
       "1060709   20055  Marechallannes     9.0\n",
       "449232    31920        rmjordan     5.0\n",
       "1046964    2535  Hugh_G_Rection     8.5"
      ]
     },
     "execution_count": 63,
     "metadata": {},
     "output_type": "execute_result"
    }
   ],
   "source": [
    "connex = sqlite3.connect(\"bgg_ratings.db\")  # Opens file if exists, else creates file\n",
    "cur = connex.cursor()  # This object lets us actually send messages to our DB and receive results\n",
    "sql = \"SELECT * FROM data\" + \";\"\n",
    "df_ratings = pd.read_sql_query(sql, connex)\n",
    "df_ratings.sample(n=10)"
   ]
  },
  {
   "cell_type": "markdown",
   "metadata": {},
   "source": [
    "### Sanity Check - Do Our Ratings Distributions Agree with Server Stats?\n",
    "Here's a good sanity check, let's make sure our distribution of ratings for a few games looks like the BGG distribution of ratings on the pages for those games."
   ]
  },
  {
   "cell_type": "code",
   "execution_count": 106,
   "metadata": {
    "collapsed": false
   },
   "outputs": [
    {
     "name": "stdout",
     "output_type": "stream",
     "text": [
      "['Star Realms: Crisis – Heroes'] Our Data: Mean = 7.04. StdDev = 1.42\n",
      "['Star Realms: Crisis – Heroes'] Server Stats: Mean = 7.03. StdDev = 1.41\n",
      "[\"War of the Ring Collector's Edition\"] Our Data: Mean = 8.63. StdDev = 2.20\n",
      "[\"War of the Ring Collector's Edition\"] Server Stats: Mean = 8.62. StdDev = 2.21\n",
      "['Quelf'] Our Data: Mean = 5.44. StdDev = 2.02\n",
      "['Quelf'] Server Stats: Mean = 5.44. StdDev = 2.02\n"
     ]
    },
    {
     "data": {
      "image/png": "[encoded data removed]",
      "text/plain": [
       "<matplotlib.figure.Figure at 0x24c28c6a940>"
      ]
     },
     "metadata": {},
     "output_type": "display_data"
    }
   ],
   "source": [
    "fig, axs = plt.subplots(figsize=[16, 4], nrows=1, ncols=3)\n",
    "axs = axs.ravel()\n",
    "for idx, game in enumerate(df_toy[\"id\"].sample(n=3, random_state=999)):\n",
    "    df = df_ratings[df_ratings[\"gameid\"] == game]\n",
    "    nm = df_toy.loc[df_toy[\"id\"] == game, \"name\"].values\n",
    "    __ = axs[idx].hist(df[\"rating\"], bins=10, normed=True)\n",
    "    axs[idx].set_title(\"%s (%i)\" % (nm, game))\n",
    "    print(\"%s Our Data: Mean = %.2f. StdDev = %.2f\" % (nm, df[\"rating\"].mean(), df[\"rating\"].std()))\n",
    "    \n",
    "    # Request actual stats from the server to compare with scraped data\n",
    "    r = requests.get(\"http://www.boardgamegeek.com/xmlapi2/thing?id=%i&stats=1\" % (game,))\n",
    "    soup = BeautifulSoup(r.text, \"xml\")\n",
    "    std = float(soup(\"stddev\")[0][\"value\"])\n",
    "    mn = float(soup(\"average\")[0][\"value\"])\n",
    "    print(\"%s Server Stats: Mean = %.2f. StdDev = %.2f\" % (nm, mn,std))\n",
    "    sleep(1.5)"
   ]
  },
  {
   "cell_type": "markdown",
   "metadata": {},
   "source": [
    "I am confident now that we didn't do anything wildly wrong when gathering the ratings data!"
   ]
  },
  {
   "cell_type": "markdown",
   "metadata": {},
   "source": [
    "### Restricting to Users with > 10 Ratings"
   ]
  },
  {
   "cell_type": "markdown",
   "metadata": {},
   "source": [
    "To build our recommender system let's start by only keeping users who rated at least 10 of these games."
   ]
  },
  {
   "cell_type": "code",
   "execution_count": 115,
   "metadata": {
    "collapsed": false
   },
   "outputs": [
    {
     "data": {
      "text/html": [
       "<div>\n",
       "<table border=\"1\" class=\"dataframe\">\n",
       "  <thead>\n",
       "    <tr style=\"text-align: right;\">\n",
       "      <th></th>\n",
       "      <th>username</th>\n",
       "    </tr>\n",
       "  </thead>\n",
       "  <tbody>\n",
       "    <tr>\n",
       "      <th>23795</th>\n",
       "      <td>pedro_pete</td>\n",
       "    </tr>\n",
       "    <tr>\n",
       "      <th>5630</th>\n",
       "      <td>JawnMan</td>\n",
       "    </tr>\n",
       "    <tr>\n",
       "      <th>19136</th>\n",
       "      <td>hurkle</td>\n",
       "    </tr>\n",
       "  </tbody>\n",
       "</table>\n",
       "</div>"
      ],
      "text/plain": [
       "         username\n",
       "23795  pedro_pete\n",
       "5630      JawnMan\n",
       "19136      hurkle"
      ]
     },
     "execution_count": 115,
     "metadata": {},
     "output_type": "execute_result"
    }
   ],
   "source": [
    "# A nifty and somewhat fault-tolerant way of constructing long SQL queries\n",
    "sql = \" \".join((\n",
    "    \"SELECT username\",\n",
    "    \"FROM (SELECT username, count(*) as freqn FROM data GROUP BY username)\",\n",
    "    \"AS tbl WHERE freqn > 10\",\n",
    "))\n",
    "\n",
    "users = pd.read_sql_query(sql, connex)\n",
    "users.sample(n=3)"
   ]
  },
  {
   "cell_type": "code",
   "execution_count": 120,
   "metadata": {
    "collapsed": false
   },
   "outputs": [
    {
     "data": {
      "text/html": [
       "<div>\n",
       "<table border=\"1\" class=\"dataframe\">\n",
       "  <thead>\n",
       "    <tr style=\"text-align: right;\">\n",
       "      <th></th>\n",
       "      <th>gameid</th>\n",
       "      <th>username</th>\n",
       "      <th>rating</th>\n",
       "    </tr>\n",
       "  </thead>\n",
       "  <tbody>\n",
       "    <tr>\n",
       "      <th>458023</th>\n",
       "      <td>1822</td>\n",
       "      <td>tmarozas</td>\n",
       "      <td>7.5</td>\n",
       "    </tr>\n",
       "    <tr>\n",
       "      <th>911991</th>\n",
       "      <td>152</td>\n",
       "      <td>DangerMouse</td>\n",
       "      <td>5.0</td>\n",
       "    </tr>\n",
       "    <tr>\n",
       "      <th>826663</th>\n",
       "      <td>392</td>\n",
       "      <td>spindisc</td>\n",
       "      <td>7.0</td>\n",
       "    </tr>\n",
       "  </tbody>\n",
       "</table>\n",
       "</div>"
      ],
      "text/plain": [
       "        gameid     username  rating\n",
       "458023    1822     tmarozas     7.5\n",
       "911991     152  DangerMouse     5.0\n",
       "826663     392     spindisc     7.0"
      ]
     },
     "execution_count": 120,
     "metadata": {},
     "output_type": "execute_result"
    }
   ],
   "source": [
    "usrs = [\"'\" + usr + \"'\" for usr in users[\"username\"].values]\n",
    "str_matching = \"(\" + \",\".join(usrs) + \")\"  # Construct the string of SQL language\n",
    "sql = \"SELECT * FROM data WHERE username IN \" + str_matching + \";\"\n",
    "df_ratings = pd.read_sql_query(sql, connex)\n",
    "df_ratings.sample(n=3)"
   ]
  },
  {
   "cell_type": "markdown",
   "metadata": {},
   "source": [
    "This is starting to look good as the raw data for a simple recommender system! Let's do one last calculation on the sparsity of this ratings data. If every user in our toy set rated every movie in our toy data we'd have a sparsity of 100%. Instead we have:"
   ]
  },
  {
   "cell_type": "code",
   "execution_count": 123,
   "metadata": {
    "collapsed": false
   },
   "outputs": [
    {
     "name": "stdout",
     "output_type": "stream",
     "text": [
      "Sparsity of Ratings Data is 3.62%\n"
     ]
    }
   ],
   "source": [
    "max_n_ratings = len(df_ratings[\"gameid\"].unique())*len(df_ratings[\"username\"].unique())\n",
    "actual_n_ratings = len(df_ratings)\n",
    "print(\"Sparsity of Ratings Data is %.2f%%\" % (100*actual_n_ratings/max_n_ratings))"
   ]
  },
  {
   "cell_type": "markdown",
   "metadata": {},
   "source": [
    "### Note on Requesting Collections  -  Request gets Queued\n",
    "I haven't tried to query and collections info with the API, but I just wanted to includ this note for future work. See [forum post](https://boardgamegeek.com/thread/1188687/export-collections-has-been-updated-xmlapi-develop). You just keep re-running the query until you don't get a \"Your request has been queued\" response."
   ]
  },
  {
   "cell_type": "code",
   "execution_count": null,
   "metadata": {
    "collapsed": true
   },
   "outputs": [],
   "source": [
    "r3 = requests.get(\"http://www.boardgamegeek.com/xmlapi2/collection?username=odo_ital&rated=1\")\n",
    "soup = BeautifulSoup(r3.text, \"xml\")\n",
    "print(r3.status_code)\n",
    "r3.text"
   ]
  }
 ],
 "metadata": {
  "kernelspec": {
   "display_name": "Python 3",
   "language": "python",
   "name": "python3"
  },
  "language_info": {
   "codemirror_mode": {
    "name": "ipython",
    "version": 3
   },
   "file_extension": ".py",
   "mimetype": "text/x-python",
   "name": "python",
   "nbconvert_exporter": "python",
   "pygments_lexer": "ipython3",
   "version": "3.5.1"
  }
 },
 "nbformat": 4,
 "nbformat_minor": 0
}

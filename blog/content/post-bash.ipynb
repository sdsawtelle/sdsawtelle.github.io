{
 "cells": [
  {
   "cell_type": "markdown",
   "metadata": {},
   "source": [
    "# In which I learn what people are actually doing with all those black terminals, and brainstorm how I too can look like a cool hacker."
   ]
  },
  {
   "cell_type": "markdown",
   "metadata": {},
   "source": [
    "So, I have a Windows machine that I'm rather fond of. Maybe you do too. The unfortunate thing about this situation is that Unix shell (commonly `Bash`) sort of stomps Windows system shell and is much more common in the quantiative computing universe (and on servers and clusters). Once I began poking around in the data science ecosystem, it became clear that this was a pretty large gap in my skill set. Not just the lack of `bash` language skills but also just the lack of command line in my work flow - I wondered what I was missing. Turns out my timing on this issue is great, because the most recent update to Windows 10 rolled out a feature that is going to let me play around with native `bash` pretty seamlessly - it's called the [Linux Subystem for Windows](https://msdn.microsoft.com/en-us/commandline/wsl/faq) (LSW).\n",
    "\n",
    "Before getting all freaky with `bash`, I'd like to point out that I *really* like the idea of my work flow being operating system agnostic. And I *really really* like the idea of minimizing the number of tools and languages I depend on. But at the same time I think I should have *some* degree of familiarity with `bash` because it's everywhere, and because some things are just easier with the right `bash` single-liner or the right command line tool. So the solution? I am going to build a work flow that is *mostly* operating system agnostic (read: `Python`) while picking up the most useful `Bash` with this kickass LSW feature.\n",
    "\n",
    "This post is for Windows users who are aspiring data scientists, and who are noobs at command line but who want to fix that by using the new LSW, but who still want to do most stuff in Python not `bash`. Excluding myself that might be the empty set, I dunno. Anyway, here I'll describe what the hell `bash` even is and how `IPython` can actually be an alternative system shell. Then I'll outline how to get your LSW up and running, and then how to get your Anaconda toolset up and running on top of it.\n",
    "\n",
    "Part 2 of this freakshow will build out the specific functionality in Python that can replace a lot of what `bash` is commonly used for. "
   ]
  },
  {
   "cell_type": "markdown",
   "metadata": {},
   "source": [
    "# What is the Shell Even For?\n",
    "To kick off [with Wikipedia](https://en.wikipedia.org/wiki/Bash_(Unix_shell): \n",
    ">Bash is a command processor that typically runs in a text window, where the user types commands that cause actions. Bash can also read commands from a file, called a script. Like all Unix shells, it supports filename globbing (wildcard matching),piping, ... variables and control structures.... \n",
    "\n",
    "`Bash` and shells in general are heavily used for stuff in the realm of sys admin, like operating on files and commands such as configs or logs (see [this quora answer](https://www.quora.com/Can-Python-fully-replace-a-shell-script-such-as-Bash-or-zsh-in-Linux-administration)). But `Bash` is also very useful when most of what you're doing is communicating and piping between various specialized programs or tools (see [this stackoverflow](http://stackoverflow.com/questions/2872041/is-there-any-use-for-bash-scripting-anymore)) where it acts like a kind of [*glue* language](http://stackoverflow.com/questions/199331/is-it-worth-learning-bash-when-i-know-perl):\n",
    ">`Bash` epitomises the spirit of UNIX -- combining multiple simple tools to solve a more complex problem, usually using pipes to direct the output of one command to the input of the next... Bash still represent the Unix spirit of little languages - it is a language just for executing and connecting programs and it is extremely suitable for that.\n",
    "\n",
    "There is a large set of these specialized utilities that `Bash` integrates - `grep`, `awk`, `sed`, `scp`, and I've heard of most of these super adorable names, though I don't know what the hell they do. ([This article](http://practical-data-science.blogspot.com/2012/09/basic-unix-shell-commands-for-data.html) summarizes some of the more useful commands and command line tools for doing data science.) \n",
    "\n",
    "More to the point for my purposes, in contemplating using `Python` in place of `Bash`, [this stackoverflow response](http://stackoverflow.com/questions/2872041/is-there-any-use-for-bash-scripting-anymore) captures the fundamental difference:\n",
    "> Python is a general purpose scripting language, while `Bash` is simply a way to run a myriad of small (and often very fast) programs in a series. Python can do this, but it is not optimized for it. The programs (sort, find, uniq, scp) might do very complex tasks very simply, and bash allows these tasks to interoperate very simply with piping, flushing output in and out from files or devices etc.\n",
    "\n",
    "For data science work rather than hardcore sys admin, I'm optimistic that a large chunk of functionality can be efficiently implemented in `Python` rather than as `bash`. **My hope is that I can use `Python` with a few modules to replace a large chunk of the work done by these microtools. This makes my skillset more OS-agnostic and simplifies my toolbox.**  But, the first task is choosing a terminal environment."
   ]
  },
  {
   "cell_type": "markdown",
   "metadata": {},
   "source": [
    "# IPython as System Shell\n",
    "One of the most dominant `Python` terminals is [`IPython`](http://ipython.readthedocs.io/en/stable/interactive/shell.htmlhttp://ipython.readthedocs.io/en/stable/index.html) and it was actually built with [usage as system shell in mind](http://ipython.readthedocs.io/en/stable/interactive/shell.html)! This guy was the obvious candidate for what I wanted to do, and it conveniently ships standard with the Anaconda distribution of python. `IPython` is also the `Python` kernel for the awesome browser-based jupyter notebooks that I am literally writing this in right now. \n",
    "\n",
    "[This SE answer](https://unix.stackexchange.com/questions/4495/object-oriented-shell-for-nix/4497#4497) outlines the desired features of any system shell:\n",
    ">- Interactive usability: common commands should be short, text completion\n",
    "- Programming: data structures; concurrency (jobs, pipe, ...)\n",
    "- System access: working with files, processes, windows, databases, system configuration\n",
    "\n",
    "`IPython` was cunningly designed with the basic interactivity features (tab completion, command history). System access can be provided by a handful of modules, while programming functionality blows `Bash` out of the water because, umm, you're using Python. And since it was designed with system shell purposes in mind, `IPyton` actually aliases a handful of the common Bash commands (meaning you can just type them like you normally would in shell) such as `cd` and `ls`. \n",
    "\n",
    "Remember how I said I was writing this in jupyter notebook? That means I can show you what I'm babbling about:"
   ]
  },
  {
   "cell_type": "code",
   "execution_count": 22,
   "metadata": {
    "collapsed": false
   },
   "outputs": [
    {
     "name": "stdout",
     "output_type": "stream",
     "text": [
      "This is python...\n",
      "While this is a useful Bash alias:\n"
     ]
    }
   ],
   "source": [
    "print(\"This is python...\\nWhile this is a useful Bash alias:\")"
   ]
  },
  {
   "cell_type": "code",
   "execution_count": 23,
   "metadata": {
    "collapsed": false
   },
   "outputs": [
    {
     "data": {
      "text/plain": [
       "'/mnt/c/Users/Sonya/Documents/My Box Files/Projects/blog-bash'"
      ]
     },
     "execution_count": 23,
     "metadata": {},
     "output_type": "execute_result"
    }
   ],
   "source": [
    "pwd"
   ]
  },
  {
   "cell_type": "markdown",
   "metadata": {},
   "source": [
    "And here are all those useful `IPython` aliased commands I mentioned:"
   ]
  },
  {
   "cell_type": "code",
   "execution_count": 26,
   "metadata": {
    "collapsed": false
   },
   "outputs": [
    {
     "name": "stdout",
     "output_type": "stream",
     "text": [
      "Total number of aliases: 12\n"
     ]
    },
    {
     "data": {
      "text/plain": [
       "[('cat', 'cat'),\n",
       " ('cp', 'cp'),\n",
       " ('ldir', 'ls -F -o --color %l | grep /$'),\n",
       " ('lf', 'ls -F -o --color %l | grep ^-'),\n",
       " ('lk', 'ls -F -o --color %l | grep ^l'),\n",
       " ('ll', 'ls -F -o --color'),\n",
       " ('ls', 'ls -F --color'),\n",
       " ('lx', 'ls -F -o --color %l | grep ^-..x'),\n",
       " ('mkdir', 'mkdir'),\n",
       " ('mv', 'mv'),\n",
       " ('rm', 'rm'),\n",
       " ('rmdir', 'rmdir')]"
      ]
     },
     "execution_count": 26,
     "metadata": {},
     "output_type": "execute_result"
    }
   ],
   "source": [
    "%alias"
   ]
  },
  {
   "cell_type": "markdown",
   "metadata": {},
   "source": [
    "Another nifty feature is that any line you preface with a `!` is automatically shunted to your actual system shell for execution, meaning if you're running `Ipython` on Unix, you can seamlessly switch between executing `Bash` and Python commands without leaving the `IPython` terminal! That's *if* you are running on Unix... which on Windows is exactly what you are NOT doing. Which brings me to the next point."
   ]
  },
  {
   "cell_type": "markdown",
   "metadata": {},
   "source": [
    "# Get Ubuntu on Windows!\n",
    "The Linux Subsystem for Windows is a new (as in, still in Beta) feature for Windows 10 that provides a way to run Linux tools on a Windows machine. This feature defines a mapping between the Ubuntu operating system and Windows, which allows you to work with native Linux command line tools - that includes native `Bash`! Check out the [official FAQ for LSW](https://msdn.microsoft.com/en-us/commandline/wsl/faq) for more information. Following this [quick guide on getting this up and running](http://www.howtogeek.com/249966/how-to-install-and-use-the-linux-bash-shell-on-windows-10/), here is the gist of what you need to do:\n",
    "\n",
    "- Do you have Windows 10? If not, [get it](https://www.microsoft.com/en-us/accessibility/windows10upgrade). Else, proceed!\n",
    "- From `cmd` run `winver` to see if you have at least Version 1607 of Windows 10, and if not do:\n",
    "    - Check for updates in `Settings > Update & Security`\n",
    "    - Install the one called \"Feature update to Windows 10, version 1607\".\n",
    "    - Snack mindlessly while updates happen forever. It feels weird when you can't use your computer.\n",
    "- Go to `Settings > for Developers` and activate developer mode (this requires a restart).\n",
    "- Go to `Control Panel > Programs > Turn Windows Features On or Off` and turn on \"Linux Subsystem for Windows (Beta)\"\n",
    "- Run `cmd` and execute `lxrun /install /y` which installs Ubuntu on your subsystem\n",
    "- Run the new app called *Bash on Ubuntu on Windows*. You are now using Bash! On Windows! Is your mind blown?\n",
    "\n",
    "**In `bash` execute `cd /mnt/c/` to get to the Windows filesystem you know and love.** As a side note, if you want to use your windows system to access the files on the LSW then you need to open `cmd` and use `cd %LocalAppData%\\lxss` which will navigate you to the LSW files. Once you know where this is you can go there in the file explorer GUI, but keep in mind you will need to show hidden files. "
   ]
  },
  {
   "cell_type": "markdown",
   "metadata": {},
   "source": [
    "# Grab the Anconda Python Distro for Linux\n",
    "\n",
    "Ubuntu comes with `Python`, so you could start using it right off the bat in your new `Bash` terminal. But being aspiring data scientists we want all sorts of scientific computing goodies like `jupyter` notebooks. An easy way to get said goodies is to install the (most recent) Anaconda distro of Python for Linux following [this blog post](http://www.cgranade.com/blog/2016/08/22/qutip-on-wsl.html). In your shiny new `bash` shell:\n",
    "- `wget http://repo.continuum.io/archive/Anaconda3-4.0.0-Linux-x86_64.sh` (downloads a shell script for installation)\n",
    "    - This initially gave an error that I didn't have permission to write. You apparently can't just `sudo` in `bash` for Windows) so close and then restart `bash` by right-clicking on the app and choosing to `Run as Administrator`. \n",
    "- `bash Anaconda3-4.0.0-Linux-x86_64.sh` (runs the above shell script)\n",
    "- Follow the prompts and definitely say yes to prepend Anaconda root to your PATH.\n",
    "- Now restart your `Bash terminal`\n",
    "\n"
   ]
  },
  {
   "cell_type": "markdown",
   "metadata": {},
   "source": [
    "# Get Jupyter Working on Linux on Windows\n",
    "If you are full of naive optimism then you can now try to get a notebook running on your `Bash` terminal by:\n",
    "- `jupyter notebook --no-browser` (WSL doesn't support linux GUI applications, just command line)\n",
    "- Open your browser on Windows and point it to `http://localhost:8888`\n",
    "- Open or create a new notebook in the browser\n",
    "\n",
    "You probably see a dead kernel in your notebook and a bunch of failed connection errors in terminal? Perfect. But actually that's not how it's supposed to work. This bug is documented [here](https://github.com/jupyter/notebook/issues/1331) and [here](https://github.com/Microsoft/BashOnWindows/issues/185), with two different workarounds depending on whether your `jupyter` is coming via Anaconda or not. For more clarification from kickass user @aseering:\n",
    ">This bug is not a bug in Python. IPython (and Jupyter) Notebook are not pure Python; they contain some native code as well, and that native code links against some third-party native systemwide C libraries. The problem is a bug in one of those libraries, \"libzmq\". All versions of Notebook link libzmq. Because it's an independent system library, it doesn't matter what version of iPython/Jupyter you're using, nor what version of Python. But which libzmq do they link? The iPython that comes with Ubuntu uses the libzmq that comes with Ubuntu. I believe pip will try to use the system libzmq as well. My updated patch fixes Ubuntu's version of the library. Anaconda bundles their own copy of libzmq, so you have to use @jzuhone 's solution to get their fix.\n",
    "\n",
    "The solution by @jzuhone's that works for those of us that pulled down `jupyter` via Anaconda is to grab his fix by typing in our `Bash` terminal:"
   ]
  },
  {
   "cell_type": "code",
   "execution_count": 1,
   "metadata": {
    "collapsed": true
   },
   "outputs": [
    {
     "name": "stdout",
     "output_type": "stream",
     "text": [
      "Fetching package metadata .........\n",
      "Solving package specifications: .\n"
     ]
    },
    {
     "name": "stderr",
     "output_type": "stream",
     "text": [
      "Using Anaconda Cloud api site https://api.anaconda.org\n",
      "Error: Package missing in current win-64 channels: \n",
      "  - zeromq 4.1.dev0*\n",
      "\n",
      "You can search for packages on anaconda.org with\n",
      "\n",
      "    anaconda search -t conda zeromq\n"
     ]
    }
   ],
   "source": [
    "conda install -c jzuhone zeromq=4.1.dev0"
   ]
  },
  {
   "cell_type": "markdown",
   "metadata": {},
   "source": [
    "These people deserve a medal or some homemade cookies. They are heroes."
   ]
  },
  {
   "cell_type": "markdown",
   "metadata": {},
   "source": [
    "# Running IPython on Linux on Windows\n",
    "`Jupyter` notebooks are a great interface for certain tasks, but for daily command-line work I want to just be using the trusty old console. To enter the `IPython` console environment within the `Bash` shell, just type `IPython3`. Since we're actually running on Linux we can use the `!` magic command with real lines of `bash` rather than windows commands. Let us experiment within this notebook front-end "
   ]
  },
  {
   "cell_type": "code",
   "execution_count": 45,
   "metadata": {
    "collapsed": false
   },
   "outputs": [
    {
     "name": "stdout",
     "output_type": "stream",
     "text": [
      "/bin/sh: 1: /root/anaconda3/bin:/usr/local/sbin:/usr/local/bin:/usr/sbin:/usr/bin:/sbin:/bin: not found\r\n"
     ]
    }
   ],
   "source": [
    "! $PATH"
   ]
  },
  {
   "cell_type": "code",
   "execution_count": 46,
   "metadata": {
    "collapsed": false,
    "scrolled": true
   },
   "outputs": [
    {
     "name": "stdout",
     "output_type": "stream",
     "text": [
      "Is there anybody in here?\r\n"
     ]
    }
   ],
   "source": [
    "! echo \"Is there anybody in here?\""
   ]
  },
  {
   "cell_type": "markdown",
   "metadata": {
    "collapsed": true
   },
   "source": [
    "Super nifty! As a final exercise we'll install a spiffy command line microtool called `tree` that prints out a nice heirarchical picture of directory structures - just type `! get-apt install tree` and it should install itself. Usage is pretty self-explanatory:"
   ]
  },
  {
   "cell_type": "code",
   "execution_count": 68,
   "metadata": {
    "collapsed": false,
    "scrolled": false
   },
   "outputs": [
    {
     "name": "stdout",
     "output_type": "stream",
     "text": [
      "/mnt/c/Users/Sonya/Documents/My Box Files/Projects/blog-bash/mydir\n"
     ]
    }
   ],
   "source": [
    "cd /mnt/c/Users/Sonya/Documents/\"My Box Files\"/Projects/blog-bash/mydir"
   ]
  },
  {
   "cell_type": "code",
   "execution_count": 69,
   "metadata": {
    "collapsed": false,
    "scrolled": false
   },
   "outputs": [
    {
     "name": "stdout",
     "output_type": "stream",
     "text": [
      "\u001b[34;42m.\u001b[00m\r\n",
      "├── \u001b[34;42msubdir1\u001b[00m\r\n",
      "│   └── \u001b[01;32mtxt3.txt\u001b[00m\r\n",
      "├── \u001b[34;42msubdir2\u001b[00m\r\n",
      "│   ├── \u001b[34;42msubsubdir\u001b[00m\r\n",
      "│   │   └── \u001b[01;32mtxt1.txt\u001b[00m\r\n",
      "│   └── \u001b[01;32mtxt2.txt\u001b[00m\r\n",
      "└── \u001b[01;32mtxt4.txt\u001b[00m\r\n",
      "\r\n",
      "3 directories, 4 files\r\n"
     ]
    }
   ],
   "source": [
    "! tree"
   ]
  },
  {
   "cell_type": "markdown",
   "metadata": {},
   "source": [
    "You have now unlocked the full power of `Bash`... in a `Python` Terminal... on Linux... on Windows. Rejoice! \n",
    "\n",
    "Sadly people that was definitely the easy part of what I'm trying to do. The hard part is learning the python modules that can replicate a lot of common `bash` functionality. A final simple step will be customizing the `IPython` configuration so that when it launches it is all set up for this kind of work. All of that is left to Part 2."
   ]
  }
 ],
 "metadata": {
  "anaconda-cloud": {},
  "kernelspec": {
   "display_name": "Python 3",
   "language": "python",
   "name": "python3"
  },
  "language_info": {
   "codemirror_mode": {
    "name": "ipython",
    "version": 3
   },
   "file_extension": ".py",
   "mimetype": "text/x-python",
   "name": "python",
   "nbconvert_exporter": "python",
   "pygments_lexer": "ipython3",
   "version": "3.5.2"
  }
 },
 "nbformat": 4,
 "nbformat_minor": 0
}

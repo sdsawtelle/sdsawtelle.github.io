{
 "cells": [
  {
   "cell_type": "markdown",
   "metadata": {},
   "source": [
    "# In which I learn what people are doing with those black terminals, and brainstorm how I too can look like a cool hacker."
   ]
  },
  {
   "cell_type": "markdown",
   "metadata": {},
   "source": [
    "So, I have a Windows machine that I'm rather fond of. Maybe you do too. The unfortunate thing about this situation is that Unix shell (commonly `bash`) is much more common than Windows system shell in the quantitative computing universe. In the World of Windows we don't really have much of a culture around command line, and so I'm basically a giant command line noob. Once I began poking around in the data science ecosystem it became clear that this was a pretty large gap in my skill set. Not just the lack of `bash` language skills but also just the lack of command line in my work flow , and I was curious what I was missing. Turns out my timing on this issue is great, because the most recent update to Windows 10 rolled out a feature that is going to let me play around with native `bash` pretty seamlessly - it's called the [Windows Subystem for Linux](https://msdn.microsoft.com/en-us/commandline/wsl/faq) (WSL).\n",
    "\n",
    "Before getting freaky with `bash`, I'd like to point out that I *really* like the idea of my work flow being operating system agnostic. And I *really really* like the idea of minimizing the number of tools and languages I depend on. But at the same time I think I should have *some* degree of familiarity with `bash` because it's everywhere, and because I'm sure some things are just easier with the right `bash` one-liner or the right command line tool. So I'm trying to build a command line work flow that is *mostly* operating system agnostic (read: `Python`) while still learning some useful `bash` with this WSL voodoo.\n",
    "\n",
    "So this post is for Windows users doing scientific computing, and who are noobs at Unix command line but who want to fix that by playing with the new WSL, but who still want to do most stuff in Python not `bash`. Not counting myself that might be the empty set, I dunno. Anyway, here I'll describe what the hell `bash` even is and how `IPython` is actally a viable alternative console. Then I'll outline how to get your WSL up and running, and then how to get your Anaconda toolset up and running on top of it.\n",
    "\n",
    "I'll gradually build out the specific functionality in Python that can replace a lot of what `bash` is commonly used for, and I may put that into a later post."
   ]
  },
  {
   "cell_type": "markdown",
   "metadata": {},
   "source": [
    "# What is the Shell Even For?\n",
    "To kick off [with Wikipedia](https://en.wikipedia.org/wiki/Bash_(Unix_shell): \n",
    ">Bash is a command processor that typically runs in a text window, where the user types commands that cause actions. Bash can also read commands from a file, called a script. Like all Unix shells, it supports filename globbing (wildcard matching),piping, ... variables and control structures.... \n",
    "\n",
    "`Bash` and shells in general are heavily used for stuff in the realm of sys admin, like operating on files and commands such as configs or logs (see [this on quora](https://www.quora.com/Can-Python-fully-replace-a-shell-script-such-as-Bash-or-zsh-in-Linux-administration)). But `bash` is also very useful when most of what you're doing is communicating and piping between various specialized programs or tools (see [this on SO](http://stackoverflow.com/questions/2872041/is-there-any-use-for-bash-scripting-anymore)) where it acts like a kind of [*glue* language](http://stackoverflow.com/questions/199331/is-it-worth-learning-bash-when-i-know-perl):\n",
    ">`Bash` epitomises the spirit of UNIX -- combining multiple simple tools to solve a more complex problem, usually using pipes to direct the output of one command to the input of the next.\n",
    "\n",
    "There is a large set of these specialized utilities that `bash` integrates - `grep`, `awk`, `sed`, `scp`... I've heard of most of these super adorable names, though I don't know what they do. ([This article](http://practical-data-science.blogspot.com/2012/09/basic-unix-shell-commands-for-data.html) summarizes some of the more useful commands and command line tools for doing data science.) \n",
    "\n",
    "More to the point for my purposes, in contemplating using Python in place of `bash`, [this stackoverflow response](http://stackoverflow.com/a/2872171/4639070e) captures the fundamental difference:\n",
    "> ...python is a general purpose scripting language, while bash is simply a way to run a myriad of small (and often very fast) programs in a series. Python can do this, but it is not optimized for it. The programs (sort, find, uniq, scp) might do very complex tasks very simply, and bash allows these tasks to interoperate very simply with piping, flushing output in and out from files or devices etc.\n",
    "\n",
    "For data science work rather than hardcore sys admin, I'm optimistic that I can use Python with a few modules to replace a large chunk of the work done by these microtools. I think for my purposes it's mostly going to be working with files and directories, at least to start. So onward to choosing a terminal! "
   ]
  },
  {
   "cell_type": "markdown",
   "metadata": {},
   "source": [
    "# IPython as System Shell\n",
    "One of the most dominant Python terminals is [`IPython`](http://ipython.readthedocs.io/en/stable/interactive/shell.htmlhttp://ipython.readthedocs.io/en/stable/index.html) and it was actually built with [usage as system shell in mind](http://ipython.readthedocs.io/en/stable/interactive/shell.html)! This guy was the obvious candidate for what I wanted to do, and it conveniently ships standard with the Anaconda distribution of python. `IPython` is also the backend for the awesome browser-based jupyter notebooks that I am literally writing this in right now. \n",
    "\n",
    "[This SE answer](https://unix.stackexchange.com/questions/4495/object-oriented-shell-for-nix/4497#4497) outlines the desired features of any system shell:\n",
    ">- Interactive usability: common commands should be short, text completion\n",
    "- Programming: data structures; concurrency (jobs, pipe, ...)\n",
    "- System access: working with files, processes, windows, databases, system configuration\n",
    "\n",
    "`IPython` was cunningly designed with interactivity features (tab completion, command history), and system access can be provided by a handful of Python modules. As far as programming functionality, it's blowing `bash` out of the water because, umm, you're using Python. And since it was designed with system shell purposes in mind, `IPython` actually aliases a handful of the common Bash commands (meaning you can just type them like you normally would in shell) such as `cd` and `ls`. \n",
    "\n",
    "Since I'm writing this in jupyter notebook I can show you what I'm babbling about:"
   ]
  },
  {
   "cell_type": "code",
   "execution_count": 6,
   "metadata": {
    "collapsed": false
   },
   "outputs": [
    {
     "name": "stdout",
     "output_type": "stream",
     "text": [
      "This is python...\n",
      "While this is a useful Bash alias:\n"
     ]
    }
   ],
   "source": [
    "print(\"This is python...\\nWhile this is a useful Bash alias:\")"
   ]
  },
  {
   "cell_type": "code",
   "execution_count": 7,
   "metadata": {
    "collapsed": false
   },
   "outputs": [
    {
     "data": {
      "text/plain": [
       "'/mnt/c/Users/Sonya/Box Sync/Projects/web-data-science-blog/post-bash/mydir'"
      ]
     },
     "execution_count": 7,
     "metadata": {},
     "output_type": "execute_result"
    }
   ],
   "source": [
    "pwd"
   ]
  },
  {
   "cell_type": "markdown",
   "metadata": {},
   "source": [
    "And here are all those useful `IPython` aliased commands I mentioned (plus you can add your own custom ones):"
   ]
  },
  {
   "cell_type": "code",
   "execution_count": 8,
   "metadata": {
    "collapsed": false
   },
   "outputs": [
    {
     "name": "stdout",
     "output_type": "stream",
     "text": [
      "Total number of aliases: 12\n"
     ]
    },
    {
     "data": {
      "text/plain": [
       "[('cat', 'cat'),\n",
       " ('cp', 'cp'),\n",
       " ('ldir', 'ls -F -o --color %l | grep /$'),\n",
       " ('lf', 'ls -F -o --color %l | grep ^-'),\n",
       " ('lk', 'ls -F -o --color %l | grep ^l'),\n",
       " ('ll', 'ls -F -o --color'),\n",
       " ('ls', 'ls -F --color'),\n",
       " ('lx', 'ls -F -o --color %l | grep ^-..x'),\n",
       " ('mkdir', 'mkdir'),\n",
       " ('mv', 'mv'),\n",
       " ('rm', 'rm'),\n",
       " ('rmdir', 'rmdir')]"
      ]
     },
     "execution_count": 8,
     "metadata": {},
     "output_type": "execute_result"
    }
   ],
   "source": [
    "%alias"
   ]
  },
  {
   "cell_type": "markdown",
   "metadata": {},
   "source": [
    "Another nifty feature is that any line you preface with a `!` is automatically shunted to your actual system shell for execution, meaning if you're running `Ipython` on Unix, you can seamlessly switch between executing `bash` and Python commands without leaving the `IPython` terminal! That's *if* you are running on Unix... which on Windows is exactly what you are NOT doing. Which brings me to the next point."
   ]
  },
  {
   "cell_type": "markdown",
   "metadata": {},
   "source": [
    "# Get Ubuntu on Windows!\n",
    "The Linux Subsystem for Windows is a new (as in, still in Beta) feature for Windows 10 that provides a way to run Linux tools on a Windows machine. This feature defines a mapping between the Ubuntu operating system and Windows, which allows you to work with native Linux command line tools - that includes native `bash`! Check out the [official FAQ for WSL](https://msdn.microsoft.com/en-us/commandline/wsl/faq) for more information. Following [this quick guide](http://www.howtogeek.com/249966/how-to-install-and-use-the-linux-bash-shell-on-windows-10/), here is the gist of what you need to do to get it up and running:\n",
    "\n",
    "- Do you have Windows 10? If not, [get it](https://www.microsoft.com/en-us/accessibility/windows10upgrade). Else, proceed!\n",
    "- From `cmd` run `winver` to see if you have at least Version 1607 of Windows 10, and if not do:\n",
    "    - Check for updates in `Settings > Update & Security`\n",
    "    - Install the one called \"Feature update to Windows 10, version 1607\".\n",
    "    - Snack mindlessly while updates happen forever. It feels weird when you can't use your computer.\n",
    "- Go to `Settings > for Developers` and activate developer mode (this requires a restart).\n",
    "- Go to `Control Panel > Programs > Turn Windows Features On or Off` and turn on \"Linux Subsystem for Windows (Beta)\"\n",
    "- Run `cmd` and execute `lxrun /install /y` which installs Ubuntu on your subsystem\n",
    "- Run the new app called *Bash on Ubuntu on Windows*. You are now using Bash! On Windows! Is your mind blown?\n",
    "\n",
    "**In `bash` execute `cd /mnt/c/` to get to the Windows filesystem you know and love.** As a side note, if you want to use your windows system to access the files on the WSL then you need to open `cmd` and use `cd %LocalAppData%\\lxss` which will navigate you to the WSL files. Once you know where this is you can go there in the file explorer GUI, but keep in mind you will need to show hidden files. "
   ]
  },
  {
   "cell_type": "markdown",
   "metadata": {},
   "source": [
    "# Grab the Anconda Python Distro for Linux\n",
    "\n",
    "Ubuntu comes with Python, so you could start using it right off the bat in your new `bash` terminal. But being aspiring data scientists we want all sorts of scientific computing goodies like `jupyter` notebooks. An easy way to get said goodies is to install the (most recent) Anaconda distro of Python for Linux following [this blog post](http://www.cgranade.com/blog/2016/08/22/qutip-on-wsl.html). In your shiny new `bash` shell:\n",
    "- `wget http://repo.continuum.io/archive/Anaconda3-4.0.0-Linux-x86_64.sh` (downloads a shell script for installation)\n",
    "    - This initially gave an error that I didn't have permission to write. You apparently can't just `sudo` in WSL, so close and then restart bash by right-clicking on the app and choosing to \"Run as Administrator\". \n",
    "- `bash Anaconda3-4.0.0-Linux-x86_64.sh` (runs the above shell script)\n",
    "- Follow the prompts and definitely say yes to prepend Anaconda root to your PATH.\n",
    "- Now restart your `Bash terminal`\n",
    "\n",
    "You just used your first native Linux utility by the way - `wget` is a native Linux command line utility for pulling files down from the web!"
   ]
  },
  {
   "cell_type": "markdown",
   "metadata": {},
   "source": [
    "# Get Jupyter Working on Linux on Windows\n",
    "If you are full of naive optimism then you can now try to get a notebook running on your `bash` terminal by:\n",
    "- `jupyter notebook --no-browser` (WSL doesn't support linux graphical applications, just command line for now)\n",
    "- Open your browser on Windows and point it to `http://localhost:8888`\n",
    "- Open or create a new notebook in the browser\n",
    "\n",
    "You probably see a dead kernel in your notebook and a bunch of failed connection errors in terminal? Perfect. But, actually no, that's not how it's supposed to work. This bug is documented [here](https://github.com/jupyter/notebook/issues/1331) and [here](https://github.com/Microsoft/BashOnWindows/issues/185), with two different workarounds depending on whether your `jupyter` is coming via Anaconda or not. For more clarification from kickass user @aseering:\n",
    ">This bug is not a bug in Python. IPython (and Jupyter) Notebook are not pure Python; they contain some native code as well, and that native code links against some third-party native systemwide C libraries. The problem is a bug in one of those libraries, \"libzmq\". All versions of Notebook link libzmq. Because it's an independent system library, it doesn't matter what version of iPython/Jupyter you're using, nor what version of Python. But which libzmq do they link? The iPython that comes with Ubuntu uses the libzmq that comes with Ubuntu. I believe pip will try to use the system libzmq as well. My updated patch fixes Ubuntu's version of the library. Anaconda bundles their own copy of libzmq, so you have to use @jzuhone 's solution to get their fix.\n",
    "\n",
    "The solution by @jzuhone's that works for those of us that pulled down `jupyter` via Anaconda is to grab his fix by typing in our `bash` terminal `conda install -c jzuhone zeromq=4.1.dev0`. (Conda is the python package manager that comes in the Anaconda bundle.)\n",
    "\n",
    "These people are seriously heroes, lets make them some cookies or something."
   ]
  },
  {
   "cell_type": "markdown",
   "metadata": {},
   "source": [
    "# Running IPython on Linux on Windows\n",
    "`Jupyter` notebooks are a great interface for certain tasks, but for daily command-line work I want to just be using the trusty old console. To enter the `IPython` console environment within the `bash` shell, just type `IPython3`. Since we're actually running on Linux we can use the `!` magic command with real lines of `bash` rather than windows commands. Let us experiment within this notebook front-end:"
   ]
  },
  {
   "cell_type": "code",
   "execution_count": 9,
   "metadata": {
    "collapsed": false
   },
   "outputs": [
    {
     "name": "stdout",
     "output_type": "stream",
     "text": [
      "/bin/sh: 1: /root/anaconda3/bin:/usr/local/sbin:/usr/local/bin:/usr/sbin:/usr/bin:/sbin:/bin: not found\r\n"
     ]
    }
   ],
   "source": [
    "! $PATH"
   ]
  },
  {
   "cell_type": "code",
   "execution_count": 10,
   "metadata": {
    "collapsed": false,
    "scrolled": true
   },
   "outputs": [
    {
     "name": "stdout",
     "output_type": "stream",
     "text": [
      "Is there anybody in here?\r\n"
     ]
    }
   ],
   "source": [
    "! echo \"Is there anybody in here?\""
   ]
  },
  {
   "cell_type": "markdown",
   "metadata": {
    "collapsed": true
   },
   "source": [
    "Super nifty! As a final exercise we'll install a command line microtool called `tree` that prints out a nice heirarchical picture of directory structures - just type `! get-apt install tree` and it should install itself. (`apt-get` is another native linux utility, it's the main tool for linux package management.) \n",
    "\n",
    "Usage of `tree` is pretty self-explanatory..."
   ]
  },
  {
   "cell_type": "code",
   "execution_count": 20,
   "metadata": {
    "collapsed": false,
    "scrolled": false
   },
   "outputs": [
    {
     "name": "stdout",
     "output_type": "stream",
     "text": [
      "/mnt/c/Users/Sonya/Box Sync/Projects/web-data-science-blog/post-bash/mydir\n"
     ]
    }
   ],
   "source": [
    "cd mydir"
   ]
  },
  {
   "cell_type": "code",
   "execution_count": 7,
   "metadata": {
    "collapsed": false,
    "scrolled": false
   },
   "outputs": [
    {
     "name": "stdout",
     "output_type": "stream",
     "text": [
      "\u001b[34;42m.\u001b[00m\r\n",
      "├── \u001b[34;42mmydir\u001b[00m\r\n",
      "│   ├── \u001b[34;42msubdir1\u001b[00m\r\n",
      "│   │   └── \u001b[01;32mtxt3.txt\u001b[00m\r\n",
      "│   ├── \u001b[34;42msubdir2\u001b[00m\r\n",
      "│   │   ├── \u001b[34;42msubsubdir\u001b[00m\r\n",
      "│   │   │   └── \u001b[01;32mtxt1.txt\u001b[00m\r\n",
      "│   │   └── \u001b[01;32mtxt2.txt\u001b[00m\r\n",
      "│   └── \u001b[01;32mtxt4.txt\u001b[00m\r\n",
      "├── \u001b[34;42mmydir_clean_copy\u001b[00m\r\n",
      "│   ├── \u001b[34;42msubdir1\u001b[00m\r\n",
      "│   │   └── \u001b[01;32mtxt3.txt\u001b[00m\r\n",
      "│   ├── \u001b[34;42msubdir2\u001b[00m\r\n",
      "│   │   ├── \u001b[34;42msubsubdir\u001b[00m\r\n",
      "│   │   │   └── \u001b[01;32mtxt1.txt\u001b[00m\r\n",
      "│   │   └── \u001b[01;32mtxt2.txt\u001b[00m\r\n",
      "│   └── \u001b[01;32mtxt4.txt\u001b[00m\r\n",
      "├── \u001b[01;32mpost-bash.ipynb\u001b[00m\r\n",
      "└── \u001b[01;32msys_shell.txt\u001b[00m\r\n",
      "\r\n",
      "8 directories, 10 files\r\n"
     ]
    }
   ],
   "source": [
    "! tree"
   ]
  },
  {
   "cell_type": "markdown",
   "metadata": {},
   "source": [
    "You have now unlocked the full power of `Bash`... in a `Python` Terminal... on Linux... on Windows. Rejoice! \n",
    "\n",
    "Sadly people that was definitely the easy part of what I'm trying to do. The hard part is learning the python modules that can replicate some common `bash` functionality, and as I mentioned that might be part of later post. I also want to customize the `IPython` configuration so that when it launches it is all set up for this kind of work. Wish me luck!"
   ]
  }
 ],
 "metadata": {
  "anaconda-cloud": {},
  "kernelspec": {
   "display_name": "Python 3",
   "language": "python",
   "name": "python3"
  },
  "language_info": {
   "codemirror_mode": {
    "name": "ipython",
    "version": 3
   },
   "file_extension": ".py",
   "mimetype": "text/x-python",
   "name": "python",
   "nbconvert_exporter": "python",
   "pygments_lexer": "ipython3",
   "version": "3.5.2"
  }
 },
 "nbformat": 4,
 "nbformat_minor": 0
}

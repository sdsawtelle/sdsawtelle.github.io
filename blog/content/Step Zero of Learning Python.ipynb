{
 "cells": [
  {
   "cell_type": "markdown",
   "metadata": {},
   "source": [
    "This would be a writeup that would be a really really shallow discussion of the python execution model.\n",
    "\n",
    "It would start by explaining about objects being chunks of stuff at a specific physical location in memory. \n",
    "\n",
    "Then it would talk about how the assignment operator really just creates and moves around tags/handles/labels\n",
    "\n",
    "Then it would talk about immutable and mutable objects in memory\n",
    "\n",
    "Then it would talk about how everything is an object!"
   ]
  }
 ],
 "metadata": {
  "name": "Super iPython NB",
  "Title": "Blogging with iPython notebooks in pelican",
  "Date": "2013-2-16",
  "Category": "Category",
  "Tags": "tag2, tag2",
  "slug": "slug-slug-slug",
  "Author": "Me",
  "kernelspec": {
   "display_name": "Python 2",
   "language": "python",
   "name": "python2"
  },
  "language_info": {
   "codemirror_mode": {
    "name": "ipython",
    "version": 2
   },
   "file_extension": ".py",
   "mimetype": "text/x-python",
   "name": "python",
   "nbconvert_exporter": "python",
   "pygments_lexer": "ipython2",
   "version": "2.7.8"
  }
 },
 "nbformat": 4,
 "nbformat_minor": 0
}
